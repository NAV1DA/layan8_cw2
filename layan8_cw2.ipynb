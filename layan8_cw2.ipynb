{
 "cells": [
  {
   "cell_type": "code",
   "execution_count": 1,
   "id": "f69e7d8d-b14e-44aa-b992-de4cbf974c9a",
   "metadata": {},
   "outputs": [],
   "source": [
    "import numpy as np\n",
    "import pandas as pd\n",
    "import matplotlib.pyplot as plt\n",
    "import seaborn as sns\n",
    "import plotly.express as px"
   ]
  },
  {
   "cell_type": "code",
   "execution_count": 4,
   "id": "62463097-5aea-41ae-b5cf-7debd2ce1e84",
   "metadata": {},
   "outputs": [
    {
     "data": {
      "text/html": [
       "<div>\n",
       "<style scoped>\n",
       "    .dataframe tbody tr th:only-of-type {\n",
       "        vertical-align: middle;\n",
       "    }\n",
       "\n",
       "    .dataframe tbody tr th {\n",
       "        vertical-align: top;\n",
       "    }\n",
       "\n",
       "    .dataframe thead th {\n",
       "        text-align: right;\n",
       "    }\n",
       "</style>\n",
       "<table border=\"1\" class=\"dataframe\">\n",
       "  <thead>\n",
       "    <tr style=\"text-align: right;\">\n",
       "      <th></th>\n",
       "      <th>mc_run_id</th>\n",
       "      <th>grouping</th>\n",
       "      <th>mean_ghgs</th>\n",
       "      <th>mean_land</th>\n",
       "      <th>mean_watscar</th>\n",
       "      <th>mean_eut</th>\n",
       "      <th>mean_ghgs_ch4</th>\n",
       "      <th>mean_ghgs_n2o</th>\n",
       "      <th>mean_bio</th>\n",
       "      <th>mean_watuse</th>\n",
       "      <th>...</th>\n",
       "      <th>sd_eut</th>\n",
       "      <th>sd_ghgs_ch4</th>\n",
       "      <th>sd_ghgs_n2o</th>\n",
       "      <th>sd_bio</th>\n",
       "      <th>sd_watuse</th>\n",
       "      <th>sd_acid</th>\n",
       "      <th>n_participants</th>\n",
       "      <th>sex</th>\n",
       "      <th>diet_group</th>\n",
       "      <th>age_group</th>\n",
       "    </tr>\n",
       "  </thead>\n",
       "  <tbody>\n",
       "    <tr>\n",
       "      <th>0</th>\n",
       "      <td>1</td>\n",
       "      <td>fish_female_20-29</td>\n",
       "      <td>5.421821</td>\n",
       "      <td>8.612772</td>\n",
       "      <td>14165.86240</td>\n",
       "      <td>23.945372</td>\n",
       "      <td>1.164643</td>\n",
       "      <td>0.343663</td>\n",
       "      <td>476.270413</td>\n",
       "      <td>679.923479</td>\n",
       "      <td>...</td>\n",
       "      <td>8.167013</td>\n",
       "      <td>0.632547</td>\n",
       "      <td>0.146827</td>\n",
       "      <td>283.883428</td>\n",
       "      <td>249.472563</td>\n",
       "      <td>8.231176</td>\n",
       "      <td>1329</td>\n",
       "      <td>female</td>\n",
       "      <td>fish</td>\n",
       "      <td>20-29</td>\n",
       "    </tr>\n",
       "    <tr>\n",
       "      <th>1</th>\n",
       "      <td>1</td>\n",
       "      <td>fish_female_30-39</td>\n",
       "      <td>5.436673</td>\n",
       "      <td>8.680248</td>\n",
       "      <td>15222.77063</td>\n",
       "      <td>24.305262</td>\n",
       "      <td>1.154118</td>\n",
       "      <td>0.326868</td>\n",
       "      <td>467.923201</td>\n",
       "      <td>709.343785</td>\n",
       "      <td>...</td>\n",
       "      <td>8.467858</td>\n",
       "      <td>0.601941</td>\n",
       "      <td>0.130298</td>\n",
       "      <td>270.247108</td>\n",
       "      <td>277.927269</td>\n",
       "      <td>7.947014</td>\n",
       "      <td>2024</td>\n",
       "      <td>female</td>\n",
       "      <td>fish</td>\n",
       "      <td>30-39</td>\n",
       "    </tr>\n",
       "    <tr>\n",
       "      <th>2</th>\n",
       "      <td>1</td>\n",
       "      <td>fish_female_40-49</td>\n",
       "      <td>5.289333</td>\n",
       "      <td>8.467723</td>\n",
       "      <td>15818.80068</td>\n",
       "      <td>24.191105</td>\n",
       "      <td>1.108404</td>\n",
       "      <td>0.310324</td>\n",
       "      <td>438.659832</td>\n",
       "      <td>707.925368</td>\n",
       "      <td>...</td>\n",
       "      <td>8.107006</td>\n",
       "      <td>0.572941</td>\n",
       "      <td>0.119872</td>\n",
       "      <td>252.415063</td>\n",
       "      <td>275.760515</td>\n",
       "      <td>8.103589</td>\n",
       "      <td>1689</td>\n",
       "      <td>female</td>\n",
       "      <td>fish</td>\n",
       "      <td>40-49</td>\n",
       "    </tr>\n",
       "    <tr>\n",
       "      <th>3</th>\n",
       "      <td>1</td>\n",
       "      <td>fish_female_50-59</td>\n",
       "      <td>5.169020</td>\n",
       "      <td>8.219199</td>\n",
       "      <td>16962.06009</td>\n",
       "      <td>24.748154</td>\n",
       "      <td>1.032501</td>\n",
       "      <td>0.298130</td>\n",
       "      <td>395.787622</td>\n",
       "      <td>720.825105</td>\n",
       "      <td>...</td>\n",
       "      <td>9.514028</td>\n",
       "      <td>0.509689</td>\n",
       "      <td>0.104731</td>\n",
       "      <td>209.566722</td>\n",
       "      <td>310.422445</td>\n",
       "      <td>8.712428</td>\n",
       "      <td>946</td>\n",
       "      <td>female</td>\n",
       "      <td>fish</td>\n",
       "      <td>50-59</td>\n",
       "    </tr>\n",
       "    <tr>\n",
       "      <th>4</th>\n",
       "      <td>1</td>\n",
       "      <td>fish_female_60-69</td>\n",
       "      <td>5.380268</td>\n",
       "      <td>8.570718</td>\n",
       "      <td>18212.66232</td>\n",
       "      <td>25.559430</td>\n",
       "      <td>1.098828</td>\n",
       "      <td>0.310735</td>\n",
       "      <td>421.176867</td>\n",
       "      <td>749.392826</td>\n",
       "      <td>...</td>\n",
       "      <td>9.258068</td>\n",
       "      <td>0.609398</td>\n",
       "      <td>0.113401</td>\n",
       "      <td>264.599257</td>\n",
       "      <td>315.922570</td>\n",
       "      <td>8.616601</td>\n",
       "      <td>492</td>\n",
       "      <td>female</td>\n",
       "      <td>fish</td>\n",
       "      <td>60-69</td>\n",
       "    </tr>\n",
       "  </tbody>\n",
       "</table>\n",
       "<p>5 rows × 24 columns</p>\n",
       "</div>"
      ],
      "text/plain": [
       "   mc_run_id           grouping  mean_ghgs  mean_land  mean_watscar  \\\n",
       "0          1  fish_female_20-29   5.421821   8.612772   14165.86240   \n",
       "1          1  fish_female_30-39   5.436673   8.680248   15222.77063   \n",
       "2          1  fish_female_40-49   5.289333   8.467723   15818.80068   \n",
       "3          1  fish_female_50-59   5.169020   8.219199   16962.06009   \n",
       "4          1  fish_female_60-69   5.380268   8.570718   18212.66232   \n",
       "\n",
       "    mean_eut  mean_ghgs_ch4  mean_ghgs_n2o    mean_bio  mean_watuse  ...  \\\n",
       "0  23.945372       1.164643       0.343663  476.270413   679.923479  ...   \n",
       "1  24.305262       1.154118       0.326868  467.923201   709.343785  ...   \n",
       "2  24.191105       1.108404       0.310324  438.659832   707.925368  ...   \n",
       "3  24.748154       1.032501       0.298130  395.787622   720.825105  ...   \n",
       "4  25.559430       1.098828       0.310735  421.176867   749.392826  ...   \n",
       "\n",
       "     sd_eut  sd_ghgs_ch4  sd_ghgs_n2o      sd_bio   sd_watuse   sd_acid  \\\n",
       "0  8.167013     0.632547     0.146827  283.883428  249.472563  8.231176   \n",
       "1  8.467858     0.601941     0.130298  270.247108  277.927269  7.947014   \n",
       "2  8.107006     0.572941     0.119872  252.415063  275.760515  8.103589   \n",
       "3  9.514028     0.509689     0.104731  209.566722  310.422445  8.712428   \n",
       "4  9.258068     0.609398     0.113401  264.599257  315.922570  8.616601   \n",
       "\n",
       "   n_participants     sex  diet_group  age_group  \n",
       "0            1329  female        fish      20-29  \n",
       "1            2024  female        fish      30-39  \n",
       "2            1689  female        fish      40-49  \n",
       "3             946  female        fish      50-59  \n",
       "4             492  female        fish      60-69  \n",
       "\n",
       "[5 rows x 24 columns]"
      ]
     },
     "execution_count": 4,
     "metadata": {},
     "output_type": "execute_result"
    }
   ],
   "source": [
    "df = pd.read_csv('Results_21Mar2022.csv')\n",
    "df.head()"
   ]
  },
  {
   "cell_type": "code",
   "execution_count": 5,
   "id": "74119a94-b3f2-4eed-a1cf-b797312b3b43",
   "metadata": {},
   "outputs": [],
   "source": [
    "df.drop(columns=['mc_run_id'], inplace=True)"
   ]
  },
  {
   "cell_type": "code",
   "execution_count": 6,
   "id": "fc623743-5c2d-4857-801a-b558b5ed3a1f",
   "metadata": {},
   "outputs": [
    {
     "data": {
      "text/html": [
       "<div>\n",
       "<style scoped>\n",
       "    .dataframe tbody tr th:only-of-type {\n",
       "        vertical-align: middle;\n",
       "    }\n",
       "\n",
       "    .dataframe tbody tr th {\n",
       "        vertical-align: top;\n",
       "    }\n",
       "\n",
       "    .dataframe thead th {\n",
       "        text-align: right;\n",
       "    }\n",
       "</style>\n",
       "<table border=\"1\" class=\"dataframe\">\n",
       "  <thead>\n",
       "    <tr style=\"text-align: right;\">\n",
       "      <th></th>\n",
       "      <th>grouping</th>\n",
       "      <th>mean_ghgs</th>\n",
       "      <th>mean_land</th>\n",
       "      <th>mean_watscar</th>\n",
       "      <th>mean_eut</th>\n",
       "      <th>mean_ghgs_ch4</th>\n",
       "      <th>mean_ghgs_n2o</th>\n",
       "      <th>mean_bio</th>\n",
       "      <th>mean_watuse</th>\n",
       "      <th>mean_acid</th>\n",
       "      <th>...</th>\n",
       "      <th>sd_eut</th>\n",
       "      <th>sd_ghgs_ch4</th>\n",
       "      <th>sd_ghgs_n2o</th>\n",
       "      <th>sd_bio</th>\n",
       "      <th>sd_watuse</th>\n",
       "      <th>sd_acid</th>\n",
       "      <th>n_participants</th>\n",
       "      <th>sex</th>\n",
       "      <th>diet_group</th>\n",
       "      <th>age_group</th>\n",
       "    </tr>\n",
       "  </thead>\n",
       "  <tbody>\n",
       "    <tr>\n",
       "      <th>0</th>\n",
       "      <td>fish_female_20-29</td>\n",
       "      <td>5.421821</td>\n",
       "      <td>8.612772</td>\n",
       "      <td>14165.86240</td>\n",
       "      <td>23.945372</td>\n",
       "      <td>1.164643</td>\n",
       "      <td>0.343663</td>\n",
       "      <td>476.270413</td>\n",
       "      <td>679.923479</td>\n",
       "      <td>23.439196</td>\n",
       "      <td>...</td>\n",
       "      <td>8.167013</td>\n",
       "      <td>0.632547</td>\n",
       "      <td>0.146827</td>\n",
       "      <td>283.883428</td>\n",
       "      <td>249.472563</td>\n",
       "      <td>8.231176</td>\n",
       "      <td>1329</td>\n",
       "      <td>female</td>\n",
       "      <td>fish</td>\n",
       "      <td>20-29</td>\n",
       "    </tr>\n",
       "    <tr>\n",
       "      <th>1</th>\n",
       "      <td>fish_female_30-39</td>\n",
       "      <td>5.436673</td>\n",
       "      <td>8.680248</td>\n",
       "      <td>15222.77063</td>\n",
       "      <td>24.305262</td>\n",
       "      <td>1.154118</td>\n",
       "      <td>0.326868</td>\n",
       "      <td>467.923201</td>\n",
       "      <td>709.343785</td>\n",
       "      <td>24.166260</td>\n",
       "      <td>...</td>\n",
       "      <td>8.467858</td>\n",
       "      <td>0.601941</td>\n",
       "      <td>0.130298</td>\n",
       "      <td>270.247108</td>\n",
       "      <td>277.927269</td>\n",
       "      <td>7.947014</td>\n",
       "      <td>2024</td>\n",
       "      <td>female</td>\n",
       "      <td>fish</td>\n",
       "      <td>30-39</td>\n",
       "    </tr>\n",
       "    <tr>\n",
       "      <th>2</th>\n",
       "      <td>fish_female_40-49</td>\n",
       "      <td>5.289333</td>\n",
       "      <td>8.467723</td>\n",
       "      <td>15818.80068</td>\n",
       "      <td>24.191105</td>\n",
       "      <td>1.108404</td>\n",
       "      <td>0.310324</td>\n",
       "      <td>438.659832</td>\n",
       "      <td>707.925368</td>\n",
       "      <td>24.597700</td>\n",
       "      <td>...</td>\n",
       "      <td>8.107006</td>\n",
       "      <td>0.572941</td>\n",
       "      <td>0.119872</td>\n",
       "      <td>252.415063</td>\n",
       "      <td>275.760515</td>\n",
       "      <td>8.103589</td>\n",
       "      <td>1689</td>\n",
       "      <td>female</td>\n",
       "      <td>fish</td>\n",
       "      <td>40-49</td>\n",
       "    </tr>\n",
       "    <tr>\n",
       "      <th>3</th>\n",
       "      <td>fish_female_50-59</td>\n",
       "      <td>5.169020</td>\n",
       "      <td>8.219199</td>\n",
       "      <td>16962.06009</td>\n",
       "      <td>24.748154</td>\n",
       "      <td>1.032501</td>\n",
       "      <td>0.298130</td>\n",
       "      <td>395.787622</td>\n",
       "      <td>720.825105</td>\n",
       "      <td>25.004637</td>\n",
       "      <td>...</td>\n",
       "      <td>9.514028</td>\n",
       "      <td>0.509689</td>\n",
       "      <td>0.104731</td>\n",
       "      <td>209.566722</td>\n",
       "      <td>310.422445</td>\n",
       "      <td>8.712428</td>\n",
       "      <td>946</td>\n",
       "      <td>female</td>\n",
       "      <td>fish</td>\n",
       "      <td>50-59</td>\n",
       "    </tr>\n",
       "    <tr>\n",
       "      <th>4</th>\n",
       "      <td>fish_female_60-69</td>\n",
       "      <td>5.380268</td>\n",
       "      <td>8.570718</td>\n",
       "      <td>18212.66232</td>\n",
       "      <td>25.559430</td>\n",
       "      <td>1.098828</td>\n",
       "      <td>0.310735</td>\n",
       "      <td>421.176867</td>\n",
       "      <td>749.392826</td>\n",
       "      <td>26.048737</td>\n",
       "      <td>...</td>\n",
       "      <td>9.258068</td>\n",
       "      <td>0.609398</td>\n",
       "      <td>0.113401</td>\n",
       "      <td>264.599257</td>\n",
       "      <td>315.922570</td>\n",
       "      <td>8.616601</td>\n",
       "      <td>492</td>\n",
       "      <td>female</td>\n",
       "      <td>fish</td>\n",
       "      <td>60-69</td>\n",
       "    </tr>\n",
       "  </tbody>\n",
       "</table>\n",
       "<p>5 rows × 23 columns</p>\n",
       "</div>"
      ],
      "text/plain": [
       "            grouping  mean_ghgs  mean_land  mean_watscar   mean_eut  \\\n",
       "0  fish_female_20-29   5.421821   8.612772   14165.86240  23.945372   \n",
       "1  fish_female_30-39   5.436673   8.680248   15222.77063  24.305262   \n",
       "2  fish_female_40-49   5.289333   8.467723   15818.80068  24.191105   \n",
       "3  fish_female_50-59   5.169020   8.219199   16962.06009  24.748154   \n",
       "4  fish_female_60-69   5.380268   8.570718   18212.66232  25.559430   \n",
       "\n",
       "   mean_ghgs_ch4  mean_ghgs_n2o    mean_bio  mean_watuse  mean_acid  ...  \\\n",
       "0       1.164643       0.343663  476.270413   679.923479  23.439196  ...   \n",
       "1       1.154118       0.326868  467.923201   709.343785  24.166260  ...   \n",
       "2       1.108404       0.310324  438.659832   707.925368  24.597700  ...   \n",
       "3       1.032501       0.298130  395.787622   720.825105  25.004637  ...   \n",
       "4       1.098828       0.310735  421.176867   749.392826  26.048737  ...   \n",
       "\n",
       "     sd_eut  sd_ghgs_ch4  sd_ghgs_n2o      sd_bio   sd_watuse   sd_acid  \\\n",
       "0  8.167013     0.632547     0.146827  283.883428  249.472563  8.231176   \n",
       "1  8.467858     0.601941     0.130298  270.247108  277.927269  7.947014   \n",
       "2  8.107006     0.572941     0.119872  252.415063  275.760515  8.103589   \n",
       "3  9.514028     0.509689     0.104731  209.566722  310.422445  8.712428   \n",
       "4  9.258068     0.609398     0.113401  264.599257  315.922570  8.616601   \n",
       "\n",
       "   n_participants     sex  diet_group  age_group  \n",
       "0            1329  female        fish      20-29  \n",
       "1            2024  female        fish      30-39  \n",
       "2            1689  female        fish      40-49  \n",
       "3             946  female        fish      50-59  \n",
       "4             492  female        fish      60-69  \n",
       "\n",
       "[5 rows x 23 columns]"
      ]
     },
     "execution_count": 6,
     "metadata": {},
     "output_type": "execute_result"
    }
   ],
   "source": [
    "df.head()"
   ]
  },
  {
   "cell_type": "code",
   "execution_count": 7,
   "id": "3b97593b-ec07-43ee-9ea1-73d7c0443659",
   "metadata": {},
   "outputs": [
    {
     "name": "stdout",
     "output_type": "stream",
     "text": [
      "grouping\n",
      "fish_female_20-29    1329\n",
      "fish_female_30-39    2024\n",
      "fish_female_40-49    1689\n",
      "fish_female_50-59     946\n",
      "fish_female_60-69     492\n",
      "                     ... \n",
      "veggie_male_30-39    1221\n",
      "veggie_male_40-49     961\n",
      "veggie_male_50-59     426\n",
      "veggie_male_60-69     229\n",
      "veggie_male_70-79     158\n",
      "Name: n_participants, Length: 72, dtype: int64\n",
      "\n",
      "Total number of participants: 55504\n"
     ]
    }
   ],
   "source": [
    "participants_per_grouping = df.groupby('grouping')['n_participants'].first()\n",
    "print(participants_per_grouping)\n",
    "\n",
    "total_participants = participants_per_grouping.sum()\n",
    "print('\\nTotal number of participants:',total_participants)"
   ]
  },
  {
   "cell_type": "code",
   "execution_count": 8,
   "id": "42c3346e-be6f-4cca-b32b-4c64e3618eb8",
   "metadata": {},
   "outputs": [],
   "source": [
    "ch4_conversion_factor = 27\n",
    "n2o_conversion_factor = 273\n",
    "\n",
    "df['mean_ghgs_ch4_kg'] = df['mean_ghgs_ch4'] * ch4_conversion_factor * 0.001  \n",
    "df['mean_ghgs_n2o_kg'] = df['mean_ghgs_n2o'] * n2o_conversion_factor * 0.001  \n",
    "\n",
    "df['mean_ghgs_co2'] = df['mean_ghgs'] - (df['mean_ghgs_ch4'] + df['mean_ghgs_n2o'])\n",
    "\n",
    "# gwp100 CO2 equivalent emissions\n",
    "df['gwp100_co2e'] = df['mean_ghgs_co2'] + df['mean_ghgs_ch4_kg'] + df['mean_ghgs_n2o_kg']"
   ]
  },
  {
   "cell_type": "code",
   "execution_count": 9,
   "id": "8e0a9d71-1e9b-40e4-9e07-03499de3563a",
   "metadata": {},
   "outputs": [
    {
     "data": {
      "text/html": [
       "<div>\n",
       "<style scoped>\n",
       "    .dataframe tbody tr th:only-of-type {\n",
       "        vertical-align: middle;\n",
       "    }\n",
       "\n",
       "    .dataframe tbody tr th {\n",
       "        vertical-align: top;\n",
       "    }\n",
       "\n",
       "    .dataframe thead th {\n",
       "        text-align: right;\n",
       "    }\n",
       "</style>\n",
       "<table border=\"1\" class=\"dataframe\">\n",
       "  <thead>\n",
       "    <tr style=\"text-align: right;\">\n",
       "      <th></th>\n",
       "      <th>grouping</th>\n",
       "      <th>mean_ghgs</th>\n",
       "      <th>mean_land</th>\n",
       "      <th>mean_watscar</th>\n",
       "      <th>mean_eut</th>\n",
       "      <th>mean_ghgs_ch4</th>\n",
       "      <th>mean_ghgs_n2o</th>\n",
       "      <th>mean_bio</th>\n",
       "      <th>mean_watuse</th>\n",
       "      <th>mean_acid</th>\n",
       "      <th>...</th>\n",
       "      <th>sd_watuse</th>\n",
       "      <th>sd_acid</th>\n",
       "      <th>n_participants</th>\n",
       "      <th>sex</th>\n",
       "      <th>diet_group</th>\n",
       "      <th>age_group</th>\n",
       "      <th>mean_ghgs_ch4_kg</th>\n",
       "      <th>mean_ghgs_n2o_kg</th>\n",
       "      <th>mean_ghgs_co2</th>\n",
       "      <th>gwp100_co2e</th>\n",
       "    </tr>\n",
       "  </thead>\n",
       "  <tbody>\n",
       "    <tr>\n",
       "      <th>0</th>\n",
       "      <td>fish_female_20-29</td>\n",
       "      <td>5.421821</td>\n",
       "      <td>8.612772</td>\n",
       "      <td>14165.86240</td>\n",
       "      <td>23.945372</td>\n",
       "      <td>1.164643</td>\n",
       "      <td>0.343663</td>\n",
       "      <td>476.270413</td>\n",
       "      <td>679.923479</td>\n",
       "      <td>23.439196</td>\n",
       "      <td>...</td>\n",
       "      <td>249.472563</td>\n",
       "      <td>8.231176</td>\n",
       "      <td>1329</td>\n",
       "      <td>female</td>\n",
       "      <td>fish</td>\n",
       "      <td>20-29</td>\n",
       "      <td>0.031445</td>\n",
       "      <td>0.093820</td>\n",
       "      <td>3.913515</td>\n",
       "      <td>4.038781</td>\n",
       "    </tr>\n",
       "    <tr>\n",
       "      <th>1</th>\n",
       "      <td>fish_female_30-39</td>\n",
       "      <td>5.436673</td>\n",
       "      <td>8.680248</td>\n",
       "      <td>15222.77063</td>\n",
       "      <td>24.305262</td>\n",
       "      <td>1.154118</td>\n",
       "      <td>0.326868</td>\n",
       "      <td>467.923201</td>\n",
       "      <td>709.343785</td>\n",
       "      <td>24.166260</td>\n",
       "      <td>...</td>\n",
       "      <td>277.927269</td>\n",
       "      <td>7.947014</td>\n",
       "      <td>2024</td>\n",
       "      <td>female</td>\n",
       "      <td>fish</td>\n",
       "      <td>30-39</td>\n",
       "      <td>0.031161</td>\n",
       "      <td>0.089235</td>\n",
       "      <td>3.955688</td>\n",
       "      <td>4.076084</td>\n",
       "    </tr>\n",
       "    <tr>\n",
       "      <th>2</th>\n",
       "      <td>fish_female_40-49</td>\n",
       "      <td>5.289333</td>\n",
       "      <td>8.467723</td>\n",
       "      <td>15818.80068</td>\n",
       "      <td>24.191105</td>\n",
       "      <td>1.108404</td>\n",
       "      <td>0.310324</td>\n",
       "      <td>438.659832</td>\n",
       "      <td>707.925368</td>\n",
       "      <td>24.597700</td>\n",
       "      <td>...</td>\n",
       "      <td>275.760515</td>\n",
       "      <td>8.103589</td>\n",
       "      <td>1689</td>\n",
       "      <td>female</td>\n",
       "      <td>fish</td>\n",
       "      <td>40-49</td>\n",
       "      <td>0.029927</td>\n",
       "      <td>0.084718</td>\n",
       "      <td>3.870605</td>\n",
       "      <td>3.985251</td>\n",
       "    </tr>\n",
       "    <tr>\n",
       "      <th>3</th>\n",
       "      <td>fish_female_50-59</td>\n",
       "      <td>5.169020</td>\n",
       "      <td>8.219199</td>\n",
       "      <td>16962.06009</td>\n",
       "      <td>24.748154</td>\n",
       "      <td>1.032501</td>\n",
       "      <td>0.298130</td>\n",
       "      <td>395.787622</td>\n",
       "      <td>720.825105</td>\n",
       "      <td>25.004637</td>\n",
       "      <td>...</td>\n",
       "      <td>310.422445</td>\n",
       "      <td>8.712428</td>\n",
       "      <td>946</td>\n",
       "      <td>female</td>\n",
       "      <td>fish</td>\n",
       "      <td>50-59</td>\n",
       "      <td>0.027878</td>\n",
       "      <td>0.081389</td>\n",
       "      <td>3.838389</td>\n",
       "      <td>3.947656</td>\n",
       "    </tr>\n",
       "    <tr>\n",
       "      <th>4</th>\n",
       "      <td>fish_female_60-69</td>\n",
       "      <td>5.380268</td>\n",
       "      <td>8.570718</td>\n",
       "      <td>18212.66232</td>\n",
       "      <td>25.559430</td>\n",
       "      <td>1.098828</td>\n",
       "      <td>0.310735</td>\n",
       "      <td>421.176867</td>\n",
       "      <td>749.392826</td>\n",
       "      <td>26.048737</td>\n",
       "      <td>...</td>\n",
       "      <td>315.922570</td>\n",
       "      <td>8.616601</td>\n",
       "      <td>492</td>\n",
       "      <td>female</td>\n",
       "      <td>fish</td>\n",
       "      <td>60-69</td>\n",
       "      <td>0.029668</td>\n",
       "      <td>0.084831</td>\n",
       "      <td>3.970705</td>\n",
       "      <td>4.085204</td>\n",
       "    </tr>\n",
       "  </tbody>\n",
       "</table>\n",
       "<p>5 rows × 27 columns</p>\n",
       "</div>"
      ],
      "text/plain": [
       "            grouping  mean_ghgs  mean_land  mean_watscar   mean_eut  \\\n",
       "0  fish_female_20-29   5.421821   8.612772   14165.86240  23.945372   \n",
       "1  fish_female_30-39   5.436673   8.680248   15222.77063  24.305262   \n",
       "2  fish_female_40-49   5.289333   8.467723   15818.80068  24.191105   \n",
       "3  fish_female_50-59   5.169020   8.219199   16962.06009  24.748154   \n",
       "4  fish_female_60-69   5.380268   8.570718   18212.66232  25.559430   \n",
       "\n",
       "   mean_ghgs_ch4  mean_ghgs_n2o    mean_bio  mean_watuse  mean_acid  ...  \\\n",
       "0       1.164643       0.343663  476.270413   679.923479  23.439196  ...   \n",
       "1       1.154118       0.326868  467.923201   709.343785  24.166260  ...   \n",
       "2       1.108404       0.310324  438.659832   707.925368  24.597700  ...   \n",
       "3       1.032501       0.298130  395.787622   720.825105  25.004637  ...   \n",
       "4       1.098828       0.310735  421.176867   749.392826  26.048737  ...   \n",
       "\n",
       "    sd_watuse   sd_acid  n_participants     sex  diet_group  age_group  \\\n",
       "0  249.472563  8.231176            1329  female        fish      20-29   \n",
       "1  277.927269  7.947014            2024  female        fish      30-39   \n",
       "2  275.760515  8.103589            1689  female        fish      40-49   \n",
       "3  310.422445  8.712428             946  female        fish      50-59   \n",
       "4  315.922570  8.616601             492  female        fish      60-69   \n",
       "\n",
       "   mean_ghgs_ch4_kg  mean_ghgs_n2o_kg  mean_ghgs_co2  gwp100_co2e  \n",
       "0          0.031445          0.093820       3.913515     4.038781  \n",
       "1          0.031161          0.089235       3.955688     4.076084  \n",
       "2          0.029927          0.084718       3.870605     3.985251  \n",
       "3          0.027878          0.081389       3.838389     3.947656  \n",
       "4          0.029668          0.084831       3.970705     4.085204  \n",
       "\n",
       "[5 rows x 27 columns]"
      ]
     },
     "execution_count": 9,
     "metadata": {},
     "output_type": "execute_result"
    }
   ],
   "source": [
    "df.head()"
   ]
  },
  {
   "cell_type": "code",
   "execution_count": 10,
   "id": "b2ab74b1-8dbf-46cc-9b34-a7ae45b16418",
   "metadata": {
    "scrolled": true
   },
   "outputs": [
    {
     "name": "stdout",
     "output_type": "stream",
     "text": [
      "'mean_ghgs_n2o' per participant for 'fish_female_20-29' grouping: 0.2426532031136193\n",
      "'mean_ghgs_n2o' per participant for 'fish_female_30-39' grouping: 0.15907646818774704\n",
      "'mean_ghgs_n2o' per participant for 'fish_female_40-49' grouping: 0.18970576506571937\n",
      "'mean_ghgs_n2o' per participant for 'fish_female_50-59' grouping: 0.32360516498414377\n",
      "'mean_ghgs_n2o' per participant for 'fish_female_60-69' grouping: 0.3413861623414634\n",
      "'mean_ghgs_n2o' per participant for 'fish_female_70-79' grouping: 0.34548682269743586\n",
      "'mean_ghgs_n2o' per participant for 'fish_male_20-29' grouping: 0.37886761864417184\n",
      "'mean_ghgs_n2o' per participant for 'fish_male_30-39' grouping: 0.3547178248446602\n",
      "'mean_ghgs_n2o' per participant for 'fish_male_40-49' grouping: 0.34334880149074076\n",
      "'mean_ghgs_n2o' per participant for 'fish_male_50-59' grouping: 0.3384894248785047\n",
      "'mean_ghgs_n2o' per participant for 'fish_male_60-69' grouping: 0.35250189006289306\n",
      "'mean_ghgs_n2o' per participant for 'fish_male_70-79' grouping: 0.3746286159411764\n",
      "'mean_ghgs_n2o' per participant for 'meat <50_female_20-29' grouping: 0.37691125463219893\n",
      "'mean_ghgs_n2o' per participant for 'meat <50_female_30-39' grouping: 0.2527954309689818\n",
      "'mean_ghgs_n2o' per participant for 'meat <50_female_40-49' grouping: 0.18271549619015767\n",
      "'mean_ghgs_n2o' per participant for 'meat <50_female_50-59' grouping: 0.23005588168080093\n",
      "'mean_ghgs_n2o' per participant for 'meat <50_female_60-69' grouping: 0.37944343023877747\n",
      "'mean_ghgs_n2o' per participant for 'meat <50_female_70-79' grouping: 0.401546460160105\n",
      "'mean_ghgs_n2o' per participant for 'meat <50_male_20-29' grouping: 0.4189313569770992\n",
      "'mean_ghgs_n2o' per participant for 'meat <50_male_30-39' grouping: 0.4103097265189189\n",
      "'mean_ghgs_n2o' per participant for 'meat <50_male_40-49' grouping: 0.40229153892633923\n",
      "'mean_ghgs_n2o' per participant for 'meat <50_male_50-59' grouping: 0.4113836068268293\n",
      "'mean_ghgs_n2o' per participant for 'meat <50_male_60-69' grouping: 0.4120099868846154\n",
      "'mean_ghgs_n2o' per participant for 'meat <50_male_70-79' grouping: 0.41985422720979015\n",
      "'mean_ghgs_n2o' per participant for 'meat 100+_female_20-29' grouping: 0.7691511530025446\n",
      "'mean_ghgs_n2o' per participant for 'meat 100+_female_30-39' grouping: 0.7661303730874036\n",
      "'mean_ghgs_n2o' per participant for 'meat 100+_female_40-49' grouping: 0.42099440441705427\n",
      "'mean_ghgs_n2o' per participant for 'meat 100+_female_50-59' grouping: 0.4718261067410154\n",
      "'mean_ghgs_n2o' per participant for 'meat 100+_female_60-69' grouping: 0.8250366667864768\n",
      "'mean_ghgs_n2o' per participant for 'meat 100+_female_70-79' grouping: 0.8535477086459853\n",
      "'mean_ghgs_n2o' per participant for 'meat 100+_male_20-29' grouping: 0.9191468411060607\n",
      "'mean_ghgs_n2o' per participant for 'meat 100+_male_30-39' grouping: 0.8424090284807694\n",
      "'mean_ghgs_n2o' per participant for 'meat 100+_male_40-49' grouping: 0.8442018670211038\n",
      "'mean_ghgs_n2o' per participant for 'meat 100+_male_50-59' grouping: 0.8500217420592217\n",
      "'mean_ghgs_n2o' per participant for 'meat 100+_male_60-69' grouping: 0.8415560131878453\n",
      "'mean_ghgs_n2o' per participant for 'meat 100+_male_70-79' grouping: 0.8827629530535713\n",
      "'mean_ghgs_n2o' per participant for 'meat50-99_female_20-29' grouping: 0.4999645688116591\n",
      "'mean_ghgs_n2o' per participant for 'meat50-99_female_30-39' grouping: 0.3760405871814815\n",
      "'mean_ghgs_n2o' per participant for 'meat50-99_female_40-49' grouping: 0.1945263379601476\n",
      "'mean_ghgs_n2o' per participant for 'meat50-99_female_50-59' grouping: 0.19778079835458615\n",
      "'mean_ghgs_n2o' per participant for 'meat50-99_female_60-69' grouping: 0.3633412683701923\n",
      "'mean_ghgs_n2o' per participant for 'meat50-99_female_70-79' grouping: 0.5494674600066667\n",
      "'mean_ghgs_n2o' per participant for 'meat50-99_male_20-29' grouping: 0.5397423436622517\n",
      "'mean_ghgs_n2o' per participant for 'meat50-99_male_30-39' grouping: 0.5535945240888158\n",
      "'mean_ghgs_n2o' per participant for 'meat50-99_male_40-49' grouping: 0.5559893020392157\n",
      "'mean_ghgs_n2o' per participant for 'meat50-99_male_50-59' grouping: 0.547363021561848\n",
      "'mean_ghgs_n2o' per participant for 'meat50-99_male_60-69' grouping: 0.5525699054384858\n",
      "'mean_ghgs_n2o' per participant for 'meat50-99_male_70-79' grouping: 0.5718235006796536\n",
      "'mean_ghgs_n2o' per participant for 'vegan_female_20-29' grouping: 0.19980766074127307\n",
      "'mean_ghgs_n2o' per participant for 'vegan_female_30-39' grouping: 0.21351642882978722\n",
      "'mean_ghgs_n2o' per participant for 'vegan_female_40-49' grouping: 0.22416971773972602\n",
      "'mean_ghgs_n2o' per participant for 'vegan_female_50-59' grouping: 0.22251872838679243\n",
      "'mean_ghgs_n2o' per participant for 'vegan_female_60-69' grouping: 0.23176585972839506\n",
      "'mean_ghgs_n2o' per participant for 'vegan_female_70-79' grouping: 0.23699175424\n",
      "'mean_ghgs_n2o' per participant for 'vegan_male_20-29' grouping: 0.23366977809090908\n",
      "'mean_ghgs_n2o' per participant for 'vegan_male_30-39' grouping: 0.2175035964621514\n",
      "'mean_ghgs_n2o' per participant for 'vegan_male_40-49' grouping: 0.22686475770303033\n",
      "'mean_ghgs_n2o' per participant for 'vegan_male_50-59' grouping: 0.2196835207903226\n",
      "'mean_ghgs_n2o' per participant for 'vegan_male_60-69' grouping: 0.2231742656730769\n",
      "'mean_ghgs_n2o' per participant for 'vegan_male_70-79' grouping: 0.23081460342105264\n",
      "'mean_ghgs_n2o' per participant for 'veggie_female_20-29' grouping: 0.07733449925666312\n",
      "'mean_ghgs_n2o' per participant for 'veggie_female_30-39' grouping: 0.08069072795872317\n",
      "'mean_ghgs_n2o' per participant for 'veggie_female_40-49' grouping: 0.10849982166060831\n",
      "'mean_ghgs_n2o' per participant for 'veggie_female_50-59' grouping: 0.2442436184655029\n",
      "'mean_ghgs_n2o' per participant for 'veggie_female_60-69' grouping: 0.2996825515261194\n",
      "'mean_ghgs_n2o' per participant for 'veggie_female_70-79' grouping: 0.30659522710034603\n",
      "'mean_ghgs_n2o' per participant for 'veggie_male_20-29' grouping: 0.3232783215835914\n",
      "'mean_ghgs_n2o' per participant for 'veggie_male_30-39' grouping: 0.2590708579164619\n",
      "'mean_ghgs_n2o' per participant for 'veggie_male_40-49' grouping: 0.30412721593756503\n",
      "'mean_ghgs_n2o' per participant for 'veggie_male_50-59' grouping: 0.3012273353004695\n",
      "'mean_ghgs_n2o' per participant for 'veggie_male_60-69' grouping: 0.3079557081091703\n",
      "'mean_ghgs_n2o' per participant for 'veggie_male_70-79' grouping: 0.3230900239683544\n"
     ]
    }
   ],
   "source": [
    "mean_ghgs_n2o_per_participant_by_group = {}\n",
    "\n",
    "for grouping in df['grouping'].unique():\n",
    "    \n",
    "    filtered_df = df[df['grouping'] == grouping]\n",
    "    \n",
    "    # first n_participants unique rows from the filtered dataframe\n",
    "    unique_rows = filtered_df.head(filtered_df['n_participants'].iloc[0])\n",
    "    \n",
    "    # sum mean_ghgs_n2o values within the extracted datafrane\n",
    "    sum_mean_ghgs_n2o = unique_rows['mean_ghgs_n2o'].sum()\n",
    "    \n",
    "    # number of participants for each grouping\n",
    "    num_participants = unique_rows['n_participants'].iloc[0]\n",
    "    \n",
    "    # mean 'mean_ghgs_n2o' per participant\n",
    "    n2o_per_n = sum_mean_ghgs_n2o / num_participants\n",
    "    \n",
    "    # store in dictionary\n",
    "    mean_ghgs_n2o_per_participant_by_group[grouping] =  n2o_per_n\n",
    "\n",
    "for grouping, n2o_per_n in mean_ghgs_n2o_per_participant_by_group.items():\n",
    "    print(f\"'mean_ghgs_n2o' per participant for '{grouping}' grouping:\",  n2o_per_n)"
   ]
  },
  {
   "cell_type": "code",
   "execution_count": 11,
   "id": "8836a5c9-def1-487d-a379-f6c982d3caee",
   "metadata": {},
   "outputs": [],
   "source": [
    "df['n2o_per_n'] = df['grouping'].map(mean_ghgs_n2o_per_participant_by_group)"
   ]
  },
  {
   "cell_type": "code",
   "execution_count": 12,
   "id": "0884a1ef-c53e-43df-a777-8105e42d58da",
   "metadata": {},
   "outputs": [
    {
     "data": {
      "text/html": [
       "<div>\n",
       "<style scoped>\n",
       "    .dataframe tbody tr th:only-of-type {\n",
       "        vertical-align: middle;\n",
       "    }\n",
       "\n",
       "    .dataframe tbody tr th {\n",
       "        vertical-align: top;\n",
       "    }\n",
       "\n",
       "    .dataframe thead th {\n",
       "        text-align: right;\n",
       "    }\n",
       "</style>\n",
       "<table border=\"1\" class=\"dataframe\">\n",
       "  <thead>\n",
       "    <tr style=\"text-align: right;\">\n",
       "      <th></th>\n",
       "      <th>grouping</th>\n",
       "      <th>mean_ghgs</th>\n",
       "      <th>mean_land</th>\n",
       "      <th>mean_watscar</th>\n",
       "      <th>mean_eut</th>\n",
       "      <th>mean_ghgs_ch4</th>\n",
       "      <th>mean_ghgs_n2o</th>\n",
       "      <th>mean_bio</th>\n",
       "      <th>mean_watuse</th>\n",
       "      <th>mean_acid</th>\n",
       "      <th>...</th>\n",
       "      <th>sd_acid</th>\n",
       "      <th>n_participants</th>\n",
       "      <th>sex</th>\n",
       "      <th>diet_group</th>\n",
       "      <th>age_group</th>\n",
       "      <th>mean_ghgs_ch4_kg</th>\n",
       "      <th>mean_ghgs_n2o_kg</th>\n",
       "      <th>mean_ghgs_co2</th>\n",
       "      <th>gwp100_co2e</th>\n",
       "      <th>n2o_per_n</th>\n",
       "    </tr>\n",
       "  </thead>\n",
       "  <tbody>\n",
       "    <tr>\n",
       "      <th>0</th>\n",
       "      <td>fish_female_20-29</td>\n",
       "      <td>5.421821</td>\n",
       "      <td>8.612772</td>\n",
       "      <td>14165.86240</td>\n",
       "      <td>23.945372</td>\n",
       "      <td>1.164643</td>\n",
       "      <td>0.343663</td>\n",
       "      <td>476.270413</td>\n",
       "      <td>679.923479</td>\n",
       "      <td>23.439196</td>\n",
       "      <td>...</td>\n",
       "      <td>8.231176</td>\n",
       "      <td>1329</td>\n",
       "      <td>female</td>\n",
       "      <td>fish</td>\n",
       "      <td>20-29</td>\n",
       "      <td>0.031445</td>\n",
       "      <td>0.093820</td>\n",
       "      <td>3.913515</td>\n",
       "      <td>4.038781</td>\n",
       "      <td>0.242653</td>\n",
       "    </tr>\n",
       "    <tr>\n",
       "      <th>1</th>\n",
       "      <td>fish_female_30-39</td>\n",
       "      <td>5.436673</td>\n",
       "      <td>8.680248</td>\n",
       "      <td>15222.77063</td>\n",
       "      <td>24.305262</td>\n",
       "      <td>1.154118</td>\n",
       "      <td>0.326868</td>\n",
       "      <td>467.923201</td>\n",
       "      <td>709.343785</td>\n",
       "      <td>24.166260</td>\n",
       "      <td>...</td>\n",
       "      <td>7.947014</td>\n",
       "      <td>2024</td>\n",
       "      <td>female</td>\n",
       "      <td>fish</td>\n",
       "      <td>30-39</td>\n",
       "      <td>0.031161</td>\n",
       "      <td>0.089235</td>\n",
       "      <td>3.955688</td>\n",
       "      <td>4.076084</td>\n",
       "      <td>0.159076</td>\n",
       "    </tr>\n",
       "    <tr>\n",
       "      <th>2</th>\n",
       "      <td>fish_female_40-49</td>\n",
       "      <td>5.289333</td>\n",
       "      <td>8.467723</td>\n",
       "      <td>15818.80068</td>\n",
       "      <td>24.191105</td>\n",
       "      <td>1.108404</td>\n",
       "      <td>0.310324</td>\n",
       "      <td>438.659832</td>\n",
       "      <td>707.925368</td>\n",
       "      <td>24.597700</td>\n",
       "      <td>...</td>\n",
       "      <td>8.103589</td>\n",
       "      <td>1689</td>\n",
       "      <td>female</td>\n",
       "      <td>fish</td>\n",
       "      <td>40-49</td>\n",
       "      <td>0.029927</td>\n",
       "      <td>0.084718</td>\n",
       "      <td>3.870605</td>\n",
       "      <td>3.985251</td>\n",
       "      <td>0.189706</td>\n",
       "    </tr>\n",
       "    <tr>\n",
       "      <th>3</th>\n",
       "      <td>fish_female_50-59</td>\n",
       "      <td>5.169020</td>\n",
       "      <td>8.219199</td>\n",
       "      <td>16962.06009</td>\n",
       "      <td>24.748154</td>\n",
       "      <td>1.032501</td>\n",
       "      <td>0.298130</td>\n",
       "      <td>395.787622</td>\n",
       "      <td>720.825105</td>\n",
       "      <td>25.004637</td>\n",
       "      <td>...</td>\n",
       "      <td>8.712428</td>\n",
       "      <td>946</td>\n",
       "      <td>female</td>\n",
       "      <td>fish</td>\n",
       "      <td>50-59</td>\n",
       "      <td>0.027878</td>\n",
       "      <td>0.081389</td>\n",
       "      <td>3.838389</td>\n",
       "      <td>3.947656</td>\n",
       "      <td>0.323605</td>\n",
       "    </tr>\n",
       "    <tr>\n",
       "      <th>4</th>\n",
       "      <td>fish_female_60-69</td>\n",
       "      <td>5.380268</td>\n",
       "      <td>8.570718</td>\n",
       "      <td>18212.66232</td>\n",
       "      <td>25.559430</td>\n",
       "      <td>1.098828</td>\n",
       "      <td>0.310735</td>\n",
       "      <td>421.176867</td>\n",
       "      <td>749.392826</td>\n",
       "      <td>26.048737</td>\n",
       "      <td>...</td>\n",
       "      <td>8.616601</td>\n",
       "      <td>492</td>\n",
       "      <td>female</td>\n",
       "      <td>fish</td>\n",
       "      <td>60-69</td>\n",
       "      <td>0.029668</td>\n",
       "      <td>0.084831</td>\n",
       "      <td>3.970705</td>\n",
       "      <td>4.085204</td>\n",
       "      <td>0.341386</td>\n",
       "    </tr>\n",
       "  </tbody>\n",
       "</table>\n",
       "<p>5 rows × 28 columns</p>\n",
       "</div>"
      ],
      "text/plain": [
       "            grouping  mean_ghgs  mean_land  mean_watscar   mean_eut  \\\n",
       "0  fish_female_20-29   5.421821   8.612772   14165.86240  23.945372   \n",
       "1  fish_female_30-39   5.436673   8.680248   15222.77063  24.305262   \n",
       "2  fish_female_40-49   5.289333   8.467723   15818.80068  24.191105   \n",
       "3  fish_female_50-59   5.169020   8.219199   16962.06009  24.748154   \n",
       "4  fish_female_60-69   5.380268   8.570718   18212.66232  25.559430   \n",
       "\n",
       "   mean_ghgs_ch4  mean_ghgs_n2o    mean_bio  mean_watuse  mean_acid  ...  \\\n",
       "0       1.164643       0.343663  476.270413   679.923479  23.439196  ...   \n",
       "1       1.154118       0.326868  467.923201   709.343785  24.166260  ...   \n",
       "2       1.108404       0.310324  438.659832   707.925368  24.597700  ...   \n",
       "3       1.032501       0.298130  395.787622   720.825105  25.004637  ...   \n",
       "4       1.098828       0.310735  421.176867   749.392826  26.048737  ...   \n",
       "\n",
       "    sd_acid  n_participants     sex  diet_group  age_group  mean_ghgs_ch4_kg  \\\n",
       "0  8.231176            1329  female        fish      20-29          0.031445   \n",
       "1  7.947014            2024  female        fish      30-39          0.031161   \n",
       "2  8.103589            1689  female        fish      40-49          0.029927   \n",
       "3  8.712428             946  female        fish      50-59          0.027878   \n",
       "4  8.616601             492  female        fish      60-69          0.029668   \n",
       "\n",
       "   mean_ghgs_n2o_kg  mean_ghgs_co2  gwp100_co2e  n2o_per_n  \n",
       "0          0.093820       3.913515     4.038781   0.242653  \n",
       "1          0.089235       3.955688     4.076084   0.159076  \n",
       "2          0.084718       3.870605     3.985251   0.189706  \n",
       "3          0.081389       3.838389     3.947656   0.323605  \n",
       "4          0.084831       3.970705     4.085204   0.341386  \n",
       "\n",
       "[5 rows x 28 columns]"
      ]
     },
     "execution_count": 12,
     "metadata": {},
     "output_type": "execute_result"
    }
   ],
   "source": [
    "df.head()"
   ]
  },
  {
   "cell_type": "code",
   "execution_count": 24,
   "id": "ce7cbf3e-e253-4cff-9058-ec08c1905cad",
   "metadata": {},
   "outputs": [
    {
     "name": "stdout",
     "output_type": "stream",
     "text": [
      "             grouping  total_gwp100_co2e  (total)_mean_gwp100_co2e_per_n\n",
      "0   fish_female_20-29        3848.393509                        2.895706\n",
      "1   fish_female_30-39        3894.676830                        1.924247\n",
      "2   fish_female_40-49        3875.703957                        2.294674\n",
      "3   fish_female_50-59        3684.678951                        3.895009\n",
      "4   fish_female_60-69        1975.751627                        4.015755\n",
      "..                ...                ...                             ...\n",
      "67  veggie_male_30-39        3787.722035                        3.102147\n",
      "68  veggie_male_40-49        3503.085881                        3.645251\n",
      "69  veggie_male_50-59        1499.069849                        3.518943\n",
      "70  veggie_male_60-69         801.922071                        3.501843\n",
      "71  veggie_male_70-79         572.768689                        3.625118\n",
      "\n",
      "[72 rows x 3 columns]\n"
     ]
    }
   ],
   "source": [
    "first_unique_n_participants = df.groupby('grouping')['n_participants'].first()\n",
    "total_gwp100_co2e = []\n",
    "\n",
    "for grouping, n_participants in first_unique_n_participants.items():\n",
    "    # select the first n_participants entries for each grouping\n",
    "    filtered_df = df[df['grouping'] == grouping].head(n_participants)\n",
    "    # sum the gwp100_co2e for the selected entries and append\n",
    "    total_gwp100_co2e.append(filtered_df['gwp100_co2e'].sum())\n",
    "\n",
    "# dataframe to store grouping and summed gwp100_co2e values\n",
    "total_gwp100_co2e_df = pd.DataFrame({'grouping': first_unique_n_participants.index, 'total_gwp100_co2e': total_gwp100_co2e})\n",
    "\n",
    "# mean gwp100_co2e per participant for each grouping\n",
    "total_gwp100_co2e_df['(total)_mean_gwp100_co2e_per_n'] = total_gwp100_co2e_df['total_gwp100_co2e'] / first_unique_n_participants.values\n",
    "print(total_gwp100_co2e_df)\n"
   ]
  },
  {
   "cell_type": "code",
   "execution_count": 29,
   "id": "1079b435-3cf2-4876-8e44-c57688662131",
   "metadata": {},
   "outputs": [
    {
     "data": {
      "text/html": [
       "<div>\n",
       "<style scoped>\n",
       "    .dataframe tbody tr th:only-of-type {\n",
       "        vertical-align: middle;\n",
       "    }\n",
       "\n",
       "    .dataframe tbody tr th {\n",
       "        vertical-align: top;\n",
       "    }\n",
       "\n",
       "    .dataframe thead th {\n",
       "        text-align: right;\n",
       "    }\n",
       "</style>\n",
       "<table border=\"1\" class=\"dataframe\">\n",
       "  <thead>\n",
       "    <tr style=\"text-align: right;\">\n",
       "      <th></th>\n",
       "      <th>grouping</th>\n",
       "      <th>mean_ghgs</th>\n",
       "      <th>mean_land</th>\n",
       "      <th>mean_watscar</th>\n",
       "      <th>mean_eut</th>\n",
       "      <th>mean_ghgs_ch4</th>\n",
       "      <th>mean_ghgs_n2o</th>\n",
       "      <th>mean_bio</th>\n",
       "      <th>mean_watuse</th>\n",
       "      <th>mean_acid</th>\n",
       "      <th>...</th>\n",
       "      <th>sex</th>\n",
       "      <th>diet_group</th>\n",
       "      <th>age_group</th>\n",
       "      <th>mean_ghgs_ch4_kg</th>\n",
       "      <th>mean_ghgs_n2o_kg</th>\n",
       "      <th>mean_ghgs_co2</th>\n",
       "      <th>gwp100_co2e</th>\n",
       "      <th>n2o_per_n</th>\n",
       "      <th>(total)_mean_gwp100_co2e_per_n_x</th>\n",
       "      <th>(total)_mean_gwp100_co2e_per_n_y</th>\n",
       "    </tr>\n",
       "  </thead>\n",
       "  <tbody>\n",
       "    <tr>\n",
       "      <th>0</th>\n",
       "      <td>fish_female_20-29</td>\n",
       "      <td>5.421821</td>\n",
       "      <td>8.612772</td>\n",
       "      <td>14165.86240</td>\n",
       "      <td>23.945372</td>\n",
       "      <td>1.164643</td>\n",
       "      <td>0.343663</td>\n",
       "      <td>476.270413</td>\n",
       "      <td>679.923479</td>\n",
       "      <td>23.439196</td>\n",
       "      <td>...</td>\n",
       "      <td>female</td>\n",
       "      <td>fish</td>\n",
       "      <td>20-29</td>\n",
       "      <td>0.031445</td>\n",
       "      <td>0.093820</td>\n",
       "      <td>3.913515</td>\n",
       "      <td>4.038781</td>\n",
       "      <td>0.242653</td>\n",
       "      <td>2.895706</td>\n",
       "      <td>2.895706</td>\n",
       "    </tr>\n",
       "    <tr>\n",
       "      <th>1</th>\n",
       "      <td>fish_female_20-29</td>\n",
       "      <td>4.428025</td>\n",
       "      <td>6.842434</td>\n",
       "      <td>15399.48381</td>\n",
       "      <td>23.443819</td>\n",
       "      <td>0.751940</td>\n",
       "      <td>0.316827</td>\n",
       "      <td>257.034793</td>\n",
       "      <td>845.718713</td>\n",
       "      <td>22.615000</td>\n",
       "      <td>...</td>\n",
       "      <td>female</td>\n",
       "      <td>fish</td>\n",
       "      <td>20-29</td>\n",
       "      <td>0.020302</td>\n",
       "      <td>0.086494</td>\n",
       "      <td>3.359259</td>\n",
       "      <td>3.466055</td>\n",
       "      <td>0.242653</td>\n",
       "      <td>2.895706</td>\n",
       "      <td>2.895706</td>\n",
       "    </tr>\n",
       "    <tr>\n",
       "      <th>2</th>\n",
       "      <td>fish_female_20-29</td>\n",
       "      <td>4.946890</td>\n",
       "      <td>6.753411</td>\n",
       "      <td>15846.86685</td>\n",
       "      <td>19.551014</td>\n",
       "      <td>0.933251</td>\n",
       "      <td>0.420634</td>\n",
       "      <td>295.397938</td>\n",
       "      <td>835.619685</td>\n",
       "      <td>22.526243</td>\n",
       "      <td>...</td>\n",
       "      <td>female</td>\n",
       "      <td>fish</td>\n",
       "      <td>20-29</td>\n",
       "      <td>0.025198</td>\n",
       "      <td>0.114833</td>\n",
       "      <td>3.593005</td>\n",
       "      <td>3.733036</td>\n",
       "      <td>0.242653</td>\n",
       "      <td>2.895706</td>\n",
       "      <td>2.895706</td>\n",
       "    </tr>\n",
       "    <tr>\n",
       "      <th>3</th>\n",
       "      <td>fish_female_20-29</td>\n",
       "      <td>4.378677</td>\n",
       "      <td>5.684974</td>\n",
       "      <td>18472.42478</td>\n",
       "      <td>18.534522</td>\n",
       "      <td>0.841311</td>\n",
       "      <td>0.365687</td>\n",
       "      <td>189.114914</td>\n",
       "      <td>868.080556</td>\n",
       "      <td>21.132210</td>\n",
       "      <td>...</td>\n",
       "      <td>female</td>\n",
       "      <td>fish</td>\n",
       "      <td>20-29</td>\n",
       "      <td>0.022715</td>\n",
       "      <td>0.099833</td>\n",
       "      <td>3.171679</td>\n",
       "      <td>3.294227</td>\n",
       "      <td>0.242653</td>\n",
       "      <td>2.895706</td>\n",
       "      <td>2.895706</td>\n",
       "    </tr>\n",
       "    <tr>\n",
       "      <th>4</th>\n",
       "      <td>fish_female_20-29</td>\n",
       "      <td>4.485696</td>\n",
       "      <td>6.111954</td>\n",
       "      <td>12487.77659</td>\n",
       "      <td>22.939979</td>\n",
       "      <td>0.757037</td>\n",
       "      <td>0.341591</td>\n",
       "      <td>269.114151</td>\n",
       "      <td>533.750475</td>\n",
       "      <td>22.448647</td>\n",
       "      <td>...</td>\n",
       "      <td>female</td>\n",
       "      <td>fish</td>\n",
       "      <td>20-29</td>\n",
       "      <td>0.020440</td>\n",
       "      <td>0.093254</td>\n",
       "      <td>3.387068</td>\n",
       "      <td>3.500762</td>\n",
       "      <td>0.242653</td>\n",
       "      <td>2.895706</td>\n",
       "      <td>2.895706</td>\n",
       "    </tr>\n",
       "    <tr>\n",
       "      <th>...</th>\n",
       "      <td>...</td>\n",
       "      <td>...</td>\n",
       "      <td>...</td>\n",
       "      <td>...</td>\n",
       "      <td>...</td>\n",
       "      <td>...</td>\n",
       "      <td>...</td>\n",
       "      <td>...</td>\n",
       "      <td>...</td>\n",
       "      <td>...</td>\n",
       "      <td>...</td>\n",
       "      <td>...</td>\n",
       "      <td>...</td>\n",
       "      <td>...</td>\n",
       "      <td>...</td>\n",
       "      <td>...</td>\n",
       "      <td>...</td>\n",
       "      <td>...</td>\n",
       "      <td>...</td>\n",
       "      <td>...</td>\n",
       "      <td>...</td>\n",
       "    </tr>\n",
       "    <tr>\n",
       "      <th>71995</th>\n",
       "      <td>veggie_male_70-79</td>\n",
       "      <td>4.815775</td>\n",
       "      <td>8.414616</td>\n",
       "      <td>14675.44713</td>\n",
       "      <td>20.080262</td>\n",
       "      <td>0.805090</td>\n",
       "      <td>0.370173</td>\n",
       "      <td>172.695072</td>\n",
       "      <td>479.982493</td>\n",
       "      <td>21.111373</td>\n",
       "      <td>...</td>\n",
       "      <td>male</td>\n",
       "      <td>veggie</td>\n",
       "      <td>70-79</td>\n",
       "      <td>0.021737</td>\n",
       "      <td>0.101057</td>\n",
       "      <td>3.640512</td>\n",
       "      <td>3.763307</td>\n",
       "      <td>0.323090</td>\n",
       "      <td>3.625118</td>\n",
       "      <td>3.625118</td>\n",
       "    </tr>\n",
       "    <tr>\n",
       "      <th>71996</th>\n",
       "      <td>veggie_male_70-79</td>\n",
       "      <td>4.857491</td>\n",
       "      <td>6.597441</td>\n",
       "      <td>16497.90647</td>\n",
       "      <td>17.393084</td>\n",
       "      <td>0.907783</td>\n",
       "      <td>0.360945</td>\n",
       "      <td>294.594033</td>\n",
       "      <td>642.633557</td>\n",
       "      <td>22.664034</td>\n",
       "      <td>...</td>\n",
       "      <td>male</td>\n",
       "      <td>veggie</td>\n",
       "      <td>70-79</td>\n",
       "      <td>0.024510</td>\n",
       "      <td>0.098538</td>\n",
       "      <td>3.588763</td>\n",
       "      <td>3.711811</td>\n",
       "      <td>0.323090</td>\n",
       "      <td>3.625118</td>\n",
       "      <td>3.625118</td>\n",
       "    </tr>\n",
       "    <tr>\n",
       "      <th>71997</th>\n",
       "      <td>veggie_male_70-79</td>\n",
       "      <td>4.420282</td>\n",
       "      <td>6.897439</td>\n",
       "      <td>22982.13623</td>\n",
       "      <td>20.454581</td>\n",
       "      <td>0.944609</td>\n",
       "      <td>0.355579</td>\n",
       "      <td>324.707977</td>\n",
       "      <td>669.833472</td>\n",
       "      <td>21.539393</td>\n",
       "      <td>...</td>\n",
       "      <td>male</td>\n",
       "      <td>veggie</td>\n",
       "      <td>70-79</td>\n",
       "      <td>0.025504</td>\n",
       "      <td>0.097073</td>\n",
       "      <td>3.120094</td>\n",
       "      <td>3.242672</td>\n",
       "      <td>0.323090</td>\n",
       "      <td>3.625118</td>\n",
       "      <td>3.625118</td>\n",
       "    </tr>\n",
       "    <tr>\n",
       "      <th>71998</th>\n",
       "      <td>veggie_male_70-79</td>\n",
       "      <td>5.244864</td>\n",
       "      <td>7.986955</td>\n",
       "      <td>17176.99405</td>\n",
       "      <td>20.597246</td>\n",
       "      <td>0.915564</td>\n",
       "      <td>0.379887</td>\n",
       "      <td>373.766228</td>\n",
       "      <td>497.297924</td>\n",
       "      <td>22.494395</td>\n",
       "      <td>...</td>\n",
       "      <td>male</td>\n",
       "      <td>veggie</td>\n",
       "      <td>70-79</td>\n",
       "      <td>0.024720</td>\n",
       "      <td>0.103709</td>\n",
       "      <td>3.949413</td>\n",
       "      <td>4.077843</td>\n",
       "      <td>0.323090</td>\n",
       "      <td>3.625118</td>\n",
       "      <td>3.625118</td>\n",
       "    </tr>\n",
       "    <tr>\n",
       "      <th>71999</th>\n",
       "      <td>veggie_male_70-79</td>\n",
       "      <td>6.339353</td>\n",
       "      <td>10.383692</td>\n",
       "      <td>11259.04221</td>\n",
       "      <td>17.413847</td>\n",
       "      <td>1.644123</td>\n",
       "      <td>0.488487</td>\n",
       "      <td>609.164094</td>\n",
       "      <td>512.413437</td>\n",
       "      <td>20.786028</td>\n",
       "      <td>...</td>\n",
       "      <td>male</td>\n",
       "      <td>veggie</td>\n",
       "      <td>70-79</td>\n",
       "      <td>0.044391</td>\n",
       "      <td>0.133357</td>\n",
       "      <td>4.206743</td>\n",
       "      <td>4.384491</td>\n",
       "      <td>0.323090</td>\n",
       "      <td>3.625118</td>\n",
       "      <td>3.625118</td>\n",
       "    </tr>\n",
       "  </tbody>\n",
       "</table>\n",
       "<p>72000 rows × 30 columns</p>\n",
       "</div>"
      ],
      "text/plain": [
       "                grouping  mean_ghgs  mean_land  mean_watscar   mean_eut  \\\n",
       "0      fish_female_20-29   5.421821   8.612772   14165.86240  23.945372   \n",
       "1      fish_female_20-29   4.428025   6.842434   15399.48381  23.443819   \n",
       "2      fish_female_20-29   4.946890   6.753411   15846.86685  19.551014   \n",
       "3      fish_female_20-29   4.378677   5.684974   18472.42478  18.534522   \n",
       "4      fish_female_20-29   4.485696   6.111954   12487.77659  22.939979   \n",
       "...                  ...        ...        ...           ...        ...   \n",
       "71995  veggie_male_70-79   4.815775   8.414616   14675.44713  20.080262   \n",
       "71996  veggie_male_70-79   4.857491   6.597441   16497.90647  17.393084   \n",
       "71997  veggie_male_70-79   4.420282   6.897439   22982.13623  20.454581   \n",
       "71998  veggie_male_70-79   5.244864   7.986955   17176.99405  20.597246   \n",
       "71999  veggie_male_70-79   6.339353  10.383692   11259.04221  17.413847   \n",
       "\n",
       "       mean_ghgs_ch4  mean_ghgs_n2o    mean_bio  mean_watuse  mean_acid  ...  \\\n",
       "0           1.164643       0.343663  476.270413   679.923479  23.439196  ...   \n",
       "1           0.751940       0.316827  257.034793   845.718713  22.615000  ...   \n",
       "2           0.933251       0.420634  295.397938   835.619685  22.526243  ...   \n",
       "3           0.841311       0.365687  189.114914   868.080556  21.132210  ...   \n",
       "4           0.757037       0.341591  269.114151   533.750475  22.448647  ...   \n",
       "...              ...            ...         ...          ...        ...  ...   \n",
       "71995       0.805090       0.370173  172.695072   479.982493  21.111373  ...   \n",
       "71996       0.907783       0.360945  294.594033   642.633557  22.664034  ...   \n",
       "71997       0.944609       0.355579  324.707977   669.833472  21.539393  ...   \n",
       "71998       0.915564       0.379887  373.766228   497.297924  22.494395  ...   \n",
       "71999       1.644123       0.488487  609.164094   512.413437  20.786028  ...   \n",
       "\n",
       "          sex  diet_group  age_group  mean_ghgs_ch4_kg  mean_ghgs_n2o_kg  \\\n",
       "0      female        fish      20-29          0.031445          0.093820   \n",
       "1      female        fish      20-29          0.020302          0.086494   \n",
       "2      female        fish      20-29          0.025198          0.114833   \n",
       "3      female        fish      20-29          0.022715          0.099833   \n",
       "4      female        fish      20-29          0.020440          0.093254   \n",
       "...       ...         ...        ...               ...               ...   \n",
       "71995    male      veggie      70-79          0.021737          0.101057   \n",
       "71996    male      veggie      70-79          0.024510          0.098538   \n",
       "71997    male      veggie      70-79          0.025504          0.097073   \n",
       "71998    male      veggie      70-79          0.024720          0.103709   \n",
       "71999    male      veggie      70-79          0.044391          0.133357   \n",
       "\n",
       "       mean_ghgs_co2  gwp100_co2e  n2o_per_n  \\\n",
       "0           3.913515     4.038781   0.242653   \n",
       "1           3.359259     3.466055   0.242653   \n",
       "2           3.593005     3.733036   0.242653   \n",
       "3           3.171679     3.294227   0.242653   \n",
       "4           3.387068     3.500762   0.242653   \n",
       "...              ...          ...        ...   \n",
       "71995       3.640512     3.763307   0.323090   \n",
       "71996       3.588763     3.711811   0.323090   \n",
       "71997       3.120094     3.242672   0.323090   \n",
       "71998       3.949413     4.077843   0.323090   \n",
       "71999       4.206743     4.384491   0.323090   \n",
       "\n",
       "       (total)_mean_gwp100_co2e_per_n_x  (total)_mean_gwp100_co2e_per_n_y  \n",
       "0                              2.895706                          2.895706  \n",
       "1                              2.895706                          2.895706  \n",
       "2                              2.895706                          2.895706  \n",
       "3                              2.895706                          2.895706  \n",
       "4                              2.895706                          2.895706  \n",
       "...                                 ...                               ...  \n",
       "71995                          3.625118                          3.625118  \n",
       "71996                          3.625118                          3.625118  \n",
       "71997                          3.625118                          3.625118  \n",
       "71998                          3.625118                          3.625118  \n",
       "71999                          3.625118                          3.625118  \n",
       "\n",
       "[72000 rows x 30 columns]"
      ]
     },
     "execution_count": 29,
     "metadata": {},
     "output_type": "execute_result"
    }
   ],
   "source": [
    "df = pd.merge(df, total_gwp100_co2e_df[['grouping', '(total)_mean_gwp100_co2e_per_n']], on='grouping')\n",
    "df.head()"
   ]
  },
  {
   "cell_type": "code",
   "execution_count": 34,
   "id": "c0509890-f220-4dbc-b9e0-57fec613577a",
   "metadata": {},
   "outputs": [],
   "source": [
    "#df.drop(columns=['mean_gwp100_co2e_per_n','total_mean_gwp100_co2e_per_n','(total)_mean_gwp100_co2e_per_n_x'], inplace=True)"
   ]
  },
  {
   "cell_type": "code",
   "execution_count": 35,
   "id": "439bedd6-35b7-4b7b-8ad4-03f3294a4110",
   "metadata": {},
   "outputs": [
    {
     "data": {
      "text/html": [
       "<div>\n",
       "<style scoped>\n",
       "    .dataframe tbody tr th:only-of-type {\n",
       "        vertical-align: middle;\n",
       "    }\n",
       "\n",
       "    .dataframe tbody tr th {\n",
       "        vertical-align: top;\n",
       "    }\n",
       "\n",
       "    .dataframe thead th {\n",
       "        text-align: right;\n",
       "    }\n",
       "</style>\n",
       "<table border=\"1\" class=\"dataframe\">\n",
       "  <thead>\n",
       "    <tr style=\"text-align: right;\">\n",
       "      <th></th>\n",
       "      <th>grouping</th>\n",
       "      <th>mean_ghgs</th>\n",
       "      <th>mean_land</th>\n",
       "      <th>mean_watscar</th>\n",
       "      <th>mean_eut</th>\n",
       "      <th>mean_ghgs_ch4</th>\n",
       "      <th>mean_ghgs_n2o</th>\n",
       "      <th>mean_bio</th>\n",
       "      <th>mean_watuse</th>\n",
       "      <th>mean_acid</th>\n",
       "      <th>...</th>\n",
       "      <th>n_participants</th>\n",
       "      <th>sex</th>\n",
       "      <th>diet_group</th>\n",
       "      <th>age_group</th>\n",
       "      <th>mean_ghgs_ch4_kg</th>\n",
       "      <th>mean_ghgs_n2o_kg</th>\n",
       "      <th>mean_ghgs_co2</th>\n",
       "      <th>gwp100_co2e</th>\n",
       "      <th>n2o_per_n</th>\n",
       "      <th>(total)_mean_gwp100_co2e_per_n</th>\n",
       "    </tr>\n",
       "  </thead>\n",
       "  <tbody>\n",
       "    <tr>\n",
       "      <th>0</th>\n",
       "      <td>fish_female_20-29</td>\n",
       "      <td>5.421821</td>\n",
       "      <td>8.612772</td>\n",
       "      <td>14165.86240</td>\n",
       "      <td>23.945372</td>\n",
       "      <td>1.164643</td>\n",
       "      <td>0.343663</td>\n",
       "      <td>476.270413</td>\n",
       "      <td>679.923479</td>\n",
       "      <td>23.439196</td>\n",
       "      <td>...</td>\n",
       "      <td>1329</td>\n",
       "      <td>female</td>\n",
       "      <td>fish</td>\n",
       "      <td>20-29</td>\n",
       "      <td>0.031445</td>\n",
       "      <td>0.093820</td>\n",
       "      <td>3.913515</td>\n",
       "      <td>4.038781</td>\n",
       "      <td>0.242653</td>\n",
       "      <td>2.895706</td>\n",
       "    </tr>\n",
       "    <tr>\n",
       "      <th>1</th>\n",
       "      <td>fish_female_20-29</td>\n",
       "      <td>4.428025</td>\n",
       "      <td>6.842434</td>\n",
       "      <td>15399.48381</td>\n",
       "      <td>23.443819</td>\n",
       "      <td>0.751940</td>\n",
       "      <td>0.316827</td>\n",
       "      <td>257.034793</td>\n",
       "      <td>845.718713</td>\n",
       "      <td>22.615000</td>\n",
       "      <td>...</td>\n",
       "      <td>1329</td>\n",
       "      <td>female</td>\n",
       "      <td>fish</td>\n",
       "      <td>20-29</td>\n",
       "      <td>0.020302</td>\n",
       "      <td>0.086494</td>\n",
       "      <td>3.359259</td>\n",
       "      <td>3.466055</td>\n",
       "      <td>0.242653</td>\n",
       "      <td>2.895706</td>\n",
       "    </tr>\n",
       "    <tr>\n",
       "      <th>2</th>\n",
       "      <td>fish_female_20-29</td>\n",
       "      <td>4.946890</td>\n",
       "      <td>6.753411</td>\n",
       "      <td>15846.86685</td>\n",
       "      <td>19.551014</td>\n",
       "      <td>0.933251</td>\n",
       "      <td>0.420634</td>\n",
       "      <td>295.397938</td>\n",
       "      <td>835.619685</td>\n",
       "      <td>22.526243</td>\n",
       "      <td>...</td>\n",
       "      <td>1329</td>\n",
       "      <td>female</td>\n",
       "      <td>fish</td>\n",
       "      <td>20-29</td>\n",
       "      <td>0.025198</td>\n",
       "      <td>0.114833</td>\n",
       "      <td>3.593005</td>\n",
       "      <td>3.733036</td>\n",
       "      <td>0.242653</td>\n",
       "      <td>2.895706</td>\n",
       "    </tr>\n",
       "    <tr>\n",
       "      <th>3</th>\n",
       "      <td>fish_female_20-29</td>\n",
       "      <td>4.378677</td>\n",
       "      <td>5.684974</td>\n",
       "      <td>18472.42478</td>\n",
       "      <td>18.534522</td>\n",
       "      <td>0.841311</td>\n",
       "      <td>0.365687</td>\n",
       "      <td>189.114914</td>\n",
       "      <td>868.080556</td>\n",
       "      <td>21.132210</td>\n",
       "      <td>...</td>\n",
       "      <td>1329</td>\n",
       "      <td>female</td>\n",
       "      <td>fish</td>\n",
       "      <td>20-29</td>\n",
       "      <td>0.022715</td>\n",
       "      <td>0.099833</td>\n",
       "      <td>3.171679</td>\n",
       "      <td>3.294227</td>\n",
       "      <td>0.242653</td>\n",
       "      <td>2.895706</td>\n",
       "    </tr>\n",
       "    <tr>\n",
       "      <th>4</th>\n",
       "      <td>fish_female_20-29</td>\n",
       "      <td>4.485696</td>\n",
       "      <td>6.111954</td>\n",
       "      <td>12487.77659</td>\n",
       "      <td>22.939979</td>\n",
       "      <td>0.757037</td>\n",
       "      <td>0.341591</td>\n",
       "      <td>269.114151</td>\n",
       "      <td>533.750475</td>\n",
       "      <td>22.448647</td>\n",
       "      <td>...</td>\n",
       "      <td>1329</td>\n",
       "      <td>female</td>\n",
       "      <td>fish</td>\n",
       "      <td>20-29</td>\n",
       "      <td>0.020440</td>\n",
       "      <td>0.093254</td>\n",
       "      <td>3.387068</td>\n",
       "      <td>3.500762</td>\n",
       "      <td>0.242653</td>\n",
       "      <td>2.895706</td>\n",
       "    </tr>\n",
       "  </tbody>\n",
       "</table>\n",
       "<p>5 rows × 29 columns</p>\n",
       "</div>"
      ],
      "text/plain": [
       "            grouping  mean_ghgs  mean_land  mean_watscar   mean_eut  \\\n",
       "0  fish_female_20-29   5.421821   8.612772   14165.86240  23.945372   \n",
       "1  fish_female_20-29   4.428025   6.842434   15399.48381  23.443819   \n",
       "2  fish_female_20-29   4.946890   6.753411   15846.86685  19.551014   \n",
       "3  fish_female_20-29   4.378677   5.684974   18472.42478  18.534522   \n",
       "4  fish_female_20-29   4.485696   6.111954   12487.77659  22.939979   \n",
       "\n",
       "   mean_ghgs_ch4  mean_ghgs_n2o    mean_bio  mean_watuse  mean_acid  ...  \\\n",
       "0       1.164643       0.343663  476.270413   679.923479  23.439196  ...   \n",
       "1       0.751940       0.316827  257.034793   845.718713  22.615000  ...   \n",
       "2       0.933251       0.420634  295.397938   835.619685  22.526243  ...   \n",
       "3       0.841311       0.365687  189.114914   868.080556  21.132210  ...   \n",
       "4       0.757037       0.341591  269.114151   533.750475  22.448647  ...   \n",
       "\n",
       "   n_participants     sex  diet_group  age_group  mean_ghgs_ch4_kg  \\\n",
       "0            1329  female        fish      20-29          0.031445   \n",
       "1            1329  female        fish      20-29          0.020302   \n",
       "2            1329  female        fish      20-29          0.025198   \n",
       "3            1329  female        fish      20-29          0.022715   \n",
       "4            1329  female        fish      20-29          0.020440   \n",
       "\n",
       "   mean_ghgs_n2o_kg  mean_ghgs_co2  gwp100_co2e  n2o_per_n  \\\n",
       "0          0.093820       3.913515     4.038781   0.242653   \n",
       "1          0.086494       3.359259     3.466055   0.242653   \n",
       "2          0.114833       3.593005     3.733036   0.242653   \n",
       "3          0.099833       3.171679     3.294227   0.242653   \n",
       "4          0.093254       3.387068     3.500762   0.242653   \n",
       "\n",
       "   (total)_mean_gwp100_co2e_per_n  \n",
       "0                        2.895706  \n",
       "1                        2.895706  \n",
       "2                        2.895706  \n",
       "3                        2.895706  \n",
       "4                        2.895706  \n",
       "\n",
       "[5 rows x 29 columns]"
      ]
     },
     "execution_count": 35,
     "metadata": {},
     "output_type": "execute_result"
    }
   ],
   "source": [
    "df.head()"
   ]
  },
  {
   "cell_type": "code",
   "execution_count": 36,
   "id": "081f584e-fdbf-4950-89ad-901d925d48b5",
   "metadata": {},
   "outputs": [
    {
     "data": {
      "application/vnd.plotly.v1+json": {
       "config": {
        "plotlyServerURL": "https://plot.ly"
       },
       "data": [
        {
         "branchvalues": "total",
         "customdata": [
          [
           0.24265320311361915
          ],
          [
           0.4999645688116593
          ],
          [
           0.7691511530025442
          ],
          [
           0.376911254632199
          ],
          [
           0.199807660741273
          ],
          [
           0.07733449925666314
          ],
          [
           0.3788676186441718
          ],
          [
           0.5397423436622519
          ],
          [
           0.9191468411060615
          ],
          [
           0.4189313569770992
          ],
          [
           0.23366977809090905
          ],
          [
           0.3232783215835913
          ],
          [
           0.15907646818774704
          ],
          [
           0.3760405871814813
          ],
          [
           0.7661303730874033
          ],
          [
           0.2527954309689817
          ],
          [
           0.21351642882978714
          ],
          [
           0.08069072795872315
          ],
          [
           0.35471782484466036
          ],
          [
           0.5535945240888158
          ],
          [
           0.8424090284807692
          ],
          [
           0.41030972651891895
          ],
          [
           0.2175035964621514
          ],
          [
           0.2590708579164618
          ],
          [
           0.18970576506571937
          ],
          [
           0.1945263379601475
          ],
          [
           0.4209944044170544
          ],
          [
           0.18271549619015778
          ],
          [
           0.22416971773972605
          ],
          [
           0.1084998216606083
          ],
          [
           0.34334880149074065
          ],
          [
           0.5559893020392159
          ],
          [
           0.8442018670211041
          ],
          [
           0.40229153892633934
          ],
          [
           0.22686475770303025
          ],
          [
           0.304127215937565
          ],
          [
           0.3236051649841439
          ],
          [
           0.19778079835458615
          ],
          [
           0.4718261067410154
          ],
          [
           0.23005588168080088
          ],
          [
           0.2225187283867925
          ],
          [
           0.24424361846550288
          ],
          [
           0.3384894248785047
          ],
          [
           0.5473630215618479
          ],
          [
           0.8500217420592214
          ],
          [
           0.41138360682682923
          ],
          [
           0.2196835207903226
          ],
          [
           0.30122733530046936
          ],
          [
           0.34138616234146335
          ],
          [
           0.36334126837019254
          ],
          [
           0.8250366667864761
          ],
          [
           0.37944343023877747
          ],
          [
           0.23176585972839522
          ],
          [
           0.2996825515261194
          ],
          [
           0.35250189006289306
          ],
          [
           0.5525699054384855
          ],
          [
           0.8415560131878456
          ],
          [
           0.41200998688461526
          ],
          [
           0.22317426567307683
          ],
          [
           0.3079557081091704
          ],
          [
           0.34548682269743586
          ],
          [
           0.5494674600066666
          ],
          [
           0.8535477086459855
          ],
          [
           0.40154646016010503
          ],
          [
           0.23699175424
          ],
          [
           0.306595227100346
          ],
          [
           0.37462861594117647
          ],
          [
           0.5718235006796538
          ],
          [
           0.882762953053571
          ],
          [
           0.4198542272097901
          ],
          [
           0.23081460342105267
          ],
          [
           0.32309002396835435
          ],
          [
           0.2867106410151865
          ],
          [
           0.4121480188993235
          ],
          [
           0.7267690825602183
          ],
          [
           0.32706729418807556
          ],
          [
           0.22215043948436183
          ],
          [
           0.23898699939657786
          ],
          [
           0.3574380687793748
          ],
          [
           0.5536462662404588
          ],
          [
           0.863947988910254
          ],
          [
           0.4124780869443378
          ],
          [
           0.22544634153994864
          ],
          [
           0.30438278091666954
          ],
          [
           0.3271904796907557
          ],
          [
           0.49733800515963994
          ],
          [
           0.8023955941587754
          ],
          [
           0.3761331615059013
          ],
          [
           0.2238187889955978
          ],
          [
           0.2796849504210567
          ]
         ],
         "domain": {
          "x": [
           0,
           1
          ],
          "y": [
           0,
           1
          ]
         },
         "hovertemplate": "labels=%{label}<br>(total)_mean_gwp100_co2e_per_n=%{value}<br>parent=%{parent}<br>id=%{id}<br>n2o_per_n=%{color}<extra></extra>",
         "ids": [
          "fish/female/20-29",
          "meat/female/20-29",
          "meat100/female/20-29",
          "meat50/female/20-29",
          "vegan/female/20-29",
          "veggie/female/20-29",
          "fish/male/20-29",
          "meat/male/20-29",
          "meat100/male/20-29",
          "meat50/male/20-29",
          "vegan/male/20-29",
          "veggie/male/20-29",
          "fish/female/30-39",
          "meat/female/30-39",
          "meat100/female/30-39",
          "meat50/female/30-39",
          "vegan/female/30-39",
          "veggie/female/30-39",
          "fish/male/30-39",
          "meat/male/30-39",
          "meat100/male/30-39",
          "meat50/male/30-39",
          "vegan/male/30-39",
          "veggie/male/30-39",
          "fish/female/40-49",
          "meat/female/40-49",
          "meat100/female/40-49",
          "meat50/female/40-49",
          "vegan/female/40-49",
          "veggie/female/40-49",
          "fish/male/40-49",
          "meat/male/40-49",
          "meat100/male/40-49",
          "meat50/male/40-49",
          "vegan/male/40-49",
          "veggie/male/40-49",
          "fish/female/50-59",
          "meat/female/50-59",
          "meat100/female/50-59",
          "meat50/female/50-59",
          "vegan/female/50-59",
          "veggie/female/50-59",
          "fish/male/50-59",
          "meat/male/50-59",
          "meat100/male/50-59",
          "meat50/male/50-59",
          "vegan/male/50-59",
          "veggie/male/50-59",
          "fish/female/60-69",
          "meat/female/60-69",
          "meat100/female/60-69",
          "meat50/female/60-69",
          "vegan/female/60-69",
          "veggie/female/60-69",
          "fish/male/60-69",
          "meat/male/60-69",
          "meat100/male/60-69",
          "meat50/male/60-69",
          "vegan/male/60-69",
          "veggie/male/60-69",
          "fish/female/70-79",
          "meat/female/70-79",
          "meat100/female/70-79",
          "meat50/female/70-79",
          "vegan/female/70-79",
          "veggie/female/70-79",
          "fish/male/70-79",
          "meat/male/70-79",
          "meat100/male/70-79",
          "meat50/male/70-79",
          "vegan/male/70-79",
          "veggie/male/70-79",
          "fish/female",
          "meat/female",
          "meat100/female",
          "meat50/female",
          "vegan/female",
          "veggie/female",
          "fish/male",
          "meat/male",
          "meat100/male",
          "meat50/male",
          "vegan/male",
          "veggie/male",
          "fish",
          "meat",
          "meat100",
          "meat50",
          "vegan",
          "veggie"
         ],
         "labels": [
          "20-29",
          "20-29",
          "20-29",
          "20-29",
          "20-29",
          "20-29",
          "20-29",
          "20-29",
          "20-29",
          "20-29",
          "20-29",
          "20-29",
          "30-39",
          "30-39",
          "30-39",
          "30-39",
          "30-39",
          "30-39",
          "30-39",
          "30-39",
          "30-39",
          "30-39",
          "30-39",
          "30-39",
          "40-49",
          "40-49",
          "40-49",
          "40-49",
          "40-49",
          "40-49",
          "40-49",
          "40-49",
          "40-49",
          "40-49",
          "40-49",
          "40-49",
          "50-59",
          "50-59",
          "50-59",
          "50-59",
          "50-59",
          "50-59",
          "50-59",
          "50-59",
          "50-59",
          "50-59",
          "50-59",
          "50-59",
          "60-69",
          "60-69",
          "60-69",
          "60-69",
          "60-69",
          "60-69",
          "60-69",
          "60-69",
          "60-69",
          "60-69",
          "60-69",
          "60-69",
          "70-79",
          "70-79",
          "70-79",
          "70-79",
          "70-79",
          "70-79",
          "70-79",
          "70-79",
          "70-79",
          "70-79",
          "70-79",
          "70-79",
          "female",
          "female",
          "female",
          "female",
          "female",
          "female",
          "male",
          "male",
          "male",
          "male",
          "male",
          "male",
          "fish",
          "meat",
          "meat100",
          "meat50",
          "vegan",
          "veggie"
         ],
         "level": "55b993",
         "marker": {
          "coloraxis": "coloraxis",
          "colors": [
           0.24265320311361915,
           0.4999645688116593,
           0.7691511530025442,
           0.376911254632199,
           0.199807660741273,
           0.07733449925666314,
           0.3788676186441718,
           0.5397423436622519,
           0.9191468411060615,
           0.4189313569770992,
           0.23366977809090905,
           0.3232783215835913,
           0.15907646818774704,
           0.3760405871814813,
           0.7661303730874033,
           0.2527954309689817,
           0.21351642882978714,
           0.08069072795872315,
           0.35471782484466036,
           0.5535945240888158,
           0.8424090284807692,
           0.41030972651891895,
           0.2175035964621514,
           0.2590708579164618,
           0.18970576506571937,
           0.1945263379601475,
           0.4209944044170544,
           0.18271549619015778,
           0.22416971773972605,
           0.1084998216606083,
           0.34334880149074065,
           0.5559893020392159,
           0.8442018670211041,
           0.40229153892633934,
           0.22686475770303025,
           0.304127215937565,
           0.3236051649841439,
           0.19778079835458615,
           0.4718261067410154,
           0.23005588168080088,
           0.2225187283867925,
           0.24424361846550288,
           0.3384894248785047,
           0.5473630215618479,
           0.8500217420592214,
           0.41138360682682923,
           0.2196835207903226,
           0.30122733530046936,
           0.34138616234146335,
           0.36334126837019254,
           0.8250366667864761,
           0.37944343023877747,
           0.23176585972839522,
           0.2996825515261194,
           0.35250189006289306,
           0.5525699054384855,
           0.8415560131878456,
           0.41200998688461526,
           0.22317426567307683,
           0.3079557081091704,
           0.34548682269743586,
           0.5494674600066666,
           0.8535477086459855,
           0.40154646016010503,
           0.23699175424,
           0.306595227100346,
           0.37462861594117647,
           0.5718235006796538,
           0.882762953053571,
           0.4198542272097901,
           0.23081460342105267,
           0.32309002396835435,
           0.2867106410151865,
           0.4121480188993235,
           0.7267690825602183,
           0.32706729418807556,
           0.22215043948436183,
           0.23898699939657786,
           0.3574380687793748,
           0.5536462662404588,
           0.863947988910254,
           0.4124780869443378,
           0.22544634153994864,
           0.30438278091666954,
           0.3271904796907557,
           0.49733800515963994,
           0.8023955941587754,
           0.3761331615059013,
           0.2238187889955978,
           0.2796849504210567
          ]
         },
         "name": "",
         "parents": [
          "fish/female",
          "meat/female",
          "meat100/female",
          "meat50/female",
          "vegan/female",
          "veggie/female",
          "fish/male",
          "meat/male",
          "meat100/male",
          "meat50/male",
          "vegan/male",
          "veggie/male",
          "fish/female",
          "meat/female",
          "meat100/female",
          "meat50/female",
          "vegan/female",
          "veggie/female",
          "fish/male",
          "meat/male",
          "meat100/male",
          "meat50/male",
          "vegan/male",
          "veggie/male",
          "fish/female",
          "meat/female",
          "meat100/female",
          "meat50/female",
          "vegan/female",
          "veggie/female",
          "fish/male",
          "meat/male",
          "meat100/male",
          "meat50/male",
          "vegan/male",
          "veggie/male",
          "fish/female",
          "meat/female",
          "meat100/female",
          "meat50/female",
          "vegan/female",
          "veggie/female",
          "fish/male",
          "meat/male",
          "meat100/male",
          "meat50/male",
          "vegan/male",
          "veggie/male",
          "fish/female",
          "meat/female",
          "meat100/female",
          "meat50/female",
          "vegan/female",
          "veggie/female",
          "fish/male",
          "meat/male",
          "meat100/male",
          "meat50/male",
          "vegan/male",
          "veggie/male",
          "fish/female",
          "meat/female",
          "meat100/female",
          "meat50/female",
          "vegan/female",
          "veggie/female",
          "fish/male",
          "meat/male",
          "meat100/male",
          "meat50/male",
          "vegan/male",
          "veggie/male",
          "fish",
          "meat",
          "meat100",
          "meat50",
          "vegan",
          "veggie",
          "fish",
          "meat",
          "meat100",
          "meat50",
          "vegan",
          "veggie",
          "",
          "",
          "",
          "",
          "",
          ""
         ],
         "type": "treemap",
         "values": [
          2895.7061766422185,
          5243.986235672828,
          7539.3939771502055,
          4145.654639819715,
          2108.1844452148216,
          896.2143448326292,
          4524.045120002571,
          5625.969584442549,
          8765.23236081481,
          4518.639867346366,
          2536.7265283047377,
          3824.8124745742225,
          1924.2474454816718,
          4000.9925538677862,
          7796.886503839854,
          2854.6772142966784,
          2239.281139725588,
          937.9784327690779,
          4280.894984307994,
          5716.633521477181,
          8138.946414833892,
          4586.0395565635845,
          2394.4772464113908,
          3102.1474484029854,
          2294.6737461006496,
          2082.410733032291,
          4300.330218467247,
          2056.9718070024205,
          2337.047248174169,
          1271.5001885117051,
          4169.455790956345,
          5875.421879098,
          8489.908775387608,
          4583.058560565335,
          2410.873633362491,
          3645.2506568927042,
          3895.0094623790824,
          2128.893332083443,
          4879.856209941906,
          2591.0955734390873,
          2278.237136406113,
          2844.5763236414455,
          4133.741637407093,
          5845.732022233653,
          8592.800834782514,
          4567.92052395062,
          2273.4146564709677,
          3518.94330806285,
          4015.7553395733717,
          3894.1712384677094,
          8516.476312091592,
          4267.560939178354,
          2379.8815447274696,
          3463.9601850459103,
          4104.004616528849,
          5887.454679568929,
          8376.5282934796,
          4526.302168957595,
          2231.0434979685383,
          3501.843105305301,
          3955.74576009181,
          5706.120668974561,
          8642.56847700614,
          4432.936558045785,
          2560.0775352862,
          3462.129196511104,
          4189.994829215353,
          5931.579035023312,
          8841.310310896512,
          4689.171951488497,
          2404.6650688558416,
          3625.118285015241,
          18981.137930268804,
          23056.57476209862,
          41675.51169849694,
          20348.89673178204,
          13902.709049534362,
          12876.358671311873,
          25402.136978418202,
          34882.79072184362,
          51204.72699019494,
          27471.132628871997,
          14251.200631373968,
          21218.115278253303,
          44383.27490868701,
          57939.365483942245,
          92880.23868869188,
          47820.029360654036,
          28153.909680908328,
          34094.473949565174
         ]
        }
       ],
       "layout": {
        "coloraxis": {
         "colorbar": {
          "len": 0.85,
          "title": {
           "side": "right",
           "text": "Mean N2Oe / n [g/day]"
          },
          "x": 1.02,
          "y": 0.5
         },
         "colorscale": [
          [
           0,
           "rgb(158,1,66)"
          ],
          [
           0.1,
           "rgb(213,62,79)"
          ],
          [
           0.2,
           "rgb(244,109,67)"
          ],
          [
           0.3,
           "rgb(253,174,97)"
          ],
          [
           0.4,
           "rgb(254,224,139)"
          ],
          [
           0.5,
           "rgb(255,255,191)"
          ],
          [
           0.6,
           "rgb(230,245,152)"
          ],
          [
           0.7,
           "rgb(171,221,164)"
          ],
          [
           0.8,
           "rgb(102,194,165)"
          ],
          [
           0.9,
           "rgb(50,136,189)"
          ],
          [
           1,
           "rgb(94,79,162)"
          ]
         ]
        },
        "height": 800,
        "legend": {
         "tracegroupgap": 0
        },
        "margin": {
         "b": 100,
         "l": 50,
         "r": 320,
         "t": 100
        },
        "template": {
         "data": {
          "bar": [
           {
            "error_x": {
             "color": "#2a3f5f"
            },
            "error_y": {
             "color": "#2a3f5f"
            },
            "marker": {
             "line": {
              "color": "#E5ECF6",
              "width": 0.5
             },
             "pattern": {
              "fillmode": "overlay",
              "size": 10,
              "solidity": 0.2
             }
            },
            "type": "bar"
           }
          ],
          "barpolar": [
           {
            "marker": {
             "line": {
              "color": "#E5ECF6",
              "width": 0.5
             },
             "pattern": {
              "fillmode": "overlay",
              "size": 10,
              "solidity": 0.2
             }
            },
            "type": "barpolar"
           }
          ],
          "carpet": [
           {
            "aaxis": {
             "endlinecolor": "#2a3f5f",
             "gridcolor": "white",
             "linecolor": "white",
             "minorgridcolor": "white",
             "startlinecolor": "#2a3f5f"
            },
            "baxis": {
             "endlinecolor": "#2a3f5f",
             "gridcolor": "white",
             "linecolor": "white",
             "minorgridcolor": "white",
             "startlinecolor": "#2a3f5f"
            },
            "type": "carpet"
           }
          ],
          "choropleth": [
           {
            "colorbar": {
             "outlinewidth": 0,
             "ticks": ""
            },
            "type": "choropleth"
           }
          ],
          "contour": [
           {
            "colorbar": {
             "outlinewidth": 0,
             "ticks": ""
            },
            "colorscale": [
             [
              0,
              "#0d0887"
             ],
             [
              0.1111111111111111,
              "#46039f"
             ],
             [
              0.2222222222222222,
              "#7201a8"
             ],
             [
              0.3333333333333333,
              "#9c179e"
             ],
             [
              0.4444444444444444,
              "#bd3786"
             ],
             [
              0.5555555555555556,
              "#d8576b"
             ],
             [
              0.6666666666666666,
              "#ed7953"
             ],
             [
              0.7777777777777778,
              "#fb9f3a"
             ],
             [
              0.8888888888888888,
              "#fdca26"
             ],
             [
              1,
              "#f0f921"
             ]
            ],
            "type": "contour"
           }
          ],
          "contourcarpet": [
           {
            "colorbar": {
             "outlinewidth": 0,
             "ticks": ""
            },
            "type": "contourcarpet"
           }
          ],
          "heatmap": [
           {
            "colorbar": {
             "outlinewidth": 0,
             "ticks": ""
            },
            "colorscale": [
             [
              0,
              "#0d0887"
             ],
             [
              0.1111111111111111,
              "#46039f"
             ],
             [
              0.2222222222222222,
              "#7201a8"
             ],
             [
              0.3333333333333333,
              "#9c179e"
             ],
             [
              0.4444444444444444,
              "#bd3786"
             ],
             [
              0.5555555555555556,
              "#d8576b"
             ],
             [
              0.6666666666666666,
              "#ed7953"
             ],
             [
              0.7777777777777778,
              "#fb9f3a"
             ],
             [
              0.8888888888888888,
              "#fdca26"
             ],
             [
              1,
              "#f0f921"
             ]
            ],
            "type": "heatmap"
           }
          ],
          "heatmapgl": [
           {
            "colorbar": {
             "outlinewidth": 0,
             "ticks": ""
            },
            "colorscale": [
             [
              0,
              "#0d0887"
             ],
             [
              0.1111111111111111,
              "#46039f"
             ],
             [
              0.2222222222222222,
              "#7201a8"
             ],
             [
              0.3333333333333333,
              "#9c179e"
             ],
             [
              0.4444444444444444,
              "#bd3786"
             ],
             [
              0.5555555555555556,
              "#d8576b"
             ],
             [
              0.6666666666666666,
              "#ed7953"
             ],
             [
              0.7777777777777778,
              "#fb9f3a"
             ],
             [
              0.8888888888888888,
              "#fdca26"
             ],
             [
              1,
              "#f0f921"
             ]
            ],
            "type": "heatmapgl"
           }
          ],
          "histogram": [
           {
            "marker": {
             "pattern": {
              "fillmode": "overlay",
              "size": 10,
              "solidity": 0.2
             }
            },
            "type": "histogram"
           }
          ],
          "histogram2d": [
           {
            "colorbar": {
             "outlinewidth": 0,
             "ticks": ""
            },
            "colorscale": [
             [
              0,
              "#0d0887"
             ],
             [
              0.1111111111111111,
              "#46039f"
             ],
             [
              0.2222222222222222,
              "#7201a8"
             ],
             [
              0.3333333333333333,
              "#9c179e"
             ],
             [
              0.4444444444444444,
              "#bd3786"
             ],
             [
              0.5555555555555556,
              "#d8576b"
             ],
             [
              0.6666666666666666,
              "#ed7953"
             ],
             [
              0.7777777777777778,
              "#fb9f3a"
             ],
             [
              0.8888888888888888,
              "#fdca26"
             ],
             [
              1,
              "#f0f921"
             ]
            ],
            "type": "histogram2d"
           }
          ],
          "histogram2dcontour": [
           {
            "colorbar": {
             "outlinewidth": 0,
             "ticks": ""
            },
            "colorscale": [
             [
              0,
              "#0d0887"
             ],
             [
              0.1111111111111111,
              "#46039f"
             ],
             [
              0.2222222222222222,
              "#7201a8"
             ],
             [
              0.3333333333333333,
              "#9c179e"
             ],
             [
              0.4444444444444444,
              "#bd3786"
             ],
             [
              0.5555555555555556,
              "#d8576b"
             ],
             [
              0.6666666666666666,
              "#ed7953"
             ],
             [
              0.7777777777777778,
              "#fb9f3a"
             ],
             [
              0.8888888888888888,
              "#fdca26"
             ],
             [
              1,
              "#f0f921"
             ]
            ],
            "type": "histogram2dcontour"
           }
          ],
          "mesh3d": [
           {
            "colorbar": {
             "outlinewidth": 0,
             "ticks": ""
            },
            "type": "mesh3d"
           }
          ],
          "parcoords": [
           {
            "line": {
             "colorbar": {
              "outlinewidth": 0,
              "ticks": ""
             }
            },
            "type": "parcoords"
           }
          ],
          "pie": [
           {
            "automargin": true,
            "type": "pie"
           }
          ],
          "scatter": [
           {
            "fillpattern": {
             "fillmode": "overlay",
             "size": 10,
             "solidity": 0.2
            },
            "type": "scatter"
           }
          ],
          "scatter3d": [
           {
            "line": {
             "colorbar": {
              "outlinewidth": 0,
              "ticks": ""
             }
            },
            "marker": {
             "colorbar": {
              "outlinewidth": 0,
              "ticks": ""
             }
            },
            "type": "scatter3d"
           }
          ],
          "scattercarpet": [
           {
            "marker": {
             "colorbar": {
              "outlinewidth": 0,
              "ticks": ""
             }
            },
            "type": "scattercarpet"
           }
          ],
          "scattergeo": [
           {
            "marker": {
             "colorbar": {
              "outlinewidth": 0,
              "ticks": ""
             }
            },
            "type": "scattergeo"
           }
          ],
          "scattergl": [
           {
            "marker": {
             "colorbar": {
              "outlinewidth": 0,
              "ticks": ""
             }
            },
            "type": "scattergl"
           }
          ],
          "scattermapbox": [
           {
            "marker": {
             "colorbar": {
              "outlinewidth": 0,
              "ticks": ""
             }
            },
            "type": "scattermapbox"
           }
          ],
          "scatterpolar": [
           {
            "marker": {
             "colorbar": {
              "outlinewidth": 0,
              "ticks": ""
             }
            },
            "type": "scatterpolar"
           }
          ],
          "scatterpolargl": [
           {
            "marker": {
             "colorbar": {
              "outlinewidth": 0,
              "ticks": ""
             }
            },
            "type": "scatterpolargl"
           }
          ],
          "scatterternary": [
           {
            "marker": {
             "colorbar": {
              "outlinewidth": 0,
              "ticks": ""
             }
            },
            "type": "scatterternary"
           }
          ],
          "surface": [
           {
            "colorbar": {
             "outlinewidth": 0,
             "ticks": ""
            },
            "colorscale": [
             [
              0,
              "#0d0887"
             ],
             [
              0.1111111111111111,
              "#46039f"
             ],
             [
              0.2222222222222222,
              "#7201a8"
             ],
             [
              0.3333333333333333,
              "#9c179e"
             ],
             [
              0.4444444444444444,
              "#bd3786"
             ],
             [
              0.5555555555555556,
              "#d8576b"
             ],
             [
              0.6666666666666666,
              "#ed7953"
             ],
             [
              0.7777777777777778,
              "#fb9f3a"
             ],
             [
              0.8888888888888888,
              "#fdca26"
             ],
             [
              1,
              "#f0f921"
             ]
            ],
            "type": "surface"
           }
          ],
          "table": [
           {
            "cells": {
             "fill": {
              "color": "#EBF0F8"
             },
             "line": {
              "color": "white"
             }
            },
            "header": {
             "fill": {
              "color": "#C8D4E3"
             },
             "line": {
              "color": "white"
             }
            },
            "type": "table"
           }
          ]
         },
         "layout": {
          "annotationdefaults": {
           "arrowcolor": "#2a3f5f",
           "arrowhead": 0,
           "arrowwidth": 1
          },
          "autotypenumbers": "strict",
          "coloraxis": {
           "colorbar": {
            "outlinewidth": 0,
            "ticks": ""
           }
          },
          "colorscale": {
           "diverging": [
            [
             0,
             "#8e0152"
            ],
            [
             0.1,
             "#c51b7d"
            ],
            [
             0.2,
             "#de77ae"
            ],
            [
             0.3,
             "#f1b6da"
            ],
            [
             0.4,
             "#fde0ef"
            ],
            [
             0.5,
             "#f7f7f7"
            ],
            [
             0.6,
             "#e6f5d0"
            ],
            [
             0.7,
             "#b8e186"
            ],
            [
             0.8,
             "#7fbc41"
            ],
            [
             0.9,
             "#4d9221"
            ],
            [
             1,
             "#276419"
            ]
           ],
           "sequential": [
            [
             0,
             "#0d0887"
            ],
            [
             0.1111111111111111,
             "#46039f"
            ],
            [
             0.2222222222222222,
             "#7201a8"
            ],
            [
             0.3333333333333333,
             "#9c179e"
            ],
            [
             0.4444444444444444,
             "#bd3786"
            ],
            [
             0.5555555555555556,
             "#d8576b"
            ],
            [
             0.6666666666666666,
             "#ed7953"
            ],
            [
             0.7777777777777778,
             "#fb9f3a"
            ],
            [
             0.8888888888888888,
             "#fdca26"
            ],
            [
             1,
             "#f0f921"
            ]
           ],
           "sequentialminus": [
            [
             0,
             "#0d0887"
            ],
            [
             0.1111111111111111,
             "#46039f"
            ],
            [
             0.2222222222222222,
             "#7201a8"
            ],
            [
             0.3333333333333333,
             "#9c179e"
            ],
            [
             0.4444444444444444,
             "#bd3786"
            ],
            [
             0.5555555555555556,
             "#d8576b"
            ],
            [
             0.6666666666666666,
             "#ed7953"
            ],
            [
             0.7777777777777778,
             "#fb9f3a"
            ],
            [
             0.8888888888888888,
             "#fdca26"
            ],
            [
             1,
             "#f0f921"
            ]
           ]
          },
          "colorway": [
           "#636efa",
           "#EF553B",
           "#00cc96",
           "#ab63fa",
           "#FFA15A",
           "#19d3f3",
           "#FF6692",
           "#B6E880",
           "#FF97FF",
           "#FECB52"
          ],
          "font": {
           "color": "#2a3f5f"
          },
          "geo": {
           "bgcolor": "white",
           "lakecolor": "white",
           "landcolor": "#E5ECF6",
           "showlakes": true,
           "showland": true,
           "subunitcolor": "white"
          },
          "hoverlabel": {
           "align": "left"
          },
          "hovermode": "closest",
          "mapbox": {
           "style": "light"
          },
          "paper_bgcolor": "white",
          "plot_bgcolor": "#E5ECF6",
          "polar": {
           "angularaxis": {
            "gridcolor": "white",
            "linecolor": "white",
            "ticks": ""
           },
           "bgcolor": "#E5ECF6",
           "radialaxis": {
            "gridcolor": "white",
            "linecolor": "white",
            "ticks": ""
           }
          },
          "scene": {
           "xaxis": {
            "backgroundcolor": "#E5ECF6",
            "gridcolor": "white",
            "gridwidth": 2,
            "linecolor": "white",
            "showbackground": true,
            "ticks": "",
            "zerolinecolor": "white"
           },
           "yaxis": {
            "backgroundcolor": "#E5ECF6",
            "gridcolor": "white",
            "gridwidth": 2,
            "linecolor": "white",
            "showbackground": true,
            "ticks": "",
            "zerolinecolor": "white"
           },
           "zaxis": {
            "backgroundcolor": "#E5ECF6",
            "gridcolor": "white",
            "gridwidth": 2,
            "linecolor": "white",
            "showbackground": true,
            "ticks": "",
            "zerolinecolor": "white"
           }
          },
          "shapedefaults": {
           "line": {
            "color": "#2a3f5f"
           }
          },
          "ternary": {
           "aaxis": {
            "gridcolor": "white",
            "linecolor": "white",
            "ticks": ""
           },
           "baxis": {
            "gridcolor": "white",
            "linecolor": "white",
            "ticks": ""
           },
           "bgcolor": "#E5ECF6",
           "caxis": {
            "gridcolor": "white",
            "linecolor": "white",
            "ticks": ""
           }
          },
          "title": {
           "x": 0.05
          },
          "xaxis": {
           "automargin": true,
           "gridcolor": "white",
           "linecolor": "white",
           "ticks": "",
           "title": {
            "standoff": 15
           },
           "zerolinecolor": "white",
           "zerolinewidth": 2
          },
          "yaxis": {
           "automargin": true,
           "gridcolor": "white",
           "linecolor": "white",
           "ticks": "",
           "title": {
            "standoff": 15
           },
           "zerolinecolor": "white",
           "zerolinewidth": 2
          }
         }
        },
        "title": {
         "text": "Environmental Impact and Emissions Intensity per Participant by Grouping: GWP100 vs. N2O Emissions"
        },
        "width": 1200
       }
      },
      "image/png": "[encoded data removed]",
      "text/html": [
       "<div>                            <div id=\"88424fe1-63cf-4626-9762-b601db0bdbcd\" class=\"plotly-graph-div\" style=\"height:800px; width:1200px;\"></div>            <script type=\"text/javascript\">                require([\"plotly\"], function(Plotly) {                    window.PLOTLYENV=window.PLOTLYENV || {};                                    if (document.getElementById(\"88424fe1-63cf-4626-9762-b601db0bdbcd\")) {                    Plotly.newPlot(                        \"88424fe1-63cf-4626-9762-b601db0bdbcd\",                        [{\"branchvalues\":\"total\",\"customdata\":[[0.24265320311361915],[0.4999645688116593],[0.7691511530025442],[0.376911254632199],[0.199807660741273],[0.07733449925666314],[0.3788676186441718],[0.5397423436622519],[0.9191468411060615],[0.4189313569770992],[0.23366977809090905],[0.3232783215835913],[0.15907646818774704],[0.3760405871814813],[0.7661303730874033],[0.2527954309689817],[0.21351642882978714],[0.08069072795872315],[0.35471782484466036],[0.5535945240888158],[0.8424090284807692],[0.41030972651891895],[0.2175035964621514],[0.2590708579164618],[0.18970576506571937],[0.1945263379601475],[0.4209944044170544],[0.18271549619015778],[0.22416971773972605],[0.1084998216606083],[0.34334880149074065],[0.5559893020392159],[0.8442018670211041],[0.40229153892633934],[0.22686475770303025],[0.304127215937565],[0.3236051649841439],[0.19778079835458615],[0.4718261067410154],[0.23005588168080088],[0.2225187283867925],[0.24424361846550288],[0.3384894248785047],[0.5473630215618479],[0.8500217420592214],[0.41138360682682923],[0.2196835207903226],[0.30122733530046936],[0.34138616234146335],[0.36334126837019254],[0.8250366667864761],[0.37944343023877747],[0.23176585972839522],[0.2996825515261194],[0.35250189006289306],[0.5525699054384855],[0.8415560131878456],[0.41200998688461526],[0.22317426567307683],[0.3079557081091704],[0.34548682269743586],[0.5494674600066666],[0.8535477086459855],[0.40154646016010503],[0.23699175424],[0.306595227100346],[0.37462861594117647],[0.5718235006796538],[0.882762953053571],[0.4198542272097901],[0.23081460342105267],[0.32309002396835435],[0.2867106410151865],[0.4121480188993235],[0.7267690825602183],[0.32706729418807556],[0.22215043948436183],[0.23898699939657786],[0.3574380687793748],[0.5536462662404588],[0.863947988910254],[0.4124780869443378],[0.22544634153994864],[0.30438278091666954],[0.3271904796907557],[0.49733800515963994],[0.8023955941587754],[0.3761331615059013],[0.2238187889955978],[0.2796849504210567]],\"domain\":{\"x\":[0.0,1.0],\"y\":[0.0,1.0]},\"hovertemplate\":\"labels=%{label}<br>(total)_mean_gwp100_co2e_per_n=%{value}<br>parent=%{parent}<br>id=%{id}<br>n2o_per_n=%{color}<extra></extra>\",\"ids\":[\"fish/female/20-29\",\"meat/female/20-29\",\"meat100/female/20-29\",\"meat50/female/20-29\",\"vegan/female/20-29\",\"veggie/female/20-29\",\"fish/male/20-29\",\"meat/male/20-29\",\"meat100/male/20-29\",\"meat50/male/20-29\",\"vegan/male/20-29\",\"veggie/male/20-29\",\"fish/female/30-39\",\"meat/female/30-39\",\"meat100/female/30-39\",\"meat50/female/30-39\",\"vegan/female/30-39\",\"veggie/female/30-39\",\"fish/male/30-39\",\"meat/male/30-39\",\"meat100/male/30-39\",\"meat50/male/30-39\",\"vegan/male/30-39\",\"veggie/male/30-39\",\"fish/female/40-49\",\"meat/female/40-49\",\"meat100/female/40-49\",\"meat50/female/40-49\",\"vegan/female/40-49\",\"veggie/female/40-49\",\"fish/male/40-49\",\"meat/male/40-49\",\"meat100/male/40-49\",\"meat50/male/40-49\",\"vegan/male/40-49\",\"veggie/male/40-49\",\"fish/female/50-59\",\"meat/female/50-59\",\"meat100/female/50-59\",\"meat50/female/50-59\",\"vegan/female/50-59\",\"veggie/female/50-59\",\"fish/male/50-59\",\"meat/male/50-59\",\"meat100/male/50-59\",\"meat50/male/50-59\",\"vegan/male/50-59\",\"veggie/male/50-59\",\"fish/female/60-69\",\"meat/female/60-69\",\"meat100/female/60-69\",\"meat50/female/60-69\",\"vegan/female/60-69\",\"veggie/female/60-69\",\"fish/male/60-69\",\"meat/male/60-69\",\"meat100/male/60-69\",\"meat50/male/60-69\",\"vegan/male/60-69\",\"veggie/male/60-69\",\"fish/female/70-79\",\"meat/female/70-79\",\"meat100/female/70-79\",\"meat50/female/70-79\",\"vegan/female/70-79\",\"veggie/female/70-79\",\"fish/male/70-79\",\"meat/male/70-79\",\"meat100/male/70-79\",\"meat50/male/70-79\",\"vegan/male/70-79\",\"veggie/male/70-79\",\"fish/female\",\"meat/female\",\"meat100/female\",\"meat50/female\",\"vegan/female\",\"veggie/female\",\"fish/male\",\"meat/male\",\"meat100/male\",\"meat50/male\",\"vegan/male\",\"veggie/male\",\"fish\",\"meat\",\"meat100\",\"meat50\",\"vegan\",\"veggie\"],\"labels\":[\"20-29\",\"20-29\",\"20-29\",\"20-29\",\"20-29\",\"20-29\",\"20-29\",\"20-29\",\"20-29\",\"20-29\",\"20-29\",\"20-29\",\"30-39\",\"30-39\",\"30-39\",\"30-39\",\"30-39\",\"30-39\",\"30-39\",\"30-39\",\"30-39\",\"30-39\",\"30-39\",\"30-39\",\"40-49\",\"40-49\",\"40-49\",\"40-49\",\"40-49\",\"40-49\",\"40-49\",\"40-49\",\"40-49\",\"40-49\",\"40-49\",\"40-49\",\"50-59\",\"50-59\",\"50-59\",\"50-59\",\"50-59\",\"50-59\",\"50-59\",\"50-59\",\"50-59\",\"50-59\",\"50-59\",\"50-59\",\"60-69\",\"60-69\",\"60-69\",\"60-69\",\"60-69\",\"60-69\",\"60-69\",\"60-69\",\"60-69\",\"60-69\",\"60-69\",\"60-69\",\"70-79\",\"70-79\",\"70-79\",\"70-79\",\"70-79\",\"70-79\",\"70-79\",\"70-79\",\"70-79\",\"70-79\",\"70-79\",\"70-79\",\"female\",\"female\",\"female\",\"female\",\"female\",\"female\",\"male\",\"male\",\"male\",\"male\",\"male\",\"male\",\"fish\",\"meat\",\"meat100\",\"meat50\",\"vegan\",\"veggie\"],\"marker\":{\"coloraxis\":\"coloraxis\",\"colors\":[0.24265320311361915,0.4999645688116593,0.7691511530025442,0.376911254632199,0.199807660741273,0.07733449925666314,0.3788676186441718,0.5397423436622519,0.9191468411060615,0.4189313569770992,0.23366977809090905,0.3232783215835913,0.15907646818774704,0.3760405871814813,0.7661303730874033,0.2527954309689817,0.21351642882978714,0.08069072795872315,0.35471782484466036,0.5535945240888158,0.8424090284807692,0.41030972651891895,0.2175035964621514,0.2590708579164618,0.18970576506571937,0.1945263379601475,0.4209944044170544,0.18271549619015778,0.22416971773972605,0.1084998216606083,0.34334880149074065,0.5559893020392159,0.8442018670211041,0.40229153892633934,0.22686475770303025,0.304127215937565,0.3236051649841439,0.19778079835458615,0.4718261067410154,0.23005588168080088,0.2225187283867925,0.24424361846550288,0.3384894248785047,0.5473630215618479,0.8500217420592214,0.41138360682682923,0.2196835207903226,0.30122733530046936,0.34138616234146335,0.36334126837019254,0.8250366667864761,0.37944343023877747,0.23176585972839522,0.2996825515261194,0.35250189006289306,0.5525699054384855,0.8415560131878456,0.41200998688461526,0.22317426567307683,0.3079557081091704,0.34548682269743586,0.5494674600066666,0.8535477086459855,0.40154646016010503,0.23699175424,0.306595227100346,0.37462861594117647,0.5718235006796538,0.882762953053571,0.4198542272097901,0.23081460342105267,0.32309002396835435,0.2867106410151865,0.4121480188993235,0.7267690825602183,0.32706729418807556,0.22215043948436183,0.23898699939657786,0.3574380687793748,0.5536462662404588,0.863947988910254,0.4124780869443378,0.22544634153994864,0.30438278091666954,0.3271904796907557,0.49733800515963994,0.8023955941587754,0.3761331615059013,0.2238187889955978,0.2796849504210567]},\"name\":\"\",\"parents\":[\"fish/female\",\"meat/female\",\"meat100/female\",\"meat50/female\",\"vegan/female\",\"veggie/female\",\"fish/male\",\"meat/male\",\"meat100/male\",\"meat50/male\",\"vegan/male\",\"veggie/male\",\"fish/female\",\"meat/female\",\"meat100/female\",\"meat50/female\",\"vegan/female\",\"veggie/female\",\"fish/male\",\"meat/male\",\"meat100/male\",\"meat50/male\",\"vegan/male\",\"veggie/male\",\"fish/female\",\"meat/female\",\"meat100/female\",\"meat50/female\",\"vegan/female\",\"veggie/female\",\"fish/male\",\"meat/male\",\"meat100/male\",\"meat50/male\",\"vegan/male\",\"veggie/male\",\"fish/female\",\"meat/female\",\"meat100/female\",\"meat50/female\",\"vegan/female\",\"veggie/female\",\"fish/male\",\"meat/male\",\"meat100/male\",\"meat50/male\",\"vegan/male\",\"veggie/male\",\"fish/female\",\"meat/female\",\"meat100/female\",\"meat50/female\",\"vegan/female\",\"veggie/female\",\"fish/male\",\"meat/male\",\"meat100/male\",\"meat50/male\",\"vegan/male\",\"veggie/male\",\"fish/female\",\"meat/female\",\"meat100/female\",\"meat50/female\",\"vegan/female\",\"veggie/female\",\"fish/male\",\"meat/male\",\"meat100/male\",\"meat50/male\",\"vegan/male\",\"veggie/male\",\"fish\",\"meat\",\"meat100\",\"meat50\",\"vegan\",\"veggie\",\"fish\",\"meat\",\"meat100\",\"meat50\",\"vegan\",\"veggie\",\"\",\"\",\"\",\"\",\"\",\"\"],\"values\":[2895.7061766422185,5243.986235672828,7539.3939771502055,4145.654639819715,2108.1844452148216,896.2143448326292,4524.045120002571,5625.969584442549,8765.23236081481,4518.639867346366,2536.7265283047377,3824.8124745742225,1924.2474454816718,4000.9925538677862,7796.886503839854,2854.6772142966784,2239.281139725588,937.9784327690779,4280.894984307994,5716.633521477181,8138.946414833892,4586.0395565635845,2394.4772464113908,3102.1474484029854,2294.6737461006496,2082.410733032291,4300.330218467247,2056.9718070024205,2337.047248174169,1271.5001885117051,4169.455790956345,5875.421879098,8489.908775387608,4583.058560565335,2410.873633362491,3645.2506568927042,3895.0094623790824,2128.893332083443,4879.856209941906,2591.0955734390873,2278.237136406113,2844.5763236414455,4133.741637407093,5845.732022233653,8592.800834782514,4567.92052395062,2273.4146564709677,3518.94330806285,4015.7553395733717,3894.1712384677094,8516.476312091592,4267.560939178354,2379.8815447274696,3463.9601850459103,4104.004616528849,5887.454679568929,8376.5282934796,4526.302168957595,2231.0434979685383,3501.843105305301,3955.74576009181,5706.120668974561,8642.56847700614,4432.936558045785,2560.0775352862,3462.129196511104,4189.994829215353,5931.579035023312,8841.310310896512,4689.171951488497,2404.6650688558416,3625.118285015241,18981.137930268804,23056.57476209862,41675.51169849694,20348.89673178204,13902.709049534362,12876.358671311873,25402.136978418202,34882.79072184362,51204.72699019494,27471.132628871997,14251.200631373968,21218.115278253303,44383.27490868701,57939.365483942245,92880.23868869188,47820.029360654036,28153.909680908328,34094.473949565174],\"type\":\"treemap\"}],                        {\"template\":{\"data\":{\"histogram2dcontour\":[{\"type\":\"histogram2dcontour\",\"colorbar\":{\"outlinewidth\":0,\"ticks\":\"\"},\"colorscale\":[[0.0,\"#0d0887\"],[0.1111111111111111,\"#46039f\"],[0.2222222222222222,\"#7201a8\"],[0.3333333333333333,\"#9c179e\"],[0.4444444444444444,\"#bd3786\"],[0.5555555555555556,\"#d8576b\"],[0.6666666666666666,\"#ed7953\"],[0.7777777777777778,\"#fb9f3a\"],[0.8888888888888888,\"#fdca26\"],[1.0,\"#f0f921\"]]}],\"choropleth\":[{\"type\":\"choropleth\",\"colorbar\":{\"outlinewidth\":0,\"ticks\":\"\"}}],\"histogram2d\":[{\"type\":\"histogram2d\",\"colorbar\":{\"outlinewidth\":0,\"ticks\":\"\"},\"colorscale\":[[0.0,\"#0d0887\"],[0.1111111111111111,\"#46039f\"],[0.2222222222222222,\"#7201a8\"],[0.3333333333333333,\"#9c179e\"],[0.4444444444444444,\"#bd3786\"],[0.5555555555555556,\"#d8576b\"],[0.6666666666666666,\"#ed7953\"],[0.7777777777777778,\"#fb9f3a\"],[0.8888888888888888,\"#fdca26\"],[1.0,\"#f0f921\"]]}],\"heatmap\":[{\"type\":\"heatmap\",\"colorbar\":{\"outlinewidth\":0,\"ticks\":\"\"},\"colorscale\":[[0.0,\"#0d0887\"],[0.1111111111111111,\"#46039f\"],[0.2222222222222222,\"#7201a8\"],[0.3333333333333333,\"#9c179e\"],[0.4444444444444444,\"#bd3786\"],[0.5555555555555556,\"#d8576b\"],[0.6666666666666666,\"#ed7953\"],[0.7777777777777778,\"#fb9f3a\"],[0.8888888888888888,\"#fdca26\"],[1.0,\"#f0f921\"]]}],\"heatmapgl\":[{\"type\":\"heatmapgl\",\"colorbar\":{\"outlinewidth\":0,\"ticks\":\"\"},\"colorscale\":[[0.0,\"#0d0887\"],[0.1111111111111111,\"#46039f\"],[0.2222222222222222,\"#7201a8\"],[0.3333333333333333,\"#9c179e\"],[0.4444444444444444,\"#bd3786\"],[0.5555555555555556,\"#d8576b\"],[0.6666666666666666,\"#ed7953\"],[0.7777777777777778,\"#fb9f3a\"],[0.8888888888888888,\"#fdca26\"],[1.0,\"#f0f921\"]]}],\"contourcarpet\":[{\"type\":\"contourcarpet\",\"colorbar\":{\"outlinewidth\":0,\"ticks\":\"\"}}],\"contour\":[{\"type\":\"contour\",\"colorbar\":{\"outlinewidth\":0,\"ticks\":\"\"},\"colorscale\":[[0.0,\"#0d0887\"],[0.1111111111111111,\"#46039f\"],[0.2222222222222222,\"#7201a8\"],[0.3333333333333333,\"#9c179e\"],[0.4444444444444444,\"#bd3786\"],[0.5555555555555556,\"#d8576b\"],[0.6666666666666666,\"#ed7953\"],[0.7777777777777778,\"#fb9f3a\"],[0.8888888888888888,\"#fdca26\"],[1.0,\"#f0f921\"]]}],\"surface\":[{\"type\":\"surface\",\"colorbar\":{\"outlinewidth\":0,\"ticks\":\"\"},\"colorscale\":[[0.0,\"#0d0887\"],[0.1111111111111111,\"#46039f\"],[0.2222222222222222,\"#7201a8\"],[0.3333333333333333,\"#9c179e\"],[0.4444444444444444,\"#bd3786\"],[0.5555555555555556,\"#d8576b\"],[0.6666666666666666,\"#ed7953\"],[0.7777777777777778,\"#fb9f3a\"],[0.8888888888888888,\"#fdca26\"],[1.0,\"#f0f921\"]]}],\"mesh3d\":[{\"type\":\"mesh3d\",\"colorbar\":{\"outlinewidth\":0,\"ticks\":\"\"}}],\"scatter\":[{\"fillpattern\":{\"fillmode\":\"overlay\",\"size\":10,\"solidity\":0.2},\"type\":\"scatter\"}],\"parcoords\":[{\"type\":\"parcoords\",\"line\":{\"colorbar\":{\"outlinewidth\":0,\"ticks\":\"\"}}}],\"scatterpolargl\":[{\"type\":\"scatterpolargl\",\"marker\":{\"colorbar\":{\"outlinewidth\":0,\"ticks\":\"\"}}}],\"bar\":[{\"error_x\":{\"color\":\"#2a3f5f\"},\"error_y\":{\"color\":\"#2a3f5f\"},\"marker\":{\"line\":{\"color\":\"#E5ECF6\",\"width\":0.5},\"pattern\":{\"fillmode\":\"overlay\",\"size\":10,\"solidity\":0.2}},\"type\":\"bar\"}],\"scattergeo\":[{\"type\":\"scattergeo\",\"marker\":{\"colorbar\":{\"outlinewidth\":0,\"ticks\":\"\"}}}],\"scatterpolar\":[{\"type\":\"scatterpolar\",\"marker\":{\"colorbar\":{\"outlinewidth\":0,\"ticks\":\"\"}}}],\"histogram\":[{\"marker\":{\"pattern\":{\"fillmode\":\"overlay\",\"size\":10,\"solidity\":0.2}},\"type\":\"histogram\"}],\"scattergl\":[{\"type\":\"scattergl\",\"marker\":{\"colorbar\":{\"outlinewidth\":0,\"ticks\":\"\"}}}],\"scatter3d\":[{\"type\":\"scatter3d\",\"line\":{\"colorbar\":{\"outlinewidth\":0,\"ticks\":\"\"}},\"marker\":{\"colorbar\":{\"outlinewidth\":0,\"ticks\":\"\"}}}],\"scattermapbox\":[{\"type\":\"scattermapbox\",\"marker\":{\"colorbar\":{\"outlinewidth\":0,\"ticks\":\"\"}}}],\"scatterternary\":[{\"type\":\"scatterternary\",\"marker\":{\"colorbar\":{\"outlinewidth\":0,\"ticks\":\"\"}}}],\"scattercarpet\":[{\"type\":\"scattercarpet\",\"marker\":{\"colorbar\":{\"outlinewidth\":0,\"ticks\":\"\"}}}],\"carpet\":[{\"aaxis\":{\"endlinecolor\":\"#2a3f5f\",\"gridcolor\":\"white\",\"linecolor\":\"white\",\"minorgridcolor\":\"white\",\"startlinecolor\":\"#2a3f5f\"},\"baxis\":{\"endlinecolor\":\"#2a3f5f\",\"gridcolor\":\"white\",\"linecolor\":\"white\",\"minorgridcolor\":\"white\",\"startlinecolor\":\"#2a3f5f\"},\"type\":\"carpet\"}],\"table\":[{\"cells\":{\"fill\":{\"color\":\"#EBF0F8\"},\"line\":{\"color\":\"white\"}},\"header\":{\"fill\":{\"color\":\"#C8D4E3\"},\"line\":{\"color\":\"white\"}},\"type\":\"table\"}],\"barpolar\":[{\"marker\":{\"line\":{\"color\":\"#E5ECF6\",\"width\":0.5},\"pattern\":{\"fillmode\":\"overlay\",\"size\":10,\"solidity\":0.2}},\"type\":\"barpolar\"}],\"pie\":[{\"automargin\":true,\"type\":\"pie\"}]},\"layout\":{\"autotypenumbers\":\"strict\",\"colorway\":[\"#636efa\",\"#EF553B\",\"#00cc96\",\"#ab63fa\",\"#FFA15A\",\"#19d3f3\",\"#FF6692\",\"#B6E880\",\"#FF97FF\",\"#FECB52\"],\"font\":{\"color\":\"#2a3f5f\"},\"hovermode\":\"closest\",\"hoverlabel\":{\"align\":\"left\"},\"paper_bgcolor\":\"white\",\"plot_bgcolor\":\"#E5ECF6\",\"polar\":{\"bgcolor\":\"#E5ECF6\",\"angularaxis\":{\"gridcolor\":\"white\",\"linecolor\":\"white\",\"ticks\":\"\"},\"radialaxis\":{\"gridcolor\":\"white\",\"linecolor\":\"white\",\"ticks\":\"\"}},\"ternary\":{\"bgcolor\":\"#E5ECF6\",\"aaxis\":{\"gridcolor\":\"white\",\"linecolor\":\"white\",\"ticks\":\"\"},\"baxis\":{\"gridcolor\":\"white\",\"linecolor\":\"white\",\"ticks\":\"\"},\"caxis\":{\"gridcolor\":\"white\",\"linecolor\":\"white\",\"ticks\":\"\"}},\"coloraxis\":{\"colorbar\":{\"outlinewidth\":0,\"ticks\":\"\"}},\"colorscale\":{\"sequential\":[[0.0,\"#0d0887\"],[0.1111111111111111,\"#46039f\"],[0.2222222222222222,\"#7201a8\"],[0.3333333333333333,\"#9c179e\"],[0.4444444444444444,\"#bd3786\"],[0.5555555555555556,\"#d8576b\"],[0.6666666666666666,\"#ed7953\"],[0.7777777777777778,\"#fb9f3a\"],[0.8888888888888888,\"#fdca26\"],[1.0,\"#f0f921\"]],\"sequentialminus\":[[0.0,\"#0d0887\"],[0.1111111111111111,\"#46039f\"],[0.2222222222222222,\"#7201a8\"],[0.3333333333333333,\"#9c179e\"],[0.4444444444444444,\"#bd3786\"],[0.5555555555555556,\"#d8576b\"],[0.6666666666666666,\"#ed7953\"],[0.7777777777777778,\"#fb9f3a\"],[0.8888888888888888,\"#fdca26\"],[1.0,\"#f0f921\"]],\"diverging\":[[0,\"#8e0152\"],[0.1,\"#c51b7d\"],[0.2,\"#de77ae\"],[0.3,\"#f1b6da\"],[0.4,\"#fde0ef\"],[0.5,\"#f7f7f7\"],[0.6,\"#e6f5d0\"],[0.7,\"#b8e186\"],[0.8,\"#7fbc41\"],[0.9,\"#4d9221\"],[1,\"#276419\"]]},\"xaxis\":{\"gridcolor\":\"white\",\"linecolor\":\"white\",\"ticks\":\"\",\"title\":{\"standoff\":15},\"zerolinecolor\":\"white\",\"automargin\":true,\"zerolinewidth\":2},\"yaxis\":{\"gridcolor\":\"white\",\"linecolor\":\"white\",\"ticks\":\"\",\"title\":{\"standoff\":15},\"zerolinecolor\":\"white\",\"automargin\":true,\"zerolinewidth\":2},\"scene\":{\"xaxis\":{\"backgroundcolor\":\"#E5ECF6\",\"gridcolor\":\"white\",\"linecolor\":\"white\",\"showbackground\":true,\"ticks\":\"\",\"zerolinecolor\":\"white\",\"gridwidth\":2},\"yaxis\":{\"backgroundcolor\":\"#E5ECF6\",\"gridcolor\":\"white\",\"linecolor\":\"white\",\"showbackground\":true,\"ticks\":\"\",\"zerolinecolor\":\"white\",\"gridwidth\":2},\"zaxis\":{\"backgroundcolor\":\"#E5ECF6\",\"gridcolor\":\"white\",\"linecolor\":\"white\",\"showbackground\":true,\"ticks\":\"\",\"zerolinecolor\":\"white\",\"gridwidth\":2}},\"shapedefaults\":{\"line\":{\"color\":\"#2a3f5f\"}},\"annotationdefaults\":{\"arrowcolor\":\"#2a3f5f\",\"arrowhead\":0,\"arrowwidth\":1},\"geo\":{\"bgcolor\":\"white\",\"landcolor\":\"#E5ECF6\",\"subunitcolor\":\"white\",\"showland\":true,\"showlakes\":true,\"lakecolor\":\"white\"},\"title\":{\"x\":0.05},\"mapbox\":{\"style\":\"light\"}}},\"coloraxis\":{\"colorbar\":{\"title\":{\"text\":\"Mean N2Oe / n [g/day]\",\"side\":\"right\"},\"len\":0.85,\"y\":0.5},\"colorscale\":[[0.0,\"rgb(158,1,66)\"],[0.1,\"rgb(213,62,79)\"],[0.2,\"rgb(244,109,67)\"],[0.3,\"rgb(253,174,97)\"],[0.4,\"rgb(254,224,139)\"],[0.5,\"rgb(255,255,191)\"],[0.6,\"rgb(230,245,152)\"],[0.7,\"rgb(171,221,164)\"],[0.8,\"rgb(102,194,165)\"],[0.9,\"rgb(50,136,189)\"],[1.0,\"rgb(94,79,162)\"]]},\"legend\":{\"tracegroupgap\":0},\"title\":{\"text\":\"Environmental Impact and Emissions Intensity per Participant by Grouping: GWP100 vs. N2O Emissions\"},\"height\":800,\"width\":1200,\"margin\":{\"t\":100,\"r\":320,\"b\":100,\"l\":50}},                        {\"responsive\": true}                    ).then(function(){\n",
       "                            \n",
       "var gd = document.getElementById('88424fe1-63cf-4626-9762-b601db0bdbcd');\n",
       "var x = new MutationObserver(function (mutations, observer) {{\n",
       "        var display = window.getComputedStyle(gd).display;\n",
       "        if (!display || display === 'none') {{\n",
       "            console.log([gd, 'removed!']);\n",
       "            Plotly.purge(gd);\n",
       "            observer.disconnect();\n",
       "        }}\n",
       "}});\n",
       "\n",
       "// Listen for the removal of the full notebook cells\n",
       "var notebookContainer = gd.closest('#notebook-container');\n",
       "if (notebookContainer) {{\n",
       "    x.observe(notebookContainer, {childList: true});\n",
       "}}\n",
       "\n",
       "// Listen for the clearing of the current output cell\n",
       "var outputEl = gd.closest('.output');\n",
       "if (outputEl) {{\n",
       "    x.observe(outputEl, {childList: true});\n",
       "}}\n",
       "\n",
       "                        })                };                });            </script>        </div>"
      ]
     },
     "metadata": {},
     "output_type": "display_data"
    }
   ],
   "source": [
    "fig = px.treemap(data_frame=df, \n",
    "                 path=['diet_group', 'sex', 'age_group'], \n",
    "                 values='(total)_mean_gwp100_co2e_per_n', \n",
    "                 color='n2o_per_n', \n",
    "                 color_continuous_scale='spectral', \n",
    "                 title='Environmental Impact and Emissions Intensity per Participant by Grouping: GWP100 vs. N2O Emissions',\n",
    "                 height=800,\n",
    "                 width=1200)\n",
    "\n",
    "fig.update_coloraxes(colorbar_title='Mean N2Oe / n [g/day]', \n",
    "                     colorbar=dict(len=0.85, title=dict(side='right'), y=0.5))\n",
    "\n",
    "fig.update_layout(margin=dict(t=100, r=320, b=100, l=50))\n",
    "fig.show()"
   ]
  },
  {
   "cell_type": "code",
   "execution_count": 17,
   "id": "b8054a29-309f-49ea-80f8-cbbe48ad9088",
   "metadata": {},
   "outputs": [
    {
     "data": {
      "image/png": "[encoded data removed]",
      "text/plain": [
       "<Figure size 1200x800 with 1 Axes>"
      ]
     },
     "metadata": {},
     "output_type": "display_data"
    }
   ],
   "source": [
    "# convert dictionary to dataframe\n",
    "mean_ghgs_n2o_df = pd.DataFrame(list(mean_ghgs_n2o_per_participant_by_group.items()), columns=['grouping', 'N2O_per_n'])\n",
    "\n",
    "# merge n2o_df with original df\n",
    "mean_ghgs_n2o_df = pd.merge(mean_ghgs_n2o_df, df[['grouping', 'sex']], on='grouping')\n",
    "\n",
    "mean_ghgs_n2o_df_sorted = mean_ghgs_n2o_df.sort_values(by='N2O_per_n', ascending=False)\n",
    "top_50_percent_rows = int(len(mean_ghgs_n2o_df_sorted) * 0.5)\n",
    "top_50_percent_df = mean_ghgs_n2o_df_sorted.head(top_50_percent_rows)\n",
    "\n",
    "plt.figure(figsize=(12, 8))\n",
    "sns.barplot(x='N2O_per_n', y='grouping', data=top_50_percent_df, hue='sex', palette='coolwarm', dodge=False)\n",
    "plt.xlabel('Mean N2O emissions [g/day]')\n",
    "plt.ylabel('Grouping')\n",
    "plt.title('50th Percentile Mean N2O Emissions per Participant by Grouping')\n",
    "plt.legend(title='Sex')\n",
    "plt.show()\n",
    "\n",
    "# this part doesn't work \n",
    "#for i, group in enumerate(top_50_percent_df['grouping']):\n",
    "    #if '70-79' in group:        \n",
    "        #ax.text(top_50_percent_df.loc[top_50_percent_df['grouping'] == group, 'n2o_per_n'].values[0], i, group, \n",
    "                #color='red', weight='bold')\n",
    "\n",
    "#plt.show()"
   ]
  },
  {
   "cell_type": "code",
   "execution_count": 18,
   "id": "00af6432-8d8d-44ab-9055-89d868185e27",
   "metadata": {},
   "outputs": [
    {
     "name": "stdout",
     "output_type": "stream",
     "text": [
      "Number of male entries in 50th percentile: 22\n",
      "\n",
      "Percentage of male entries in 50th percentile: 61 %\n"
     ]
    }
   ],
   "source": [
    "male_entries_df = top_50_percent_df[top_50_percent_df['sex'] == 'male']\n",
    "\n",
    "# number of unique male entries\n",
    "num_male_unique_entries = male_entries_df['grouping'].nunique()\n",
    "print(\"Number of male entries in 50th percentile:\", num_male_unique_entries)\n",
    "\n",
    "num_total_unique_entries = top_50_percent_df['grouping'].nunique()\n",
    "percentage_male_unique_entries = (num_male_unique_entries / num_total_unique_entries) * 100\n",
    "\n",
    "print(\"\\nPercentage of male entries in 50th percentile:\", f\"{percentage_male_unique_entries:.0f} %\")"
   ]
  },
  {
   "cell_type": "code",
   "execution_count": null,
   "id": "a8910685-07b0-4342-8c4a-87f59403bb08",
   "metadata": {},
   "outputs": [],
   "source": []
  }
 ],
 "metadata": {
  "kernelspec": {
   "display_name": "Python 3 (ipykernel)",
   "language": "python",
   "name": "python3"
  },
  "language_info": {
   "codemirror_mode": {
    "name": "ipython",
    "version": 3
   },
   "file_extension": ".py",
   "mimetype": "text/x-python",
   "name": "python",
   "nbconvert_exporter": "python",
   "pygments_lexer": "ipython3",
   "version": "3.11.7"
  }
 },
 "nbformat": 4,
 "nbformat_minor": 5
}
