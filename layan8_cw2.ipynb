{
 "cells": [
  {
   "cell_type": "code",
   "execution_count": 305,
   "id": "f69e7d8d-b14e-44aa-b992-de4cbf974c9a",
   "metadata": {},
   "outputs": [],
   "source": [
    "import numpy as np\n",
    "import pandas as pd\n",
    "import matplotlib.pyplot as plt\n",
    "import seaborn as sns\n",
    "import plotly.express as px"
   ]
  },
  {
   "cell_type": "code",
   "execution_count": 2,
   "id": "62463097-5aea-41ae-b5cf-7debd2ce1e84",
   "metadata": {},
   "outputs": [],
   "source": [
    "df = pd.read_csv('Results_21Mar2022.csv')\n",
    "df.drop(columns=['mc_run_id'], inplace=True)"
   ]
  },
  {
   "cell_type": "code",
   "execution_count": 335,
   "id": "69eb6c31-fbbf-452b-89ee-f231c7399cc6",
   "metadata": {},
   "outputs": [
    {
     "data": {
      "text/html": [
       "<div>\n",
       "<style scoped>\n",
       "    .dataframe tbody tr th:only-of-type {\n",
       "        vertical-align: middle;\n",
       "    }\n",
       "\n",
       "    .dataframe tbody tr th {\n",
       "        vertical-align: top;\n",
       "    }\n",
       "\n",
       "    .dataframe thead th {\n",
       "        text-align: right;\n",
       "    }\n",
       "</style>\n",
       "<table border=\"1\" class=\"dataframe\">\n",
       "  <thead>\n",
       "    <tr style=\"text-align: right;\">\n",
       "      <th></th>\n",
       "      <th>grouping</th>\n",
       "      <th>mean_ghgs</th>\n",
       "      <th>mean_land</th>\n",
       "      <th>mean_watscar</th>\n",
       "      <th>mean_eut</th>\n",
       "      <th>mean_ghgs_ch4</th>\n",
       "      <th>mean_ghgs_n2o</th>\n",
       "      <th>mean_bio</th>\n",
       "      <th>mean_watuse</th>\n",
       "      <th>mean_acid</th>\n",
       "      <th>...</th>\n",
       "      <th>sex</th>\n",
       "      <th>diet_group</th>\n",
       "      <th>age_group</th>\n",
       "      <th>mean_ghgs_ch4_kg</th>\n",
       "      <th>mean_ghgs_n2o_kg</th>\n",
       "      <th>mean_ghgs_co2</th>\n",
       "      <th>gwp100_co2e</th>\n",
       "      <th>ch4e_per_n</th>\n",
       "      <th>n2o_per_n</th>\n",
       "      <th>mean_gwp100_co2e_per_n</th>\n",
       "    </tr>\n",
       "  </thead>\n",
       "  <tbody>\n",
       "    <tr>\n",
       "      <th>0</th>\n",
       "      <td>fish_female_20-29</td>\n",
       "      <td>5.421821</td>\n",
       "      <td>8.612772</td>\n",
       "      <td>14165.86240</td>\n",
       "      <td>23.945372</td>\n",
       "      <td>1.164643</td>\n",
       "      <td>0.343663</td>\n",
       "      <td>476.270413</td>\n",
       "      <td>679.923479</td>\n",
       "      <td>23.439196</td>\n",
       "      <td>...</td>\n",
       "      <td>female</td>\n",
       "      <td>fish</td>\n",
       "      <td>20-29</td>\n",
       "      <td>0.031445</td>\n",
       "      <td>0.093820</td>\n",
       "      <td>3.913515</td>\n",
       "      <td>4.038781</td>\n",
       "      <td>0.634209</td>\n",
       "      <td>0.242653</td>\n",
       "      <td>2.895706</td>\n",
       "    </tr>\n",
       "    <tr>\n",
       "      <th>1</th>\n",
       "      <td>fish_female_20-29</td>\n",
       "      <td>4.428025</td>\n",
       "      <td>6.842434</td>\n",
       "      <td>15399.48381</td>\n",
       "      <td>23.443819</td>\n",
       "      <td>0.751940</td>\n",
       "      <td>0.316827</td>\n",
       "      <td>257.034793</td>\n",
       "      <td>845.718713</td>\n",
       "      <td>22.615000</td>\n",
       "      <td>...</td>\n",
       "      <td>female</td>\n",
       "      <td>fish</td>\n",
       "      <td>20-29</td>\n",
       "      <td>0.020302</td>\n",
       "      <td>0.086494</td>\n",
       "      <td>3.359259</td>\n",
       "      <td>3.466055</td>\n",
       "      <td>0.634209</td>\n",
       "      <td>0.242653</td>\n",
       "      <td>2.895706</td>\n",
       "    </tr>\n",
       "    <tr>\n",
       "      <th>2</th>\n",
       "      <td>fish_female_20-29</td>\n",
       "      <td>4.946890</td>\n",
       "      <td>6.753411</td>\n",
       "      <td>15846.86685</td>\n",
       "      <td>19.551014</td>\n",
       "      <td>0.933251</td>\n",
       "      <td>0.420634</td>\n",
       "      <td>295.397938</td>\n",
       "      <td>835.619685</td>\n",
       "      <td>22.526243</td>\n",
       "      <td>...</td>\n",
       "      <td>female</td>\n",
       "      <td>fish</td>\n",
       "      <td>20-29</td>\n",
       "      <td>0.025198</td>\n",
       "      <td>0.114833</td>\n",
       "      <td>3.593005</td>\n",
       "      <td>3.733036</td>\n",
       "      <td>0.634209</td>\n",
       "      <td>0.242653</td>\n",
       "      <td>2.895706</td>\n",
       "    </tr>\n",
       "    <tr>\n",
       "      <th>3</th>\n",
       "      <td>fish_female_20-29</td>\n",
       "      <td>4.378677</td>\n",
       "      <td>5.684974</td>\n",
       "      <td>18472.42478</td>\n",
       "      <td>18.534522</td>\n",
       "      <td>0.841311</td>\n",
       "      <td>0.365687</td>\n",
       "      <td>189.114914</td>\n",
       "      <td>868.080556</td>\n",
       "      <td>21.132210</td>\n",
       "      <td>...</td>\n",
       "      <td>female</td>\n",
       "      <td>fish</td>\n",
       "      <td>20-29</td>\n",
       "      <td>0.022715</td>\n",
       "      <td>0.099833</td>\n",
       "      <td>3.171679</td>\n",
       "      <td>3.294227</td>\n",
       "      <td>0.634209</td>\n",
       "      <td>0.242653</td>\n",
       "      <td>2.895706</td>\n",
       "    </tr>\n",
       "    <tr>\n",
       "      <th>4</th>\n",
       "      <td>fish_female_20-29</td>\n",
       "      <td>4.485696</td>\n",
       "      <td>6.111954</td>\n",
       "      <td>12487.77659</td>\n",
       "      <td>22.939979</td>\n",
       "      <td>0.757037</td>\n",
       "      <td>0.341591</td>\n",
       "      <td>269.114151</td>\n",
       "      <td>533.750475</td>\n",
       "      <td>22.448647</td>\n",
       "      <td>...</td>\n",
       "      <td>female</td>\n",
       "      <td>fish</td>\n",
       "      <td>20-29</td>\n",
       "      <td>0.020440</td>\n",
       "      <td>0.093254</td>\n",
       "      <td>3.387068</td>\n",
       "      <td>3.500762</td>\n",
       "      <td>0.634209</td>\n",
       "      <td>0.242653</td>\n",
       "      <td>2.895706</td>\n",
       "    </tr>\n",
       "  </tbody>\n",
       "</table>\n",
       "<p>5 rows × 30 columns</p>\n",
       "</div>"
      ],
      "text/plain": [
       "            grouping  mean_ghgs  mean_land  mean_watscar   mean_eut  \\\n",
       "0  fish_female_20-29   5.421821   8.612772   14165.86240  23.945372   \n",
       "1  fish_female_20-29   4.428025   6.842434   15399.48381  23.443819   \n",
       "2  fish_female_20-29   4.946890   6.753411   15846.86685  19.551014   \n",
       "3  fish_female_20-29   4.378677   5.684974   18472.42478  18.534522   \n",
       "4  fish_female_20-29   4.485696   6.111954   12487.77659  22.939979   \n",
       "\n",
       "   mean_ghgs_ch4  mean_ghgs_n2o    mean_bio  mean_watuse  mean_acid  ...  \\\n",
       "0       1.164643       0.343663  476.270413   679.923479  23.439196  ...   \n",
       "1       0.751940       0.316827  257.034793   845.718713  22.615000  ...   \n",
       "2       0.933251       0.420634  295.397938   835.619685  22.526243  ...   \n",
       "3       0.841311       0.365687  189.114914   868.080556  21.132210  ...   \n",
       "4       0.757037       0.341591  269.114151   533.750475  22.448647  ...   \n",
       "\n",
       "      sex  diet_group  age_group  mean_ghgs_ch4_kg  mean_ghgs_n2o_kg  \\\n",
       "0  female        fish      20-29          0.031445          0.093820   \n",
       "1  female        fish      20-29          0.020302          0.086494   \n",
       "2  female        fish      20-29          0.025198          0.114833   \n",
       "3  female        fish      20-29          0.022715          0.099833   \n",
       "4  female        fish      20-29          0.020440          0.093254   \n",
       "\n",
       "   mean_ghgs_co2  gwp100_co2e  ch4e_per_n  n2o_per_n  mean_gwp100_co2e_per_n  \n",
       "0       3.913515     4.038781    0.634209   0.242653                2.895706  \n",
       "1       3.359259     3.466055    0.634209   0.242653                2.895706  \n",
       "2       3.593005     3.733036    0.634209   0.242653                2.895706  \n",
       "3       3.171679     3.294227    0.634209   0.242653                2.895706  \n",
       "4       3.387068     3.500762    0.634209   0.242653                2.895706  \n",
       "\n",
       "[5 rows x 30 columns]"
      ]
     },
     "execution_count": 335,
     "metadata": {},
     "output_type": "execute_result"
    }
   ],
   "source": [
    "df.head()"
   ]
  },
  {
   "cell_type": "code",
   "execution_count": 303,
   "id": "3b97593b-ec07-43ee-9ea1-73d7c0443659",
   "metadata": {},
   "outputs": [
    {
     "name": "stdout",
     "output_type": "stream",
     "text": [
      "grouping\n",
      "fish_female_20-29    1329\n",
      "fish_female_30-39    2024\n",
      "fish_female_40-49    1689\n",
      "fish_female_50-59     946\n",
      "fish_female_60-69     492\n",
      "                     ... \n",
      "veggie_male_30-39    1221\n",
      "veggie_male_40-49     961\n",
      "veggie_male_50-59     426\n",
      "veggie_male_60-69     229\n",
      "veggie_male_70-79     158\n",
      "Name: n_participants, Length: 72, dtype: int64\n",
      "\n",
      "Total number of participants: 55504\n"
     ]
    }
   ],
   "source": [
    "participants_per_grouping = df.groupby('grouping')['n_participants'].first()\n",
    "print(participants_per_grouping)\n",
    "\n",
    "total_participants = participants_per_grouping.sum()\n",
    "print('\\nTotal number of participants:',total_participants)"
   ]
  },
  {
   "cell_type": "code",
   "execution_count": 17,
   "id": "42c3346e-be6f-4cca-b32b-4c64e3618eb8",
   "metadata": {},
   "outputs": [],
   "source": [
    "ch4_conversion_factor = 27\n",
    "n2o_conversion_factor = 273\n",
    "\n",
    "df['mean_ghgs_ch4_kg'] = df['mean_ghgs_ch4'] * ch4_conversion_factor * 0.001  \n",
    "df['mean_ghgs_n2o_kg'] = df['mean_ghgs_n2o'] * n2o_conversion_factor * 0.001  \n",
    "\n",
    "df['mean_ghgs_co2'] = df['mean_ghgs'] - (df['mean_ghgs_ch4'] + df['mean_ghgs_n2o'])\n",
    "\n",
    "# gwp100 CO2 equivalent emissions\n",
    "df['gwp100_co2e'] = df['mean_ghgs_co2'] + df['mean_ghgs_ch4_kg'] + df['mean_ghgs_n2o_kg']"
   ]
  },
  {
   "cell_type": "code",
   "execution_count": null,
   "id": "b2ab74b1-8dbf-46cc-9b34-a7ae45b16418",
   "metadata": {},
   "outputs": [],
   "source": [
    "mean_ghgs_n2o_per_participant_by_group = {}\n",
    "\n",
    "for grouping in df['grouping'].unique():\n",
    "    \n",
    "    filtered_df = df[df['grouping'] == grouping]\n",
    "    \n",
    "    # first n_participants unique rows from the filtered dataframe\n",
    "    unique_rows = filtered_df.head(filtered_df['n_participants'].iloc[0])\n",
    "    \n",
    "    # sum mean_ghgs_n2o values within the extracted datafrane\n",
    "    sum_mean_ghgs_n2o = unique_rows['mean_ghgs_n2o'].sum()\n",
    "    \n",
    "    # number of participants for each grouping\n",
    "    num_participants = unique_rows['n_participants'].iloc[0]\n",
    "    \n",
    "    # mean 'mean_ghgs_n2o' per participant\n",
    "    n2o_per_n = sum_mean_ghgs_n2o / num_participants\n",
    "    \n",
    "    # store in dictionary\n",
    "    mean_ghgs_n2o_per_participant_by_group[grouping] =  n2o_per_n\n",
    "\n",
    "for grouping, n2o_per_n in mean_ghgs_n2o_per_participant_by_group.items():\n",
    "    print(f\"'mean_ghgs_n2o' per participant for '{grouping}' grouping:\",  n2o_per_n)"
   ]
  },
  {
   "cell_type": "code",
   "execution_count": 317,
   "id": "ce7cbf3e-e253-4cff-9058-ec08c1905cad",
   "metadata": {},
   "outputs": [
    {
     "name": "stdout",
     "output_type": "stream",
     "text": [
      "             grouping  total_gwp100_co2e  mean_gwp100_co2e_per_n\n",
      "0   fish_female_20-29        3848.393509                2.895706\n",
      "1   fish_female_30-39        3894.676830                1.924247\n",
      "2   fish_female_40-49        3875.703957                2.294674\n",
      "3   fish_female_50-59        3684.678951                3.895009\n",
      "4   fish_female_60-69        1975.751627                4.015755\n",
      "..                ...                ...                     ...\n",
      "67  veggie_male_30-39        3787.722035                3.102147\n",
      "68  veggie_male_40-49        3503.085881                3.645251\n",
      "69  veggie_male_50-59        1499.069849                3.518943\n",
      "70  veggie_male_60-69         801.922071                3.501843\n",
      "71  veggie_male_70-79         572.768689                3.625118\n",
      "\n",
      "[72 rows x 3 columns]\n"
     ]
    }
   ],
   "source": [
    "first_unique_n_participants = df.groupby('grouping')['n_participants'].first()\n",
    "total_gwp100_co2e = []\n",
    "\n",
    "for grouping, n_participants in first_unique_n_participants.items():\n",
    "    # select the first n_participants entries for each grouping\n",
    "    filtered_df = df[df['grouping'] == grouping].head(n_participants)\n",
    "    # sum the gwp100_co2e for the selected entries and append\n",
    "    total_gwp100_co2e.append(filtered_df['gwp100_co2e'].sum())\n",
    "\n",
    "# dataframe to store grouping and summed gwp100_co2e values\n",
    "total_gwp100_co2e_df = pd.DataFrame({'grouping': first_unique_n_participants.index, 'total_gwp100_co2e': total_gwp100_co2e})\n",
    "\n",
    "# mean gwp100_co2e per participant for each grouping\n",
    "total_gwp100_co2e_df['mean_gwp100_co2e_per_n'] = total_gwp100_co2e_df['total_gwp100_co2e'] / first_unique_n_participants.values\n",
    "print(total_gwp100_co2e_df)\n"
   ]
  },
  {
   "cell_type": "markdown",
   "id": "2a532fe8-bf15-430e-8fde-cc11cb8a5a86",
   "metadata": {},
   "source": [
    "### Merge gwp100_coe2_df with original df "
   ]
  },
  {
   "cell_type": "code",
   "execution_count": 334,
   "id": "1079b435-3cf2-4876-8e44-c57688662131",
   "metadata": {},
   "outputs": [
    {
     "data": {
      "text/html": [
       "<div>\n",
       "<style scoped>\n",
       "    .dataframe tbody tr th:only-of-type {\n",
       "        vertical-align: middle;\n",
       "    }\n",
       "\n",
       "    .dataframe tbody tr th {\n",
       "        vertical-align: top;\n",
       "    }\n",
       "\n",
       "    .dataframe thead th {\n",
       "        text-align: right;\n",
       "    }\n",
       "</style>\n",
       "<table border=\"1\" class=\"dataframe\">\n",
       "  <thead>\n",
       "    <tr style=\"text-align: right;\">\n",
       "      <th></th>\n",
       "      <th>grouping</th>\n",
       "      <th>mean_ghgs</th>\n",
       "      <th>mean_land</th>\n",
       "      <th>mean_watscar</th>\n",
       "      <th>mean_eut</th>\n",
       "      <th>mean_ghgs_ch4</th>\n",
       "      <th>mean_ghgs_n2o</th>\n",
       "      <th>mean_bio</th>\n",
       "      <th>mean_watuse</th>\n",
       "      <th>mean_acid</th>\n",
       "      <th>...</th>\n",
       "      <th>sex</th>\n",
       "      <th>diet_group</th>\n",
       "      <th>age_group</th>\n",
       "      <th>mean_ghgs_ch4_kg</th>\n",
       "      <th>mean_ghgs_n2o_kg</th>\n",
       "      <th>mean_ghgs_co2</th>\n",
       "      <th>gwp100_co2e</th>\n",
       "      <th>ch4e_per_n</th>\n",
       "      <th>n2o_per_n</th>\n",
       "      <th>mean_gwp100_co2e_per_n</th>\n",
       "    </tr>\n",
       "  </thead>\n",
       "  <tbody>\n",
       "    <tr>\n",
       "      <th>0</th>\n",
       "      <td>fish_female_20-29</td>\n",
       "      <td>5.421821</td>\n",
       "      <td>8.612772</td>\n",
       "      <td>14165.86240</td>\n",
       "      <td>23.945372</td>\n",
       "      <td>1.164643</td>\n",
       "      <td>0.343663</td>\n",
       "      <td>476.270413</td>\n",
       "      <td>679.923479</td>\n",
       "      <td>23.439196</td>\n",
       "      <td>...</td>\n",
       "      <td>female</td>\n",
       "      <td>fish</td>\n",
       "      <td>20-29</td>\n",
       "      <td>0.031445</td>\n",
       "      <td>0.093820</td>\n",
       "      <td>3.913515</td>\n",
       "      <td>4.038781</td>\n",
       "      <td>0.634209</td>\n",
       "      <td>0.242653</td>\n",
       "      <td>2.895706</td>\n",
       "    </tr>\n",
       "    <tr>\n",
       "      <th>1</th>\n",
       "      <td>fish_female_20-29</td>\n",
       "      <td>4.428025</td>\n",
       "      <td>6.842434</td>\n",
       "      <td>15399.48381</td>\n",
       "      <td>23.443819</td>\n",
       "      <td>0.751940</td>\n",
       "      <td>0.316827</td>\n",
       "      <td>257.034793</td>\n",
       "      <td>845.718713</td>\n",
       "      <td>22.615000</td>\n",
       "      <td>...</td>\n",
       "      <td>female</td>\n",
       "      <td>fish</td>\n",
       "      <td>20-29</td>\n",
       "      <td>0.020302</td>\n",
       "      <td>0.086494</td>\n",
       "      <td>3.359259</td>\n",
       "      <td>3.466055</td>\n",
       "      <td>0.634209</td>\n",
       "      <td>0.242653</td>\n",
       "      <td>2.895706</td>\n",
       "    </tr>\n",
       "    <tr>\n",
       "      <th>2</th>\n",
       "      <td>fish_female_20-29</td>\n",
       "      <td>4.946890</td>\n",
       "      <td>6.753411</td>\n",
       "      <td>15846.86685</td>\n",
       "      <td>19.551014</td>\n",
       "      <td>0.933251</td>\n",
       "      <td>0.420634</td>\n",
       "      <td>295.397938</td>\n",
       "      <td>835.619685</td>\n",
       "      <td>22.526243</td>\n",
       "      <td>...</td>\n",
       "      <td>female</td>\n",
       "      <td>fish</td>\n",
       "      <td>20-29</td>\n",
       "      <td>0.025198</td>\n",
       "      <td>0.114833</td>\n",
       "      <td>3.593005</td>\n",
       "      <td>3.733036</td>\n",
       "      <td>0.634209</td>\n",
       "      <td>0.242653</td>\n",
       "      <td>2.895706</td>\n",
       "    </tr>\n",
       "    <tr>\n",
       "      <th>3</th>\n",
       "      <td>fish_female_20-29</td>\n",
       "      <td>4.378677</td>\n",
       "      <td>5.684974</td>\n",
       "      <td>18472.42478</td>\n",
       "      <td>18.534522</td>\n",
       "      <td>0.841311</td>\n",
       "      <td>0.365687</td>\n",
       "      <td>189.114914</td>\n",
       "      <td>868.080556</td>\n",
       "      <td>21.132210</td>\n",
       "      <td>...</td>\n",
       "      <td>female</td>\n",
       "      <td>fish</td>\n",
       "      <td>20-29</td>\n",
       "      <td>0.022715</td>\n",
       "      <td>0.099833</td>\n",
       "      <td>3.171679</td>\n",
       "      <td>3.294227</td>\n",
       "      <td>0.634209</td>\n",
       "      <td>0.242653</td>\n",
       "      <td>2.895706</td>\n",
       "    </tr>\n",
       "    <tr>\n",
       "      <th>4</th>\n",
       "      <td>fish_female_20-29</td>\n",
       "      <td>4.485696</td>\n",
       "      <td>6.111954</td>\n",
       "      <td>12487.77659</td>\n",
       "      <td>22.939979</td>\n",
       "      <td>0.757037</td>\n",
       "      <td>0.341591</td>\n",
       "      <td>269.114151</td>\n",
       "      <td>533.750475</td>\n",
       "      <td>22.448647</td>\n",
       "      <td>...</td>\n",
       "      <td>female</td>\n",
       "      <td>fish</td>\n",
       "      <td>20-29</td>\n",
       "      <td>0.020440</td>\n",
       "      <td>0.093254</td>\n",
       "      <td>3.387068</td>\n",
       "      <td>3.500762</td>\n",
       "      <td>0.634209</td>\n",
       "      <td>0.242653</td>\n",
       "      <td>2.895706</td>\n",
       "    </tr>\n",
       "  </tbody>\n",
       "</table>\n",
       "<p>5 rows × 30 columns</p>\n",
       "</div>"
      ],
      "text/plain": [
       "            grouping  mean_ghgs  mean_land  mean_watscar   mean_eut  \\\n",
       "0  fish_female_20-29   5.421821   8.612772   14165.86240  23.945372   \n",
       "1  fish_female_20-29   4.428025   6.842434   15399.48381  23.443819   \n",
       "2  fish_female_20-29   4.946890   6.753411   15846.86685  19.551014   \n",
       "3  fish_female_20-29   4.378677   5.684974   18472.42478  18.534522   \n",
       "4  fish_female_20-29   4.485696   6.111954   12487.77659  22.939979   \n",
       "\n",
       "   mean_ghgs_ch4  mean_ghgs_n2o    mean_bio  mean_watuse  mean_acid  ...  \\\n",
       "0       1.164643       0.343663  476.270413   679.923479  23.439196  ...   \n",
       "1       0.751940       0.316827  257.034793   845.718713  22.615000  ...   \n",
       "2       0.933251       0.420634  295.397938   835.619685  22.526243  ...   \n",
       "3       0.841311       0.365687  189.114914   868.080556  21.132210  ...   \n",
       "4       0.757037       0.341591  269.114151   533.750475  22.448647  ...   \n",
       "\n",
       "      sex  diet_group  age_group  mean_ghgs_ch4_kg  mean_ghgs_n2o_kg  \\\n",
       "0  female        fish      20-29          0.031445          0.093820   \n",
       "1  female        fish      20-29          0.020302          0.086494   \n",
       "2  female        fish      20-29          0.025198          0.114833   \n",
       "3  female        fish      20-29          0.022715          0.099833   \n",
       "4  female        fish      20-29          0.020440          0.093254   \n",
       "\n",
       "   mean_ghgs_co2  gwp100_co2e  ch4e_per_n  n2o_per_n  mean_gwp100_co2e_per_n  \n",
       "0       3.913515     4.038781    0.634209   0.242653                2.895706  \n",
       "1       3.359259     3.466055    0.634209   0.242653                2.895706  \n",
       "2       3.593005     3.733036    0.634209   0.242653                2.895706  \n",
       "3       3.171679     3.294227    0.634209   0.242653                2.895706  \n",
       "4       3.387068     3.500762    0.634209   0.242653                2.895706  \n",
       "\n",
       "[5 rows x 30 columns]"
      ]
     },
     "execution_count": 334,
     "metadata": {},
     "output_type": "execute_result"
    }
   ],
   "source": [
    "# df = pd.merge(df, total_gwp100_co2e_df[['grouping', 'mean_gwp100_co2e_per_n']], on='grouping')\n",
    "# df.drop(columns=['mean_gwp100_co2e_per_n_x, mean_gwp100_co2e_per_n_y'], inplace=True)\n",
    "\n",
    "df.head()"
   ]
  },
  {
   "cell_type": "code",
   "execution_count": 343,
   "id": "081f584e-fdbf-4950-89ad-901d925d48b5",
   "metadata": {},
   "outputs": [
    {
     "data": {
      "application/vnd.plotly.v1+json": {
       "config": {
        "plotlyServerURL": "https://plot.ly"
       },
       "data": [
        {
         "branchvalues": "total",
         "customdata": [
          [
           0.24265320311361915
          ],
          [
           0.4999645688116593
          ],
          [
           0.7691511530025442
          ],
          [
           0.376911254632199
          ],
          [
           0.199807660741273
          ],
          [
           0.07733449925666314
          ],
          [
           0.3788676186441718
          ],
          [
           0.5397423436622519
          ],
          [
           0.9191468411060615
          ],
          [
           0.4189313569770992
          ],
          [
           0.23366977809090905
          ],
          [
           0.3232783215835913
          ],
          [
           0.15907646818774704
          ],
          [
           0.3760405871814813
          ],
          [
           0.7661303730874033
          ],
          [
           0.2527954309689817
          ],
          [
           0.21351642882978714
          ],
          [
           0.08069072795872315
          ],
          [
           0.35471782484466036
          ],
          [
           0.5535945240888158
          ],
          [
           0.8424090284807692
          ],
          [
           0.41030972651891895
          ],
          [
           0.2175035964621514
          ],
          [
           0.2590708579164618
          ],
          [
           0.18970576506571937
          ],
          [
           0.1945263379601475
          ],
          [
           0.4209944044170544
          ],
          [
           0.18271549619015778
          ],
          [
           0.22416971773972605
          ],
          [
           0.1084998216606083
          ],
          [
           0.34334880149074065
          ],
          [
           0.5559893020392159
          ],
          [
           0.8442018670211041
          ],
          [
           0.40229153892633934
          ],
          [
           0.22686475770303025
          ],
          [
           0.304127215937565
          ],
          [
           0.3236051649841439
          ],
          [
           0.19778079835458615
          ],
          [
           0.4718261067410154
          ],
          [
           0.23005588168080088
          ],
          [
           0.2225187283867925
          ],
          [
           0.24424361846550288
          ],
          [
           0.3384894248785047
          ],
          [
           0.5473630215618479
          ],
          [
           0.8500217420592214
          ],
          [
           0.41138360682682923
          ],
          [
           0.2196835207903226
          ],
          [
           0.30122733530046936
          ],
          [
           0.34138616234146335
          ],
          [
           0.36334126837019254
          ],
          [
           0.8250366667864761
          ],
          [
           0.37944343023877747
          ],
          [
           0.23176585972839522
          ],
          [
           0.2996825515261194
          ],
          [
           0.35250189006289306
          ],
          [
           0.5525699054384855
          ],
          [
           0.8415560131878456
          ],
          [
           0.41200998688461526
          ],
          [
           0.22317426567307683
          ],
          [
           0.3079557081091704
          ],
          [
           0.34548682269743586
          ],
          [
           0.5494674600066666
          ],
          [
           0.8535477086459855
          ],
          [
           0.40154646016010503
          ],
          [
           0.23699175424
          ],
          [
           0.306595227100346
          ],
          [
           0.37462861594117647
          ],
          [
           0.5718235006796538
          ],
          [
           0.882762953053571
          ],
          [
           0.4198542272097901
          ],
          [
           0.23081460342105267
          ],
          [
           0.32309002396835435
          ],
          [
           0.2867106410151865
          ],
          [
           0.4121480188993235
          ],
          [
           0.7267690825602183
          ],
          [
           0.32706729418807556
          ],
          [
           0.22215043948436183
          ],
          [
           0.23898699939657786
          ],
          [
           0.3574380687793748
          ],
          [
           0.5536462662404588
          ],
          [
           0.863947988910254
          ],
          [
           0.4124780869443378
          ],
          [
           0.22544634153994864
          ],
          [
           0.30438278091666954
          ],
          [
           0.3271904796907557
          ],
          [
           0.49733800515963994
          ],
          [
           0.8023955941587754
          ],
          [
           0.3761331615059013
          ],
          [
           0.2238187889955978
          ],
          [
           0.2796849504210567
          ]
         ],
         "domain": {
          "x": [
           0,
           1
          ],
          "y": [
           0,
           1
          ]
         },
         "hovertemplate": "labels=%{label}<br>mean_gwp100_co2e_per_n=%{value}<br>parent=%{parent}<br>id=%{id}<br>n2o_per_n=%{color}<extra></extra>",
         "ids": [
          "fish/female/20-29",
          "meat/female/20-29",
          "meat100/female/20-29",
          "meat50/female/20-29",
          "vegan/female/20-29",
          "veggie/female/20-29",
          "fish/male/20-29",
          "meat/male/20-29",
          "meat100/male/20-29",
          "meat50/male/20-29",
          "vegan/male/20-29",
          "veggie/male/20-29",
          "fish/female/30-39",
          "meat/female/30-39",
          "meat100/female/30-39",
          "meat50/female/30-39",
          "vegan/female/30-39",
          "veggie/female/30-39",
          "fish/male/30-39",
          "meat/male/30-39",
          "meat100/male/30-39",
          "meat50/male/30-39",
          "vegan/male/30-39",
          "veggie/male/30-39",
          "fish/female/40-49",
          "meat/female/40-49",
          "meat100/female/40-49",
          "meat50/female/40-49",
          "vegan/female/40-49",
          "veggie/female/40-49",
          "fish/male/40-49",
          "meat/male/40-49",
          "meat100/male/40-49",
          "meat50/male/40-49",
          "vegan/male/40-49",
          "veggie/male/40-49",
          "fish/female/50-59",
          "meat/female/50-59",
          "meat100/female/50-59",
          "meat50/female/50-59",
          "vegan/female/50-59",
          "veggie/female/50-59",
          "fish/male/50-59",
          "meat/male/50-59",
          "meat100/male/50-59",
          "meat50/male/50-59",
          "vegan/male/50-59",
          "veggie/male/50-59",
          "fish/female/60-69",
          "meat/female/60-69",
          "meat100/female/60-69",
          "meat50/female/60-69",
          "vegan/female/60-69",
          "veggie/female/60-69",
          "fish/male/60-69",
          "meat/male/60-69",
          "meat100/male/60-69",
          "meat50/male/60-69",
          "vegan/male/60-69",
          "veggie/male/60-69",
          "fish/female/70-79",
          "meat/female/70-79",
          "meat100/female/70-79",
          "meat50/female/70-79",
          "vegan/female/70-79",
          "veggie/female/70-79",
          "fish/male/70-79",
          "meat/male/70-79",
          "meat100/male/70-79",
          "meat50/male/70-79",
          "vegan/male/70-79",
          "veggie/male/70-79",
          "fish/female",
          "meat/female",
          "meat100/female",
          "meat50/female",
          "vegan/female",
          "veggie/female",
          "fish/male",
          "meat/male",
          "meat100/male",
          "meat50/male",
          "vegan/male",
          "veggie/male",
          "fish",
          "meat",
          "meat100",
          "meat50",
          "vegan",
          "veggie"
         ],
         "labels": [
          "20-29",
          "20-29",
          "20-29",
          "20-29",
          "20-29",
          "20-29",
          "20-29",
          "20-29",
          "20-29",
          "20-29",
          "20-29",
          "20-29",
          "30-39",
          "30-39",
          "30-39",
          "30-39",
          "30-39",
          "30-39",
          "30-39",
          "30-39",
          "30-39",
          "30-39",
          "30-39",
          "30-39",
          "40-49",
          "40-49",
          "40-49",
          "40-49",
          "40-49",
          "40-49",
          "40-49",
          "40-49",
          "40-49",
          "40-49",
          "40-49",
          "40-49",
          "50-59",
          "50-59",
          "50-59",
          "50-59",
          "50-59",
          "50-59",
          "50-59",
          "50-59",
          "50-59",
          "50-59",
          "50-59",
          "50-59",
          "60-69",
          "60-69",
          "60-69",
          "60-69",
          "60-69",
          "60-69",
          "60-69",
          "60-69",
          "60-69",
          "60-69",
          "60-69",
          "60-69",
          "70-79",
          "70-79",
          "70-79",
          "70-79",
          "70-79",
          "70-79",
          "70-79",
          "70-79",
          "70-79",
          "70-79",
          "70-79",
          "70-79",
          "female",
          "female",
          "female",
          "female",
          "female",
          "female",
          "male",
          "male",
          "male",
          "male",
          "male",
          "male",
          "fish",
          "meat",
          "meat100",
          "meat50",
          "vegan",
          "veggie"
         ],
         "marker": {
          "coloraxis": "coloraxis",
          "colors": [
           0.24265320311361915,
           0.4999645688116593,
           0.7691511530025442,
           0.376911254632199,
           0.199807660741273,
           0.07733449925666314,
           0.3788676186441718,
           0.5397423436622519,
           0.9191468411060615,
           0.4189313569770992,
           0.23366977809090905,
           0.3232783215835913,
           0.15907646818774704,
           0.3760405871814813,
           0.7661303730874033,
           0.2527954309689817,
           0.21351642882978714,
           0.08069072795872315,
           0.35471782484466036,
           0.5535945240888158,
           0.8424090284807692,
           0.41030972651891895,
           0.2175035964621514,
           0.2590708579164618,
           0.18970576506571937,
           0.1945263379601475,
           0.4209944044170544,
           0.18271549619015778,
           0.22416971773972605,
           0.1084998216606083,
           0.34334880149074065,
           0.5559893020392159,
           0.8442018670211041,
           0.40229153892633934,
           0.22686475770303025,
           0.304127215937565,
           0.3236051649841439,
           0.19778079835458615,
           0.4718261067410154,
           0.23005588168080088,
           0.2225187283867925,
           0.24424361846550288,
           0.3384894248785047,
           0.5473630215618479,
           0.8500217420592214,
           0.41138360682682923,
           0.2196835207903226,
           0.30122733530046936,
           0.34138616234146335,
           0.36334126837019254,
           0.8250366667864761,
           0.37944343023877747,
           0.23176585972839522,
           0.2996825515261194,
           0.35250189006289306,
           0.5525699054384855,
           0.8415560131878456,
           0.41200998688461526,
           0.22317426567307683,
           0.3079557081091704,
           0.34548682269743586,
           0.5494674600066666,
           0.8535477086459855,
           0.40154646016010503,
           0.23699175424,
           0.306595227100346,
           0.37462861594117647,
           0.5718235006796538,
           0.882762953053571,
           0.4198542272097901,
           0.23081460342105267,
           0.32309002396835435,
           0.2867106410151865,
           0.4121480188993235,
           0.7267690825602183,
           0.32706729418807556,
           0.22215043948436183,
           0.23898699939657786,
           0.3574380687793748,
           0.5536462662404588,
           0.863947988910254,
           0.4124780869443378,
           0.22544634153994864,
           0.30438278091666954,
           0.3271904796907557,
           0.49733800515963994,
           0.8023955941587754,
           0.3761331615059013,
           0.2238187889955978,
           0.2796849504210567
          ]
         },
         "name": "",
         "parents": [
          "fish/female",
          "meat/female",
          "meat100/female",
          "meat50/female",
          "vegan/female",
          "veggie/female",
          "fish/male",
          "meat/male",
          "meat100/male",
          "meat50/male",
          "vegan/male",
          "veggie/male",
          "fish/female",
          "meat/female",
          "meat100/female",
          "meat50/female",
          "vegan/female",
          "veggie/female",
          "fish/male",
          "meat/male",
          "meat100/male",
          "meat50/male",
          "vegan/male",
          "veggie/male",
          "fish/female",
          "meat/female",
          "meat100/female",
          "meat50/female",
          "vegan/female",
          "veggie/female",
          "fish/male",
          "meat/male",
          "meat100/male",
          "meat50/male",
          "vegan/male",
          "veggie/male",
          "fish/female",
          "meat/female",
          "meat100/female",
          "meat50/female",
          "vegan/female",
          "veggie/female",
          "fish/male",
          "meat/male",
          "meat100/male",
          "meat50/male",
          "vegan/male",
          "veggie/male",
          "fish/female",
          "meat/female",
          "meat100/female",
          "meat50/female",
          "vegan/female",
          "veggie/female",
          "fish/male",
          "meat/male",
          "meat100/male",
          "meat50/male",
          "vegan/male",
          "veggie/male",
          "fish/female",
          "meat/female",
          "meat100/female",
          "meat50/female",
          "vegan/female",
          "veggie/female",
          "fish/male",
          "meat/male",
          "meat100/male",
          "meat50/male",
          "vegan/male",
          "veggie/male",
          "fish",
          "meat",
          "meat100",
          "meat50",
          "vegan",
          "veggie",
          "fish",
          "meat",
          "meat100",
          "meat50",
          "vegan",
          "veggie",
          "",
          "",
          "",
          "",
          "",
          ""
         ],
         "type": "treemap",
         "values": [
          2895.7061766422185,
          5243.986235672828,
          7539.3939771502055,
          4145.654639819715,
          2108.1844452148216,
          896.2143448326292,
          4524.045120002571,
          5625.969584442549,
          8765.23236081481,
          4518.639867346366,
          2536.7265283047377,
          3824.8124745742225,
          1924.2474454816718,
          4000.9925538677862,
          7796.886503839854,
          2854.6772142966784,
          2239.281139725588,
          937.9784327690779,
          4280.894984307994,
          5716.633521477181,
          8138.946414833892,
          4586.0395565635845,
          2394.4772464113908,
          3102.1474484029854,
          2294.6737461006496,
          2082.410733032291,
          4300.330218467247,
          2056.9718070024205,
          2337.047248174169,
          1271.5001885117051,
          4169.455790956345,
          5875.421879098,
          8489.908775387608,
          4583.058560565335,
          2410.873633362491,
          3645.2506568927042,
          3895.0094623790824,
          2128.893332083443,
          4879.856209941906,
          2591.0955734390873,
          2278.237136406113,
          2844.5763236414455,
          4133.741637407093,
          5845.732022233653,
          8592.800834782514,
          4567.92052395062,
          2273.4146564709677,
          3518.94330806285,
          4015.7553395733717,
          3894.1712384677094,
          8516.476312091592,
          4267.560939178354,
          2379.8815447274696,
          3463.9601850459103,
          4104.004616528849,
          5887.454679568929,
          8376.5282934796,
          4526.302168957595,
          2231.0434979685383,
          3501.843105305301,
          3955.74576009181,
          5706.120668974561,
          8642.56847700614,
          4432.936558045785,
          2560.0775352862,
          3462.129196511104,
          4189.994829215353,
          5931.579035023312,
          8841.310310896512,
          4689.171951488497,
          2404.6650688558416,
          3625.118285015241,
          18981.137930268804,
          23056.57476209862,
          41675.51169849694,
          20348.89673178204,
          13902.709049534362,
          12876.358671311873,
          25402.136978418202,
          34882.79072184362,
          51204.72699019494,
          27471.132628871997,
          14251.200631373968,
          21218.115278253303,
          44383.27490868701,
          57939.365483942245,
          92880.23868869188,
          47820.029360654036,
          28153.909680908328,
          34094.473949565174
         ]
        }
       ],
       "layout": {
        "coloraxis": {
         "colorbar": {
          "len": 0.85,
          "title": {
           "side": "right",
           "text": "Mean N2Oe / n [g/day]"
          },
          "x": 1.02,
          "y": 0.5
         },
         "colorscale": [
          [
           0,
           "rgb(158,1,66)"
          ],
          [
           0.1,
           "rgb(213,62,79)"
          ],
          [
           0.2,
           "rgb(244,109,67)"
          ],
          [
           0.3,
           "rgb(253,174,97)"
          ],
          [
           0.4,
           "rgb(254,224,139)"
          ],
          [
           0.5,
           "rgb(255,255,191)"
          ],
          [
           0.6,
           "rgb(230,245,152)"
          ],
          [
           0.7,
           "rgb(171,221,164)"
          ],
          [
           0.8,
           "rgb(102,194,165)"
          ],
          [
           0.9,
           "rgb(50,136,189)"
          ],
          [
           1,
           "rgb(94,79,162)"
          ]
         ]
        },
        "height": 800,
        "legend": {
         "tracegroupgap": 0
        },
        "margin": {
         "b": 100,
         "l": 50,
         "r": 320,
         "t": 100
        },
        "template": {
         "data": {
          "bar": [
           {
            "error_x": {
             "color": "#2a3f5f"
            },
            "error_y": {
             "color": "#2a3f5f"
            },
            "marker": {
             "line": {
              "color": "#E5ECF6",
              "width": 0.5
             },
             "pattern": {
              "fillmode": "overlay",
              "size": 10,
              "solidity": 0.2
             }
            },
            "type": "bar"
           }
          ],
          "barpolar": [
           {
            "marker": {
             "line": {
              "color": "#E5ECF6",
              "width": 0.5
             },
             "pattern": {
              "fillmode": "overlay",
              "size": 10,
              "solidity": 0.2
             }
            },
            "type": "barpolar"
           }
          ],
          "carpet": [
           {
            "aaxis": {
             "endlinecolor": "#2a3f5f",
             "gridcolor": "white",
             "linecolor": "white",
             "minorgridcolor": "white",
             "startlinecolor": "#2a3f5f"
            },
            "baxis": {
             "endlinecolor": "#2a3f5f",
             "gridcolor": "white",
             "linecolor": "white",
             "minorgridcolor": "white",
             "startlinecolor": "#2a3f5f"
            },
            "type": "carpet"
           }
          ],
          "choropleth": [
           {
            "colorbar": {
             "outlinewidth": 0,
             "ticks": ""
            },
            "type": "choropleth"
           }
          ],
          "contour": [
           {
            "colorbar": {
             "outlinewidth": 0,
             "ticks": ""
            },
            "colorscale": [
             [
              0,
              "#0d0887"
             ],
             [
              0.1111111111111111,
              "#46039f"
             ],
             [
              0.2222222222222222,
              "#7201a8"
             ],
             [
              0.3333333333333333,
              "#9c179e"
             ],
             [
              0.4444444444444444,
              "#bd3786"
             ],
             [
              0.5555555555555556,
              "#d8576b"
             ],
             [
              0.6666666666666666,
              "#ed7953"
             ],
             [
              0.7777777777777778,
              "#fb9f3a"
             ],
             [
              0.8888888888888888,
              "#fdca26"
             ],
             [
              1,
              "#f0f921"
             ]
            ],
            "type": "contour"
           }
          ],
          "contourcarpet": [
           {
            "colorbar": {
             "outlinewidth": 0,
             "ticks": ""
            },
            "type": "contourcarpet"
           }
          ],
          "heatmap": [
           {
            "colorbar": {
             "outlinewidth": 0,
             "ticks": ""
            },
            "colorscale": [
             [
              0,
              "#0d0887"
             ],
             [
              0.1111111111111111,
              "#46039f"
             ],
             [
              0.2222222222222222,
              "#7201a8"
             ],
             [
              0.3333333333333333,
              "#9c179e"
             ],
             [
              0.4444444444444444,
              "#bd3786"
             ],
             [
              0.5555555555555556,
              "#d8576b"
             ],
             [
              0.6666666666666666,
              "#ed7953"
             ],
             [
              0.7777777777777778,
              "#fb9f3a"
             ],
             [
              0.8888888888888888,
              "#fdca26"
             ],
             [
              1,
              "#f0f921"
             ]
            ],
            "type": "heatmap"
           }
          ],
          "heatmapgl": [
           {
            "colorbar": {
             "outlinewidth": 0,
             "ticks": ""
            },
            "colorscale": [
             [
              0,
              "#0d0887"
             ],
             [
              0.1111111111111111,
              "#46039f"
             ],
             [
              0.2222222222222222,
              "#7201a8"
             ],
             [
              0.3333333333333333,
              "#9c179e"
             ],
             [
              0.4444444444444444,
              "#bd3786"
             ],
             [
              0.5555555555555556,
              "#d8576b"
             ],
             [
              0.6666666666666666,
              "#ed7953"
             ],
             [
              0.7777777777777778,
              "#fb9f3a"
             ],
             [
              0.8888888888888888,
              "#fdca26"
             ],
             [
              1,
              "#f0f921"
             ]
            ],
            "type": "heatmapgl"
           }
          ],
          "histogram": [
           {
            "marker": {
             "pattern": {
              "fillmode": "overlay",
              "size": 10,
              "solidity": 0.2
             }
            },
            "type": "histogram"
           }
          ],
          "histogram2d": [
           {
            "colorbar": {
             "outlinewidth": 0,
             "ticks": ""
            },
            "colorscale": [
             [
              0,
              "#0d0887"
             ],
             [
              0.1111111111111111,
              "#46039f"
             ],
             [
              0.2222222222222222,
              "#7201a8"
             ],
             [
              0.3333333333333333,
              "#9c179e"
             ],
             [
              0.4444444444444444,
              "#bd3786"
             ],
             [
              0.5555555555555556,
              "#d8576b"
             ],
             [
              0.6666666666666666,
              "#ed7953"
             ],
             [
              0.7777777777777778,
              "#fb9f3a"
             ],
             [
              0.8888888888888888,
              "#fdca26"
             ],
             [
              1,
              "#f0f921"
             ]
            ],
            "type": "histogram2d"
           }
          ],
          "histogram2dcontour": [
           {
            "colorbar": {
             "outlinewidth": 0,
             "ticks": ""
            },
            "colorscale": [
             [
              0,
              "#0d0887"
             ],
             [
              0.1111111111111111,
              "#46039f"
             ],
             [
              0.2222222222222222,
              "#7201a8"
             ],
             [
              0.3333333333333333,
              "#9c179e"
             ],
             [
              0.4444444444444444,
              "#bd3786"
             ],
             [
              0.5555555555555556,
              "#d8576b"
             ],
             [
              0.6666666666666666,
              "#ed7953"
             ],
             [
              0.7777777777777778,
              "#fb9f3a"
             ],
             [
              0.8888888888888888,
              "#fdca26"
             ],
             [
              1,
              "#f0f921"
             ]
            ],
            "type": "histogram2dcontour"
           }
          ],
          "mesh3d": [
           {
            "colorbar": {
             "outlinewidth": 0,
             "ticks": ""
            },
            "type": "mesh3d"
           }
          ],
          "parcoords": [
           {
            "line": {
             "colorbar": {
              "outlinewidth": 0,
              "ticks": ""
             }
            },
            "type": "parcoords"
           }
          ],
          "pie": [
           {
            "automargin": true,
            "type": "pie"
           }
          ],
          "scatter": [
           {
            "fillpattern": {
             "fillmode": "overlay",
             "size": 10,
             "solidity": 0.2
            },
            "type": "scatter"
           }
          ],
          "scatter3d": [
           {
            "line": {
             "colorbar": {
              "outlinewidth": 0,
              "ticks": ""
             }
            },
            "marker": {
             "colorbar": {
              "outlinewidth": 0,
              "ticks": ""
             }
            },
            "type": "scatter3d"
           }
          ],
          "scattercarpet": [
           {
            "marker": {
             "colorbar": {
              "outlinewidth": 0,
              "ticks": ""
             }
            },
            "type": "scattercarpet"
           }
          ],
          "scattergeo": [
           {
            "marker": {
             "colorbar": {
              "outlinewidth": 0,
              "ticks": ""
             }
            },
            "type": "scattergeo"
           }
          ],
          "scattergl": [
           {
            "marker": {
             "colorbar": {
              "outlinewidth": 0,
              "ticks": ""
             }
            },
            "type": "scattergl"
           }
          ],
          "scattermapbox": [
           {
            "marker": {
             "colorbar": {
              "outlinewidth": 0,
              "ticks": ""
             }
            },
            "type": "scattermapbox"
           }
          ],
          "scatterpolar": [
           {
            "marker": {
             "colorbar": {
              "outlinewidth": 0,
              "ticks": ""
             }
            },
            "type": "scatterpolar"
           }
          ],
          "scatterpolargl": [
           {
            "marker": {
             "colorbar": {
              "outlinewidth": 0,
              "ticks": ""
             }
            },
            "type": "scatterpolargl"
           }
          ],
          "scatterternary": [
           {
            "marker": {
             "colorbar": {
              "outlinewidth": 0,
              "ticks": ""
             }
            },
            "type": "scatterternary"
           }
          ],
          "surface": [
           {
            "colorbar": {
             "outlinewidth": 0,
             "ticks": ""
            },
            "colorscale": [
             [
              0,
              "#0d0887"
             ],
             [
              0.1111111111111111,
              "#46039f"
             ],
             [
              0.2222222222222222,
              "#7201a8"
             ],
             [
              0.3333333333333333,
              "#9c179e"
             ],
             [
              0.4444444444444444,
              "#bd3786"
             ],
             [
              0.5555555555555556,
              "#d8576b"
             ],
             [
              0.6666666666666666,
              "#ed7953"
             ],
             [
              0.7777777777777778,
              "#fb9f3a"
             ],
             [
              0.8888888888888888,
              "#fdca26"
             ],
             [
              1,
              "#f0f921"
             ]
            ],
            "type": "surface"
           }
          ],
          "table": [
           {
            "cells": {
             "fill": {
              "color": "#EBF0F8"
             },
             "line": {
              "color": "white"
             }
            },
            "header": {
             "fill": {
              "color": "#C8D4E3"
             },
             "line": {
              "color": "white"
             }
            },
            "type": "table"
           }
          ]
         },
         "layout": {
          "annotationdefaults": {
           "arrowcolor": "#2a3f5f",
           "arrowhead": 0,
           "arrowwidth": 1
          },
          "autotypenumbers": "strict",
          "coloraxis": {
           "colorbar": {
            "outlinewidth": 0,
            "ticks": ""
           }
          },
          "colorscale": {
           "diverging": [
            [
             0,
             "#8e0152"
            ],
            [
             0.1,
             "#c51b7d"
            ],
            [
             0.2,
             "#de77ae"
            ],
            [
             0.3,
             "#f1b6da"
            ],
            [
             0.4,
             "#fde0ef"
            ],
            [
             0.5,
             "#f7f7f7"
            ],
            [
             0.6,
             "#e6f5d0"
            ],
            [
             0.7,
             "#b8e186"
            ],
            [
             0.8,
             "#7fbc41"
            ],
            [
             0.9,
             "#4d9221"
            ],
            [
             1,
             "#276419"
            ]
           ],
           "sequential": [
            [
             0,
             "#0d0887"
            ],
            [
             0.1111111111111111,
             "#46039f"
            ],
            [
             0.2222222222222222,
             "#7201a8"
            ],
            [
             0.3333333333333333,
             "#9c179e"
            ],
            [
             0.4444444444444444,
             "#bd3786"
            ],
            [
             0.5555555555555556,
             "#d8576b"
            ],
            [
             0.6666666666666666,
             "#ed7953"
            ],
            [
             0.7777777777777778,
             "#fb9f3a"
            ],
            [
             0.8888888888888888,
             "#fdca26"
            ],
            [
             1,
             "#f0f921"
            ]
           ],
           "sequentialminus": [
            [
             0,
             "#0d0887"
            ],
            [
             0.1111111111111111,
             "#46039f"
            ],
            [
             0.2222222222222222,
             "#7201a8"
            ],
            [
             0.3333333333333333,
             "#9c179e"
            ],
            [
             0.4444444444444444,
             "#bd3786"
            ],
            [
             0.5555555555555556,
             "#d8576b"
            ],
            [
             0.6666666666666666,
             "#ed7953"
            ],
            [
             0.7777777777777778,
             "#fb9f3a"
            ],
            [
             0.8888888888888888,
             "#fdca26"
            ],
            [
             1,
             "#f0f921"
            ]
           ]
          },
          "colorway": [
           "#636efa",
           "#EF553B",
           "#00cc96",
           "#ab63fa",
           "#FFA15A",
           "#19d3f3",
           "#FF6692",
           "#B6E880",
           "#FF97FF",
           "#FECB52"
          ],
          "font": {
           "color": "#2a3f5f"
          },
          "geo": {
           "bgcolor": "white",
           "lakecolor": "white",
           "landcolor": "#E5ECF6",
           "showlakes": true,
           "showland": true,
           "subunitcolor": "white"
          },
          "hoverlabel": {
           "align": "left"
          },
          "hovermode": "closest",
          "mapbox": {
           "style": "light"
          },
          "paper_bgcolor": "white",
          "plot_bgcolor": "#E5ECF6",
          "polar": {
           "angularaxis": {
            "gridcolor": "white",
            "linecolor": "white",
            "ticks": ""
           },
           "bgcolor": "#E5ECF6",
           "radialaxis": {
            "gridcolor": "white",
            "linecolor": "white",
            "ticks": ""
           }
          },
          "scene": {
           "xaxis": {
            "backgroundcolor": "#E5ECF6",
            "gridcolor": "white",
            "gridwidth": 2,
            "linecolor": "white",
            "showbackground": true,
            "ticks": "",
            "zerolinecolor": "white"
           },
           "yaxis": {
            "backgroundcolor": "#E5ECF6",
            "gridcolor": "white",
            "gridwidth": 2,
            "linecolor": "white",
            "showbackground": true,
            "ticks": "",
            "zerolinecolor": "white"
           },
           "zaxis": {
            "backgroundcolor": "#E5ECF6",
            "gridcolor": "white",
            "gridwidth": 2,
            "linecolor": "white",
            "showbackground": true,
            "ticks": "",
            "zerolinecolor": "white"
           }
          },
          "shapedefaults": {
           "line": {
            "color": "#2a3f5f"
           }
          },
          "ternary": {
           "aaxis": {
            "gridcolor": "white",
            "linecolor": "white",
            "ticks": ""
           },
           "baxis": {
            "gridcolor": "white",
            "linecolor": "white",
            "ticks": ""
           },
           "bgcolor": "#E5ECF6",
           "caxis": {
            "gridcolor": "white",
            "linecolor": "white",
            "ticks": ""
           }
          },
          "title": {
           "x": 0.05
          },
          "xaxis": {
           "automargin": true,
           "gridcolor": "white",
           "linecolor": "white",
           "ticks": "",
           "title": {
            "standoff": 15
           },
           "zerolinecolor": "white",
           "zerolinewidth": 2
          },
          "yaxis": {
           "automargin": true,
           "gridcolor": "white",
           "linecolor": "white",
           "ticks": "",
           "title": {
            "standoff": 15
           },
           "zerolinecolor": "white",
           "zerolinewidth": 2
          }
         }
        },
        "title": {
         "text": "Environmental Impact and Emissions Intensity per Participant by Grouping: GWP100 vs. N2O Emissions"
        },
        "width": 1200
       }
      },
      "image/png": "[encoded data removed]",
      "text/html": [
       "<div>                            <div id=\"f5783365-1875-473d-a734-008278d5ed87\" class=\"plotly-graph-div\" style=\"height:800px; width:1200px;\"></div>            <script type=\"text/javascript\">                require([\"plotly\"], function(Plotly) {                    window.PLOTLYENV=window.PLOTLYENV || {};                                    if (document.getElementById(\"f5783365-1875-473d-a734-008278d5ed87\")) {                    Plotly.newPlot(                        \"f5783365-1875-473d-a734-008278d5ed87\",                        [{\"branchvalues\":\"total\",\"customdata\":[[0.24265320311361915],[0.4999645688116593],[0.7691511530025442],[0.376911254632199],[0.199807660741273],[0.07733449925666314],[0.3788676186441718],[0.5397423436622519],[0.9191468411060615],[0.4189313569770992],[0.23366977809090905],[0.3232783215835913],[0.15907646818774704],[0.3760405871814813],[0.7661303730874033],[0.2527954309689817],[0.21351642882978714],[0.08069072795872315],[0.35471782484466036],[0.5535945240888158],[0.8424090284807692],[0.41030972651891895],[0.2175035964621514],[0.2590708579164618],[0.18970576506571937],[0.1945263379601475],[0.4209944044170544],[0.18271549619015778],[0.22416971773972605],[0.1084998216606083],[0.34334880149074065],[0.5559893020392159],[0.8442018670211041],[0.40229153892633934],[0.22686475770303025],[0.304127215937565],[0.3236051649841439],[0.19778079835458615],[0.4718261067410154],[0.23005588168080088],[0.2225187283867925],[0.24424361846550288],[0.3384894248785047],[0.5473630215618479],[0.8500217420592214],[0.41138360682682923],[0.2196835207903226],[0.30122733530046936],[0.34138616234146335],[0.36334126837019254],[0.8250366667864761],[0.37944343023877747],[0.23176585972839522],[0.2996825515261194],[0.35250189006289306],[0.5525699054384855],[0.8415560131878456],[0.41200998688461526],[0.22317426567307683],[0.3079557081091704],[0.34548682269743586],[0.5494674600066666],[0.8535477086459855],[0.40154646016010503],[0.23699175424],[0.306595227100346],[0.37462861594117647],[0.5718235006796538],[0.882762953053571],[0.4198542272097901],[0.23081460342105267],[0.32309002396835435],[0.2867106410151865],[0.4121480188993235],[0.7267690825602183],[0.32706729418807556],[0.22215043948436183],[0.23898699939657786],[0.3574380687793748],[0.5536462662404588],[0.863947988910254],[0.4124780869443378],[0.22544634153994864],[0.30438278091666954],[0.3271904796907557],[0.49733800515963994],[0.8023955941587754],[0.3761331615059013],[0.2238187889955978],[0.2796849504210567]],\"domain\":{\"x\":[0.0,1.0],\"y\":[0.0,1.0]},\"hovertemplate\":\"labels=%{label}<br>mean_gwp100_co2e_per_n=%{value}<br>parent=%{parent}<br>id=%{id}<br>n2o_per_n=%{color}<extra></extra>\",\"ids\":[\"fish/female/20-29\",\"meat/female/20-29\",\"meat100/female/20-29\",\"meat50/female/20-29\",\"vegan/female/20-29\",\"veggie/female/20-29\",\"fish/male/20-29\",\"meat/male/20-29\",\"meat100/male/20-29\",\"meat50/male/20-29\",\"vegan/male/20-29\",\"veggie/male/20-29\",\"fish/female/30-39\",\"meat/female/30-39\",\"meat100/female/30-39\",\"meat50/female/30-39\",\"vegan/female/30-39\",\"veggie/female/30-39\",\"fish/male/30-39\",\"meat/male/30-39\",\"meat100/male/30-39\",\"meat50/male/30-39\",\"vegan/male/30-39\",\"veggie/male/30-39\",\"fish/female/40-49\",\"meat/female/40-49\",\"meat100/female/40-49\",\"meat50/female/40-49\",\"vegan/female/40-49\",\"veggie/female/40-49\",\"fish/male/40-49\",\"meat/male/40-49\",\"meat100/male/40-49\",\"meat50/male/40-49\",\"vegan/male/40-49\",\"veggie/male/40-49\",\"fish/female/50-59\",\"meat/female/50-59\",\"meat100/female/50-59\",\"meat50/female/50-59\",\"vegan/female/50-59\",\"veggie/female/50-59\",\"fish/male/50-59\",\"meat/male/50-59\",\"meat100/male/50-59\",\"meat50/male/50-59\",\"vegan/male/50-59\",\"veggie/male/50-59\",\"fish/female/60-69\",\"meat/female/60-69\",\"meat100/female/60-69\",\"meat50/female/60-69\",\"vegan/female/60-69\",\"veggie/female/60-69\",\"fish/male/60-69\",\"meat/male/60-69\",\"meat100/male/60-69\",\"meat50/male/60-69\",\"vegan/male/60-69\",\"veggie/male/60-69\",\"fish/female/70-79\",\"meat/female/70-79\",\"meat100/female/70-79\",\"meat50/female/70-79\",\"vegan/female/70-79\",\"veggie/female/70-79\",\"fish/male/70-79\",\"meat/male/70-79\",\"meat100/male/70-79\",\"meat50/male/70-79\",\"vegan/male/70-79\",\"veggie/male/70-79\",\"fish/female\",\"meat/female\",\"meat100/female\",\"meat50/female\",\"vegan/female\",\"veggie/female\",\"fish/male\",\"meat/male\",\"meat100/male\",\"meat50/male\",\"vegan/male\",\"veggie/male\",\"fish\",\"meat\",\"meat100\",\"meat50\",\"vegan\",\"veggie\"],\"labels\":[\"20-29\",\"20-29\",\"20-29\",\"20-29\",\"20-29\",\"20-29\",\"20-29\",\"20-29\",\"20-29\",\"20-29\",\"20-29\",\"20-29\",\"30-39\",\"30-39\",\"30-39\",\"30-39\",\"30-39\",\"30-39\",\"30-39\",\"30-39\",\"30-39\",\"30-39\",\"30-39\",\"30-39\",\"40-49\",\"40-49\",\"40-49\",\"40-49\",\"40-49\",\"40-49\",\"40-49\",\"40-49\",\"40-49\",\"40-49\",\"40-49\",\"40-49\",\"50-59\",\"50-59\",\"50-59\",\"50-59\",\"50-59\",\"50-59\",\"50-59\",\"50-59\",\"50-59\",\"50-59\",\"50-59\",\"50-59\",\"60-69\",\"60-69\",\"60-69\",\"60-69\",\"60-69\",\"60-69\",\"60-69\",\"60-69\",\"60-69\",\"60-69\",\"60-69\",\"60-69\",\"70-79\",\"70-79\",\"70-79\",\"70-79\",\"70-79\",\"70-79\",\"70-79\",\"70-79\",\"70-79\",\"70-79\",\"70-79\",\"70-79\",\"female\",\"female\",\"female\",\"female\",\"female\",\"female\",\"male\",\"male\",\"male\",\"male\",\"male\",\"male\",\"fish\",\"meat\",\"meat100\",\"meat50\",\"vegan\",\"veggie\"],\"marker\":{\"coloraxis\":\"coloraxis\",\"colors\":[0.24265320311361915,0.4999645688116593,0.7691511530025442,0.376911254632199,0.199807660741273,0.07733449925666314,0.3788676186441718,0.5397423436622519,0.9191468411060615,0.4189313569770992,0.23366977809090905,0.3232783215835913,0.15907646818774704,0.3760405871814813,0.7661303730874033,0.2527954309689817,0.21351642882978714,0.08069072795872315,0.35471782484466036,0.5535945240888158,0.8424090284807692,0.41030972651891895,0.2175035964621514,0.2590708579164618,0.18970576506571937,0.1945263379601475,0.4209944044170544,0.18271549619015778,0.22416971773972605,0.1084998216606083,0.34334880149074065,0.5559893020392159,0.8442018670211041,0.40229153892633934,0.22686475770303025,0.304127215937565,0.3236051649841439,0.19778079835458615,0.4718261067410154,0.23005588168080088,0.2225187283867925,0.24424361846550288,0.3384894248785047,0.5473630215618479,0.8500217420592214,0.41138360682682923,0.2196835207903226,0.30122733530046936,0.34138616234146335,0.36334126837019254,0.8250366667864761,0.37944343023877747,0.23176585972839522,0.2996825515261194,0.35250189006289306,0.5525699054384855,0.8415560131878456,0.41200998688461526,0.22317426567307683,0.3079557081091704,0.34548682269743586,0.5494674600066666,0.8535477086459855,0.40154646016010503,0.23699175424,0.306595227100346,0.37462861594117647,0.5718235006796538,0.882762953053571,0.4198542272097901,0.23081460342105267,0.32309002396835435,0.2867106410151865,0.4121480188993235,0.7267690825602183,0.32706729418807556,0.22215043948436183,0.23898699939657786,0.3574380687793748,0.5536462662404588,0.863947988910254,0.4124780869443378,0.22544634153994864,0.30438278091666954,0.3271904796907557,0.49733800515963994,0.8023955941587754,0.3761331615059013,0.2238187889955978,0.2796849504210567]},\"name\":\"\",\"parents\":[\"fish/female\",\"meat/female\",\"meat100/female\",\"meat50/female\",\"vegan/female\",\"veggie/female\",\"fish/male\",\"meat/male\",\"meat100/male\",\"meat50/male\",\"vegan/male\",\"veggie/male\",\"fish/female\",\"meat/female\",\"meat100/female\",\"meat50/female\",\"vegan/female\",\"veggie/female\",\"fish/male\",\"meat/male\",\"meat100/male\",\"meat50/male\",\"vegan/male\",\"veggie/male\",\"fish/female\",\"meat/female\",\"meat100/female\",\"meat50/female\",\"vegan/female\",\"veggie/female\",\"fish/male\",\"meat/male\",\"meat100/male\",\"meat50/male\",\"vegan/male\",\"veggie/male\",\"fish/female\",\"meat/female\",\"meat100/female\",\"meat50/female\",\"vegan/female\",\"veggie/female\",\"fish/male\",\"meat/male\",\"meat100/male\",\"meat50/male\",\"vegan/male\",\"veggie/male\",\"fish/female\",\"meat/female\",\"meat100/female\",\"meat50/female\",\"vegan/female\",\"veggie/female\",\"fish/male\",\"meat/male\",\"meat100/male\",\"meat50/male\",\"vegan/male\",\"veggie/male\",\"fish/female\",\"meat/female\",\"meat100/female\",\"meat50/female\",\"vegan/female\",\"veggie/female\",\"fish/male\",\"meat/male\",\"meat100/male\",\"meat50/male\",\"vegan/male\",\"veggie/male\",\"fish\",\"meat\",\"meat100\",\"meat50\",\"vegan\",\"veggie\",\"fish\",\"meat\",\"meat100\",\"meat50\",\"vegan\",\"veggie\",\"\",\"\",\"\",\"\",\"\",\"\"],\"values\":[2895.7061766422185,5243.986235672828,7539.3939771502055,4145.654639819715,2108.1844452148216,896.2143448326292,4524.045120002571,5625.969584442549,8765.23236081481,4518.639867346366,2536.7265283047377,3824.8124745742225,1924.2474454816718,4000.9925538677862,7796.886503839854,2854.6772142966784,2239.281139725588,937.9784327690779,4280.894984307994,5716.633521477181,8138.946414833892,4586.0395565635845,2394.4772464113908,3102.1474484029854,2294.6737461006496,2082.410733032291,4300.330218467247,2056.9718070024205,2337.047248174169,1271.5001885117051,4169.455790956345,5875.421879098,8489.908775387608,4583.058560565335,2410.873633362491,3645.2506568927042,3895.0094623790824,2128.893332083443,4879.856209941906,2591.0955734390873,2278.237136406113,2844.5763236414455,4133.741637407093,5845.732022233653,8592.800834782514,4567.92052395062,2273.4146564709677,3518.94330806285,4015.7553395733717,3894.1712384677094,8516.476312091592,4267.560939178354,2379.8815447274696,3463.9601850459103,4104.004616528849,5887.454679568929,8376.5282934796,4526.302168957595,2231.0434979685383,3501.843105305301,3955.74576009181,5706.120668974561,8642.56847700614,4432.936558045785,2560.0775352862,3462.129196511104,4189.994829215353,5931.579035023312,8841.310310896512,4689.171951488497,2404.6650688558416,3625.118285015241,18981.137930268804,23056.57476209862,41675.51169849694,20348.89673178204,13902.709049534362,12876.358671311873,25402.136978418202,34882.79072184362,51204.72699019494,27471.132628871997,14251.200631373968,21218.115278253303,44383.27490868701,57939.365483942245,92880.23868869188,47820.029360654036,28153.909680908328,34094.473949565174],\"type\":\"treemap\"}],                        {\"template\":{\"data\":{\"histogram2dcontour\":[{\"type\":\"histogram2dcontour\",\"colorbar\":{\"outlinewidth\":0,\"ticks\":\"\"},\"colorscale\":[[0.0,\"#0d0887\"],[0.1111111111111111,\"#46039f\"],[0.2222222222222222,\"#7201a8\"],[0.3333333333333333,\"#9c179e\"],[0.4444444444444444,\"#bd3786\"],[0.5555555555555556,\"#d8576b\"],[0.6666666666666666,\"#ed7953\"],[0.7777777777777778,\"#fb9f3a\"],[0.8888888888888888,\"#fdca26\"],[1.0,\"#f0f921\"]]}],\"choropleth\":[{\"type\":\"choropleth\",\"colorbar\":{\"outlinewidth\":0,\"ticks\":\"\"}}],\"histogram2d\":[{\"type\":\"histogram2d\",\"colorbar\":{\"outlinewidth\":0,\"ticks\":\"\"},\"colorscale\":[[0.0,\"#0d0887\"],[0.1111111111111111,\"#46039f\"],[0.2222222222222222,\"#7201a8\"],[0.3333333333333333,\"#9c179e\"],[0.4444444444444444,\"#bd3786\"],[0.5555555555555556,\"#d8576b\"],[0.6666666666666666,\"#ed7953\"],[0.7777777777777778,\"#fb9f3a\"],[0.8888888888888888,\"#fdca26\"],[1.0,\"#f0f921\"]]}],\"heatmap\":[{\"type\":\"heatmap\",\"colorbar\":{\"outlinewidth\":0,\"ticks\":\"\"},\"colorscale\":[[0.0,\"#0d0887\"],[0.1111111111111111,\"#46039f\"],[0.2222222222222222,\"#7201a8\"],[0.3333333333333333,\"#9c179e\"],[0.4444444444444444,\"#bd3786\"],[0.5555555555555556,\"#d8576b\"],[0.6666666666666666,\"#ed7953\"],[0.7777777777777778,\"#fb9f3a\"],[0.8888888888888888,\"#fdca26\"],[1.0,\"#f0f921\"]]}],\"heatmapgl\":[{\"type\":\"heatmapgl\",\"colorbar\":{\"outlinewidth\":0,\"ticks\":\"\"},\"colorscale\":[[0.0,\"#0d0887\"],[0.1111111111111111,\"#46039f\"],[0.2222222222222222,\"#7201a8\"],[0.3333333333333333,\"#9c179e\"],[0.4444444444444444,\"#bd3786\"],[0.5555555555555556,\"#d8576b\"],[0.6666666666666666,\"#ed7953\"],[0.7777777777777778,\"#fb9f3a\"],[0.8888888888888888,\"#fdca26\"],[1.0,\"#f0f921\"]]}],\"contourcarpet\":[{\"type\":\"contourcarpet\",\"colorbar\":{\"outlinewidth\":0,\"ticks\":\"\"}}],\"contour\":[{\"type\":\"contour\",\"colorbar\":{\"outlinewidth\":0,\"ticks\":\"\"},\"colorscale\":[[0.0,\"#0d0887\"],[0.1111111111111111,\"#46039f\"],[0.2222222222222222,\"#7201a8\"],[0.3333333333333333,\"#9c179e\"],[0.4444444444444444,\"#bd3786\"],[0.5555555555555556,\"#d8576b\"],[0.6666666666666666,\"#ed7953\"],[0.7777777777777778,\"#fb9f3a\"],[0.8888888888888888,\"#fdca26\"],[1.0,\"#f0f921\"]]}],\"surface\":[{\"type\":\"surface\",\"colorbar\":{\"outlinewidth\":0,\"ticks\":\"\"},\"colorscale\":[[0.0,\"#0d0887\"],[0.1111111111111111,\"#46039f\"],[0.2222222222222222,\"#7201a8\"],[0.3333333333333333,\"#9c179e\"],[0.4444444444444444,\"#bd3786\"],[0.5555555555555556,\"#d8576b\"],[0.6666666666666666,\"#ed7953\"],[0.7777777777777778,\"#fb9f3a\"],[0.8888888888888888,\"#fdca26\"],[1.0,\"#f0f921\"]]}],\"mesh3d\":[{\"type\":\"mesh3d\",\"colorbar\":{\"outlinewidth\":0,\"ticks\":\"\"}}],\"scatter\":[{\"fillpattern\":{\"fillmode\":\"overlay\",\"size\":10,\"solidity\":0.2},\"type\":\"scatter\"}],\"parcoords\":[{\"type\":\"parcoords\",\"line\":{\"colorbar\":{\"outlinewidth\":0,\"ticks\":\"\"}}}],\"scatterpolargl\":[{\"type\":\"scatterpolargl\",\"marker\":{\"colorbar\":{\"outlinewidth\":0,\"ticks\":\"\"}}}],\"bar\":[{\"error_x\":{\"color\":\"#2a3f5f\"},\"error_y\":{\"color\":\"#2a3f5f\"},\"marker\":{\"line\":{\"color\":\"#E5ECF6\",\"width\":0.5},\"pattern\":{\"fillmode\":\"overlay\",\"size\":10,\"solidity\":0.2}},\"type\":\"bar\"}],\"scattergeo\":[{\"type\":\"scattergeo\",\"marker\":{\"colorbar\":{\"outlinewidth\":0,\"ticks\":\"\"}}}],\"scatterpolar\":[{\"type\":\"scatterpolar\",\"marker\":{\"colorbar\":{\"outlinewidth\":0,\"ticks\":\"\"}}}],\"histogram\":[{\"marker\":{\"pattern\":{\"fillmode\":\"overlay\",\"size\":10,\"solidity\":0.2}},\"type\":\"histogram\"}],\"scattergl\":[{\"type\":\"scattergl\",\"marker\":{\"colorbar\":{\"outlinewidth\":0,\"ticks\":\"\"}}}],\"scatter3d\":[{\"type\":\"scatter3d\",\"line\":{\"colorbar\":{\"outlinewidth\":0,\"ticks\":\"\"}},\"marker\":{\"colorbar\":{\"outlinewidth\":0,\"ticks\":\"\"}}}],\"scattermapbox\":[{\"type\":\"scattermapbox\",\"marker\":{\"colorbar\":{\"outlinewidth\":0,\"ticks\":\"\"}}}],\"scatterternary\":[{\"type\":\"scatterternary\",\"marker\":{\"colorbar\":{\"outlinewidth\":0,\"ticks\":\"\"}}}],\"scattercarpet\":[{\"type\":\"scattercarpet\",\"marker\":{\"colorbar\":{\"outlinewidth\":0,\"ticks\":\"\"}}}],\"carpet\":[{\"aaxis\":{\"endlinecolor\":\"#2a3f5f\",\"gridcolor\":\"white\",\"linecolor\":\"white\",\"minorgridcolor\":\"white\",\"startlinecolor\":\"#2a3f5f\"},\"baxis\":{\"endlinecolor\":\"#2a3f5f\",\"gridcolor\":\"white\",\"linecolor\":\"white\",\"minorgridcolor\":\"white\",\"startlinecolor\":\"#2a3f5f\"},\"type\":\"carpet\"}],\"table\":[{\"cells\":{\"fill\":{\"color\":\"#EBF0F8\"},\"line\":{\"color\":\"white\"}},\"header\":{\"fill\":{\"color\":\"#C8D4E3\"},\"line\":{\"color\":\"white\"}},\"type\":\"table\"}],\"barpolar\":[{\"marker\":{\"line\":{\"color\":\"#E5ECF6\",\"width\":0.5},\"pattern\":{\"fillmode\":\"overlay\",\"size\":10,\"solidity\":0.2}},\"type\":\"barpolar\"}],\"pie\":[{\"automargin\":true,\"type\":\"pie\"}]},\"layout\":{\"autotypenumbers\":\"strict\",\"colorway\":[\"#636efa\",\"#EF553B\",\"#00cc96\",\"#ab63fa\",\"#FFA15A\",\"#19d3f3\",\"#FF6692\",\"#B6E880\",\"#FF97FF\",\"#FECB52\"],\"font\":{\"color\":\"#2a3f5f\"},\"hovermode\":\"closest\",\"hoverlabel\":{\"align\":\"left\"},\"paper_bgcolor\":\"white\",\"plot_bgcolor\":\"#E5ECF6\",\"polar\":{\"bgcolor\":\"#E5ECF6\",\"angularaxis\":{\"gridcolor\":\"white\",\"linecolor\":\"white\",\"ticks\":\"\"},\"radialaxis\":{\"gridcolor\":\"white\",\"linecolor\":\"white\",\"ticks\":\"\"}},\"ternary\":{\"bgcolor\":\"#E5ECF6\",\"aaxis\":{\"gridcolor\":\"white\",\"linecolor\":\"white\",\"ticks\":\"\"},\"baxis\":{\"gridcolor\":\"white\",\"linecolor\":\"white\",\"ticks\":\"\"},\"caxis\":{\"gridcolor\":\"white\",\"linecolor\":\"white\",\"ticks\":\"\"}},\"coloraxis\":{\"colorbar\":{\"outlinewidth\":0,\"ticks\":\"\"}},\"colorscale\":{\"sequential\":[[0.0,\"#0d0887\"],[0.1111111111111111,\"#46039f\"],[0.2222222222222222,\"#7201a8\"],[0.3333333333333333,\"#9c179e\"],[0.4444444444444444,\"#bd3786\"],[0.5555555555555556,\"#d8576b\"],[0.6666666666666666,\"#ed7953\"],[0.7777777777777778,\"#fb9f3a\"],[0.8888888888888888,\"#fdca26\"],[1.0,\"#f0f921\"]],\"sequentialminus\":[[0.0,\"#0d0887\"],[0.1111111111111111,\"#46039f\"],[0.2222222222222222,\"#7201a8\"],[0.3333333333333333,\"#9c179e\"],[0.4444444444444444,\"#bd3786\"],[0.5555555555555556,\"#d8576b\"],[0.6666666666666666,\"#ed7953\"],[0.7777777777777778,\"#fb9f3a\"],[0.8888888888888888,\"#fdca26\"],[1.0,\"#f0f921\"]],\"diverging\":[[0,\"#8e0152\"],[0.1,\"#c51b7d\"],[0.2,\"#de77ae\"],[0.3,\"#f1b6da\"],[0.4,\"#fde0ef\"],[0.5,\"#f7f7f7\"],[0.6,\"#e6f5d0\"],[0.7,\"#b8e186\"],[0.8,\"#7fbc41\"],[0.9,\"#4d9221\"],[1,\"#276419\"]]},\"xaxis\":{\"gridcolor\":\"white\",\"linecolor\":\"white\",\"ticks\":\"\",\"title\":{\"standoff\":15},\"zerolinecolor\":\"white\",\"automargin\":true,\"zerolinewidth\":2},\"yaxis\":{\"gridcolor\":\"white\",\"linecolor\":\"white\",\"ticks\":\"\",\"title\":{\"standoff\":15},\"zerolinecolor\":\"white\",\"automargin\":true,\"zerolinewidth\":2},\"scene\":{\"xaxis\":{\"backgroundcolor\":\"#E5ECF6\",\"gridcolor\":\"white\",\"linecolor\":\"white\",\"showbackground\":true,\"ticks\":\"\",\"zerolinecolor\":\"white\",\"gridwidth\":2},\"yaxis\":{\"backgroundcolor\":\"#E5ECF6\",\"gridcolor\":\"white\",\"linecolor\":\"white\",\"showbackground\":true,\"ticks\":\"\",\"zerolinecolor\":\"white\",\"gridwidth\":2},\"zaxis\":{\"backgroundcolor\":\"#E5ECF6\",\"gridcolor\":\"white\",\"linecolor\":\"white\",\"showbackground\":true,\"ticks\":\"\",\"zerolinecolor\":\"white\",\"gridwidth\":2}},\"shapedefaults\":{\"line\":{\"color\":\"#2a3f5f\"}},\"annotationdefaults\":{\"arrowcolor\":\"#2a3f5f\",\"arrowhead\":0,\"arrowwidth\":1},\"geo\":{\"bgcolor\":\"white\",\"landcolor\":\"#E5ECF6\",\"subunitcolor\":\"white\",\"showland\":true,\"showlakes\":true,\"lakecolor\":\"white\"},\"title\":{\"x\":0.05},\"mapbox\":{\"style\":\"light\"}}},\"coloraxis\":{\"colorbar\":{\"title\":{\"text\":\"Mean N2Oe / n [g/day]\",\"side\":\"right\"},\"len\":0.85,\"y\":0.5},\"colorscale\":[[0.0,\"rgb(158,1,66)\"],[0.1,\"rgb(213,62,79)\"],[0.2,\"rgb(244,109,67)\"],[0.3,\"rgb(253,174,97)\"],[0.4,\"rgb(254,224,139)\"],[0.5,\"rgb(255,255,191)\"],[0.6,\"rgb(230,245,152)\"],[0.7,\"rgb(171,221,164)\"],[0.8,\"rgb(102,194,165)\"],[0.9,\"rgb(50,136,189)\"],[1.0,\"rgb(94,79,162)\"]]},\"legend\":{\"tracegroupgap\":0},\"title\":{\"text\":\"Environmental Impact and Emissions Intensity per Participant by Grouping: GWP100 vs. N2O Emissions\"},\"height\":800,\"width\":1200,\"margin\":{\"t\":100,\"r\":320,\"b\":100,\"l\":50}},                        {\"responsive\": true}                    ).then(function(){\n",
       "                            \n",
       "var gd = document.getElementById('f5783365-1875-473d-a734-008278d5ed87');\n",
       "var x = new MutationObserver(function (mutations, observer) {{\n",
       "        var display = window.getComputedStyle(gd).display;\n",
       "        if (!display || display === 'none') {{\n",
       "            console.log([gd, 'removed!']);\n",
       "            Plotly.purge(gd);\n",
       "            observer.disconnect();\n",
       "        }}\n",
       "}});\n",
       "\n",
       "// Listen for the removal of the full notebook cells\n",
       "var notebookContainer = gd.closest('#notebook-container');\n",
       "if (notebookContainer) {{\n",
       "    x.observe(notebookContainer, {childList: true});\n",
       "}}\n",
       "\n",
       "// Listen for the clearing of the current output cell\n",
       "var outputEl = gd.closest('.output');\n",
       "if (outputEl) {{\n",
       "    x.observe(outputEl, {childList: true});\n",
       "}}\n",
       "\n",
       "                        })                };                });            </script>        </div>"
      ]
     },
     "metadata": {},
     "output_type": "display_data"
    }
   ],
   "source": [
    "fig = px.treemap(data_frame=df, \n",
    "                 path=['diet_group', 'sex', 'age_group'], \n",
    "                 values='mean_gwp100_co2e_per_n', \n",
    "                 color='n2o_per_n', \n",
    "                 color_continuous_scale='spectral', \n",
    "                 title='Environmental Impact and Emissions Intensity per Participant by Grouping: GWP100 vs. N2O Emissions',\n",
    "                 height=800,\n",
    "                 width=1200)\n",
    "\n",
    "fig.update_coloraxes(colorbar_title='Mean N2Oe / n [g/day]', \n",
    "                     colorbar=dict(len=0.85, title=dict(side='right'), y=0.5))\n",
    "\n",
    "fig.update_layout(margin=dict(t=100, r=320, b=100, l=50))\n",
    "fig.show()"
   ]
  },
  {
   "cell_type": "code",
   "execution_count": 355,
   "id": "b8054a29-309f-49ea-80f8-cbbe48ad9088",
   "metadata": {},
   "outputs": [
    {
     "data": {
      "image/png": "[encoded data removed]",
      "text/plain": [
       "<Figure size 1200x800 with 1 Axes>"
      ]
     },
     "metadata": {},
     "output_type": "display_data"
    }
   ],
   "source": [
    "# convert dictionary to dataframe\n",
    "mean_ghgs_n2o_df = pd.DataFrame(list(mean_ghgs_n2o_per_participant_by_group.items()), columns=['grouping', 'N2O_per_n'])\n",
    "\n",
    "# merge n2o_df with original df\n",
    "mean_ghgs_n2o_df = pd.merge(mean_ghgs_n2o_df, df[['grouping', 'sex']], on='grouping')\n",
    "\n",
    "mean_ghgs_n2o_df_sorted = mean_ghgs_n2o_df.sort_values(by='N2O_per_n', ascending=False)\n",
    "top_50_percent_rows = int(len(mean_ghgs_n2o_df_sorted) * 0.5)\n",
    "top_50_percent_df = mean_ghgs_n2o_df_sorted.head(top_50_percent_rows)\n",
    "\n",
    "plt.figure(figsize=(12, 8))\n",
    "sns.barplot(x='N2O_per_n', y='grouping', data=top_50_percent_df, hue='sex', palette='coolwarm', dodge=False)\n",
    "plt.xlabel('Mean N2O emissions [g/day]')\n",
    "plt.ylabel('Grouping')\n",
    "plt.title('50th Percentile Mean N2O Emissions per Participant by Grouping')\n",
    "plt.legend(title='Sex')\n",
    "plt.show()\n",
    "\n",
    "#for i, group in enumerate(top_50_percent_df['grouping']):\n",
    "    #if '70-79' in group:        \n",
    "        #ax.text(top_50_percent_df.loc[top_50_percent_df['grouping'] == group, 'n2o_per_n'].values[0], i, group, \n",
    "                #color='red', weight='bold')\n",
    "\n",
    "#plt.show()"
   ]
  },
  {
   "cell_type": "code",
   "execution_count": 336,
   "id": "00af6432-8d8d-44ab-9055-89d868185e27",
   "metadata": {},
   "outputs": [
    {
     "name": "stdout",
     "output_type": "stream",
     "text": [
      "Number of male entries in 50th percentile: 22\n",
      "\n",
      "Percentage of male entries in 50th percentile: 61 %\n"
     ]
    }
   ],
   "source": [
    "male_entries_df = top_50_percent_df[top_50_percent_df['sex'] == 'male']\n",
    "\n",
    "# number of unique male entries\n",
    "num_male_unique_entries = male_entries_df['grouping'].nunique()\n",
    "print(\"Number of male entries in 50th percentile:\", num_male_unique_entries)\n",
    "\n",
    "num_total_unique_entries = top_50_percent_df['grouping'].nunique()\n",
    "percentage_male_unique_entries = (num_male_unique_entries / num_total_unique_entries) * 100\n",
    "\n",
    "print(\"\\nPercentage of male entries in 50th percentile:\", f\"{percentage_male_unique_entries:.0f} %\")"
   ]
  }
 ],
 "metadata": {
  "kernelspec": {
   "display_name": "Python 3 (ipykernel)",
   "language": "python",
   "name": "python3"
  },
  "language_info": {
   "codemirror_mode": {
    "name": "ipython",
    "version": 3
   },
   "file_extension": ".py",
   "mimetype": "text/x-python",
   "name": "python",
   "nbconvert_exporter": "python",
   "pygments_lexer": "ipython3",
   "version": "3.11.7"
  }
 },
 "nbformat": 4,
 "nbformat_minor": 5
}
